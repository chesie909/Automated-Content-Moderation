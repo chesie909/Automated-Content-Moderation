{
 "cells": [
  {
   "cell_type": "markdown",
   "id": "7bc0d383-9c72-489b-b32a-e009f80b5cb4",
   "metadata": {},
   "source": [
    "# Jigsaw Toxic Comment Classification: Preliminary Analysis + ML Classification"
   ]
  },
  {
   "cell_type": "markdown",
   "id": "36d56e42-9c10-4a38-b7a8-4b95f7be9949",
   "metadata": {},
   "source": [
    "Chesie Yu"
   ]
  },
  {
   "cell_type": "markdown",
   "id": "25f7574c-e3bd-425d-87a6-6c7efdf90140",
   "metadata": {},
   "source": [
    "5/8/2023"
   ]
  },
  {
   "cell_type": "markdown",
   "id": "ff44a4a2-6ac8-4463-b3d1-051d47ad66f3",
   "metadata": {},
   "source": [
    "<style type = \"text/css\">  \n",
    "    body {\n",
    "        font-family: \"Serif\"; \n",
    "        font-size: 12pt;\n",
    "    }\n",
    "    em {\n",
    "        color: #4E7F9E;\n",
    "    }\n",
    "    strong {\n",
    "        color: #436D87;\n",
    "    }\n",
    "    .jp-RenderedHTMLCommon a:link { \n",
    "        color: #94C1C9;\n",
    "    }\n",
    "    .jp-RenderedHTMLCommon a:visited { \n",
    "        color: #94C1C9;\n",
    "    }\n",
    "    li {\n",
    "        color: #4E7F9E;\n",
    "    }\n",
    "    .jp-RenderedHTMLCommon code {\n",
    "        color: #4E7F9E;\n",
    "    }  \n",
    "    img {\n",
    "        display: block;\n",
    "        margin: auto;\n",
    "    } \n",
    "</style>"
   ]
  },
  {
   "cell_type": "code",
   "execution_count": 1,
   "id": "a8e4dd3e-dbfd-41ad-9d2f-badbc7e78231",
   "metadata": {
    "tags": []
   },
   "outputs": [],
   "source": [
    "# Import the libraries\n",
    "import numpy as np \n",
    "import pandas as pd\n",
    "import matplotlib.pyplot as plt  \n",
    "import seaborn as sns \n",
    "import time, warnings"
   ]
  },
  {
   "cell_type": "markdown",
   "id": "0e18b8ee-7573-4ec2-bb52-a2db6beb0c65",
   "metadata": {},
   "source": [
    "  "
   ]
  },
  {
   "cell_type": "markdown",
   "id": "18015ee7-732a-4bee-b853-abca7a07b00a",
   "metadata": {},
   "source": [
    "## I. Data Exploration"
   ]
  },
  {
   "cell_type": "markdown",
   "id": "f2657d4f-b554-4155-b64b-4b4ecff0a480",
   "metadata": {},
   "source": [
    "_The objective of this study is to detect toxic speech from text, using the Jigsaw toxic comment dataset obtained from [Kaggle](https://www.kaggle.com/competitions/jigsaw-toxic-comment-classification-challenge/data).  This notebook will focus on using machine learning models to identify only toxic subtype._  "
   ]
  },
  {
   "cell_type": "markdown",
   "id": "bdc9269d-b7de-4285-8509-897467ce6fc5",
   "metadata": {},
   "source": [
    "  "
   ]
  },
  {
   "cell_type": "markdown",
   "id": "87c439f3-42d6-49ef-9f9d-922287f27020",
   "metadata": {},
   "source": [
    "### 1.1 Training Set"
   ]
  },
  {
   "cell_type": "code",
   "execution_count": 8,
   "id": "96077fcb-a993-461c-97a7-7f75811c75f3",
   "metadata": {},
   "outputs": [
    {
     "data": {
      "text/html": [
       "<div>\n",
       "<style scoped>\n",
       "    .dataframe tbody tr th:only-of-type {\n",
       "        vertical-align: middle;\n",
       "    }\n",
       "\n",
       "    .dataframe tbody tr th {\n",
       "        vertical-align: top;\n",
       "    }\n",
       "\n",
       "    .dataframe thead th {\n",
       "        text-align: right;\n",
       "    }\n",
       "</style>\n",
       "<table border=\"1\" class=\"dataframe\">\n",
       "  <thead>\n",
       "    <tr style=\"text-align: right;\">\n",
       "      <th></th>\n",
       "      <th>id</th>\n",
       "      <th>comment_text</th>\n",
       "      <th>toxic</th>\n",
       "      <th>severe_toxic</th>\n",
       "      <th>obscene</th>\n",
       "      <th>threat</th>\n",
       "      <th>insult</th>\n",
       "      <th>identity_hate</th>\n",
       "    </tr>\n",
       "  </thead>\n",
       "  <tbody>\n",
       "    <tr>\n",
       "      <th>0</th>\n",
       "      <td>0000997932d777bf</td>\n",
       "      <td>Explanation\\nWhy the edits made under my usern...</td>\n",
       "      <td>0</td>\n",
       "      <td>0</td>\n",
       "      <td>0</td>\n",
       "      <td>0</td>\n",
       "      <td>0</td>\n",
       "      <td>0</td>\n",
       "    </tr>\n",
       "    <tr>\n",
       "      <th>1</th>\n",
       "      <td>000103f0d9cfb60f</td>\n",
       "      <td>D'aww! He matches this background colour I'm s...</td>\n",
       "      <td>0</td>\n",
       "      <td>0</td>\n",
       "      <td>0</td>\n",
       "      <td>0</td>\n",
       "      <td>0</td>\n",
       "      <td>0</td>\n",
       "    </tr>\n",
       "    <tr>\n",
       "      <th>2</th>\n",
       "      <td>000113f07ec002fd</td>\n",
       "      <td>Hey man, I'm really not trying to edit war. It...</td>\n",
       "      <td>0</td>\n",
       "      <td>0</td>\n",
       "      <td>0</td>\n",
       "      <td>0</td>\n",
       "      <td>0</td>\n",
       "      <td>0</td>\n",
       "    </tr>\n",
       "    <tr>\n",
       "      <th>3</th>\n",
       "      <td>0001b41b1c6bb37e</td>\n",
       "      <td>\"\\nMore\\nI can't make any real suggestions on ...</td>\n",
       "      <td>0</td>\n",
       "      <td>0</td>\n",
       "      <td>0</td>\n",
       "      <td>0</td>\n",
       "      <td>0</td>\n",
       "      <td>0</td>\n",
       "    </tr>\n",
       "    <tr>\n",
       "      <th>4</th>\n",
       "      <td>0001d958c54c6e35</td>\n",
       "      <td>You, sir, are my hero. Any chance you remember...</td>\n",
       "      <td>0</td>\n",
       "      <td>0</td>\n",
       "      <td>0</td>\n",
       "      <td>0</td>\n",
       "      <td>0</td>\n",
       "      <td>0</td>\n",
       "    </tr>\n",
       "  </tbody>\n",
       "</table>\n",
       "</div>"
      ],
      "text/plain": [
       "                 id                                       comment_text  toxic  \\\n",
       "0  0000997932d777bf  Explanation\\nWhy the edits made under my usern...      0   \n",
       "1  000103f0d9cfb60f  D'aww! He matches this background colour I'm s...      0   \n",
       "2  000113f07ec002fd  Hey man, I'm really not trying to edit war. It...      0   \n",
       "3  0001b41b1c6bb37e  \"\\nMore\\nI can't make any real suggestions on ...      0   \n",
       "4  0001d958c54c6e35  You, sir, are my hero. Any chance you remember...      0   \n",
       "\n",
       "   severe_toxic  obscene  threat  insult  identity_hate  \n",
       "0             0        0       0       0              0  \n",
       "1             0        0       0       0              0  \n",
       "2             0        0       0       0              0  \n",
       "3             0        0       0       0              0  \n",
       "4             0        0       0       0              0  "
      ]
     },
     "execution_count": 8,
     "metadata": {},
     "output_type": "execute_result"
    }
   ],
   "source": [
    "# Load the data\n",
    "train = pd.read_csv(\"data/train.csv\")\n",
    "\n",
    "# Print a preview\n",
    "train.head()"
   ]
  },
  {
   "cell_type": "code",
   "execution_count": 9,
   "id": "7efe4b06-20a1-4018-8376-6e8370663463",
   "metadata": {},
   "outputs": [
    {
     "name": "stdout",
     "output_type": "stream",
     "text": [
      "Number of rows: 159571\n",
      "Number of columns: 8\n",
      "Number of missing values: 0\n"
     ]
    }
   ],
   "source": [
    "# Check the dimensions\n",
    "print(f\"Number of rows: {train.shape[0]}\\n\"\n",
    "      f\"Number of columns: {train.shape[1]}\")\n",
    "\n",
    "# Check for missing values\n",
    "print(f\"Number of missing values: {train.isna().sum().sum()}\")"
   ]
  },
  {
   "cell_type": "markdown",
   "id": "ae5afaa9-a8e9-4e44-919e-3853fd162d16",
   "metadata": {},
   "source": [
    "_Our training corpus consists of **159,571 Wikipedia comments**, pre-labeled to identify 6 subtypes of toxic behavior: **toxic, severe toxic, obscene, threat, insult, identity hate**._"
   ]
  },
  {
   "cell_type": "markdown",
   "id": "66fb85fe-26e0-4ec9-84d9-d4805182a87c",
   "metadata": {},
   "source": [
    "   "
   ]
  },
  {
   "cell_type": "markdown",
   "id": "9ed737ab-67f1-42eb-b9e1-ecbd1e7109d3",
   "metadata": {},
   "source": [
    "_Commonly observed in content moderation challenges, the data exhibits **class imbalance** with toxic comments representing the minority, particularly for threat and identity hate._  "
   ]
  },
  {
   "cell_type": "code",
   "execution_count": 15,
   "id": "0dcc182e-e275-40fe-b300-567eba4865e1",
   "metadata": {},
   "outputs": [
    {
     "data": {
      "text/html": [
       "<div>\n",
       "<style scoped>\n",
       "    .dataframe tbody tr th:only-of-type {\n",
       "        vertical-align: middle;\n",
       "    }\n",
       "\n",
       "    .dataframe tbody tr th {\n",
       "        vertical-align: top;\n",
       "    }\n",
       "\n",
       "    .dataframe thead th {\n",
       "        text-align: right;\n",
       "    }\n",
       "</style>\n",
       "<table border=\"1\" class=\"dataframe\">\n",
       "  <thead>\n",
       "    <tr style=\"text-align: right;\">\n",
       "      <th></th>\n",
       "      <th>0</th>\n",
       "      <th>1</th>\n",
       "    </tr>\n",
       "  </thead>\n",
       "  <tbody>\n",
       "    <tr>\n",
       "      <th>toxic</th>\n",
       "      <td>0.904156</td>\n",
       "      <td>0.095844</td>\n",
       "    </tr>\n",
       "    <tr>\n",
       "      <th>severe_toxic</th>\n",
       "      <td>0.990004</td>\n",
       "      <td>0.009996</td>\n",
       "    </tr>\n",
       "    <tr>\n",
       "      <th>obscene</th>\n",
       "      <td>0.947052</td>\n",
       "      <td>0.052948</td>\n",
       "    </tr>\n",
       "    <tr>\n",
       "      <th>threat</th>\n",
       "      <td>0.997004</td>\n",
       "      <td>0.002996</td>\n",
       "    </tr>\n",
       "    <tr>\n",
       "      <th>insult</th>\n",
       "      <td>0.950636</td>\n",
       "      <td>0.049364</td>\n",
       "    </tr>\n",
       "    <tr>\n",
       "      <th>identity_hate</th>\n",
       "      <td>0.991195</td>\n",
       "      <td>0.008805</td>\n",
       "    </tr>\n",
       "  </tbody>\n",
       "</table>\n",
       "</div>"
      ],
      "text/plain": [
       "                      0         1\n",
       "toxic          0.904156  0.095844\n",
       "severe_toxic   0.990004  0.009996\n",
       "obscene        0.947052  0.052948\n",
       "threat         0.997004  0.002996\n",
       "insult         0.950636  0.049364\n",
       "identity_hate  0.991195  0.008805"
      ]
     },
     "execution_count": 15,
     "metadata": {},
     "output_type": "execute_result"
    }
   ],
   "source": [
    "# Inspect class distribution\n",
    "cols = [\"toxic\", \"severe_toxic\", \"obscene\", \"threat\", \"insult\", \"identity_hate\"]\n",
    "classes = [train[col].value_counts(normalize = True) for col in cols]\n",
    "pd.DataFrame(classes, index = cols)"
   ]
  },
  {
   "cell_type": "code",
   "execution_count": 17,
   "id": "c7daa646-946e-4eff-8007-adb087b3538e",
   "metadata": {},
   "outputs": [
    {
     "data": {
      "image/png": "[encoded data removed]",
      "text/plain": [
       "<Figure size 1200x850 with 6 Axes>"
      ]
     },
     "metadata": {},
     "output_type": "display_data"
    }
   ],
   "source": [
    "# Set up the figure with subplots\n",
    "plt.rcParams.update({\"font.family\": \"Verdana\"})\n",
    "fig, axs = plt.subplots(nrows = 2, ncols = 3, figsize = (12, 8.5))\n",
    "\n",
    "# Visualize the class distribution for each column\n",
    "for i, col in enumerate(cols):\n",
    "    counts = train[col].value_counts()\n",
    "    axs[i // 3, i % 3].bar(counts.index, counts.values, color = [\"#617086\", \"#FE8175\"])\n",
    "    axs[i // 3, i % 3].set_title(col, size = 16, color = \"#3A4C68\", weight = \"bold\")\n",
    "    axs[i // 3, i % 3].set_xlabel(\"Value\", size = 12, color = \"#3A4C68\")\n",
    "    axs[i // 3, i % 3].set_ylabel(\"Count\", size = 12, color = \"#3A4C68\")\n",
    "    axs[i // 3, i % 3].tick_params(axis = \"x\", colors = \"#3A4C68\")\n",
    "    axs[i // 3, i % 3].tick_params(axis = \"y\", colors = \"#3A4C68\")\n",
    "    # Change border color \n",
    "    for spine in axs[i // 3, i % 3].spines.values():\n",
    "        spine.set_edgecolor(\"#3A4C68\")\n",
    "        spine.set_linewidth(1.2)\n",
    "\n",
    "# Display the plot\n",
    "fig.suptitle(\"Class Distribution\", size = 24, color = \"#3A4C68\", weight = \"bold\", y = 1) # Assign main title\n",
    "fig.tight_layout()"
   ]
  },
  {
   "cell_type": "markdown",
   "id": "546a9da1-554e-4c8f-9263-02cb956e19dc",
   "metadata": {},
   "source": [
    "  "
   ]
  },
  {
   "cell_type": "markdown",
   "id": "7d3ef635-ad5a-4c85-9c62-f69911d6d589",
   "metadata": {},
   "source": [
    "### 1.2 Test Set"
   ]
  },
  {
   "cell_type": "code",
   "execution_count": 21,
   "id": "19fc7662-6293-4506-9f9c-34fcb2bab88b",
   "metadata": {},
   "outputs": [
    {
     "data": {
      "text/html": [
       "<div>\n",
       "<style scoped>\n",
       "    .dataframe tbody tr th:only-of-type {\n",
       "        vertical-align: middle;\n",
       "    }\n",
       "\n",
       "    .dataframe tbody tr th {\n",
       "        vertical-align: top;\n",
       "    }\n",
       "\n",
       "    .dataframe thead th {\n",
       "        text-align: right;\n",
       "    }\n",
       "</style>\n",
       "<table border=\"1\" class=\"dataframe\">\n",
       "  <thead>\n",
       "    <tr style=\"text-align: right;\">\n",
       "      <th></th>\n",
       "      <th>id</th>\n",
       "      <th>comment_text</th>\n",
       "    </tr>\n",
       "  </thead>\n",
       "  <tbody>\n",
       "    <tr>\n",
       "      <th>0</th>\n",
       "      <td>00001cee341fdb12</td>\n",
       "      <td>Yo bitch Ja Rule is more succesful then you'll...</td>\n",
       "    </tr>\n",
       "    <tr>\n",
       "      <th>1</th>\n",
       "      <td>0000247867823ef7</td>\n",
       "      <td>== From RfC == \\n\\n The title is fine as it is...</td>\n",
       "    </tr>\n",
       "    <tr>\n",
       "      <th>2</th>\n",
       "      <td>00013b17ad220c46</td>\n",
       "      <td>\" \\n\\n == Sources == \\n\\n * Zawe Ashton on Lap...</td>\n",
       "    </tr>\n",
       "    <tr>\n",
       "      <th>3</th>\n",
       "      <td>00017563c3f7919a</td>\n",
       "      <td>:If you have a look back at the source, the in...</td>\n",
       "    </tr>\n",
       "    <tr>\n",
       "      <th>4</th>\n",
       "      <td>00017695ad8997eb</td>\n",
       "      <td>I don't anonymously edit articles at all.</td>\n",
       "    </tr>\n",
       "  </tbody>\n",
       "</table>\n",
       "</div>"
      ],
      "text/plain": [
       "                 id                                       comment_text\n",
       "0  00001cee341fdb12  Yo bitch Ja Rule is more succesful then you'll...\n",
       "1  0000247867823ef7  == From RfC == \\n\\n The title is fine as it is...\n",
       "2  00013b17ad220c46  \" \\n\\n == Sources == \\n\\n * Zawe Ashton on Lap...\n",
       "3  00017563c3f7919a  :If you have a look back at the source, the in...\n",
       "4  00017695ad8997eb          I don't anonymously edit articles at all."
      ]
     },
     "execution_count": 21,
     "metadata": {},
     "output_type": "execute_result"
    }
   ],
   "source": [
    "# Load the data\n",
    "X_test = pd.read_csv(\"data/test.csv\")\n",
    "\n",
    "# Print a preview\n",
    "X_test.head()"
   ]
  },
  {
   "cell_type": "code",
   "execution_count": 22,
   "id": "eb3bdcb5-5abf-47af-98f9-6a58407592ca",
   "metadata": {},
   "outputs": [
    {
     "name": "stdout",
     "output_type": "stream",
     "text": [
      "Number of rows: 153164\n",
      "Number of columns: 2\n",
      "Number of missing values: 0\n"
     ]
    }
   ],
   "source": [
    "# Check the dimensions\n",
    "print(f\"Number of rows: {X_test.shape[0]}\\n\"\n",
    "      f\"Number of columns: {X_test.shape[1]}\")\n",
    "\n",
    "# Check for missing values\n",
    "print(f\"Number of missing values: {X_test.isna().sum().sum()}\")"
   ]
  },
  {
   "cell_type": "markdown",
   "id": "b5f1aed0-2d1a-48fa-be95-f7051adcad5b",
   "metadata": {},
   "source": [
    "  "
   ]
  },
  {
   "cell_type": "code",
   "execution_count": 26,
   "id": "91312e49-467d-4c7f-a122-fdd4bea6eb65",
   "metadata": {},
   "outputs": [
    {
     "data": {
      "text/html": [
       "<div>\n",
       "<style scoped>\n",
       "    .dataframe tbody tr th:only-of-type {\n",
       "        vertical-align: middle;\n",
       "    }\n",
       "\n",
       "    .dataframe tbody tr th {\n",
       "        vertical-align: top;\n",
       "    }\n",
       "\n",
       "    .dataframe thead th {\n",
       "        text-align: right;\n",
       "    }\n",
       "</style>\n",
       "<table border=\"1\" class=\"dataframe\">\n",
       "  <thead>\n",
       "    <tr style=\"text-align: right;\">\n",
       "      <th></th>\n",
       "      <th>id</th>\n",
       "      <th>toxic</th>\n",
       "      <th>severe_toxic</th>\n",
       "      <th>obscene</th>\n",
       "      <th>threat</th>\n",
       "      <th>insult</th>\n",
       "      <th>identity_hate</th>\n",
       "    </tr>\n",
       "  </thead>\n",
       "  <tbody>\n",
       "    <tr>\n",
       "      <th>0</th>\n",
       "      <td>00001cee341fdb12</td>\n",
       "      <td>-1</td>\n",
       "      <td>-1</td>\n",
       "      <td>-1</td>\n",
       "      <td>-1</td>\n",
       "      <td>-1</td>\n",
       "      <td>-1</td>\n",
       "    </tr>\n",
       "    <tr>\n",
       "      <th>1</th>\n",
       "      <td>0000247867823ef7</td>\n",
       "      <td>-1</td>\n",
       "      <td>-1</td>\n",
       "      <td>-1</td>\n",
       "      <td>-1</td>\n",
       "      <td>-1</td>\n",
       "      <td>-1</td>\n",
       "    </tr>\n",
       "    <tr>\n",
       "      <th>2</th>\n",
       "      <td>00013b17ad220c46</td>\n",
       "      <td>-1</td>\n",
       "      <td>-1</td>\n",
       "      <td>-1</td>\n",
       "      <td>-1</td>\n",
       "      <td>-1</td>\n",
       "      <td>-1</td>\n",
       "    </tr>\n",
       "    <tr>\n",
       "      <th>3</th>\n",
       "      <td>00017563c3f7919a</td>\n",
       "      <td>-1</td>\n",
       "      <td>-1</td>\n",
       "      <td>-1</td>\n",
       "      <td>-1</td>\n",
       "      <td>-1</td>\n",
       "      <td>-1</td>\n",
       "    </tr>\n",
       "    <tr>\n",
       "      <th>4</th>\n",
       "      <td>00017695ad8997eb</td>\n",
       "      <td>-1</td>\n",
       "      <td>-1</td>\n",
       "      <td>-1</td>\n",
       "      <td>-1</td>\n",
       "      <td>-1</td>\n",
       "      <td>-1</td>\n",
       "    </tr>\n",
       "  </tbody>\n",
       "</table>\n",
       "</div>"
      ],
      "text/plain": [
       "                 id  toxic  severe_toxic  obscene  threat  insult  \\\n",
       "0  00001cee341fdb12     -1            -1       -1      -1      -1   \n",
       "1  0000247867823ef7     -1            -1       -1      -1      -1   \n",
       "2  00013b17ad220c46     -1            -1       -1      -1      -1   \n",
       "3  00017563c3f7919a     -1            -1       -1      -1      -1   \n",
       "4  00017695ad8997eb     -1            -1       -1      -1      -1   \n",
       "\n",
       "   identity_hate  \n",
       "0             -1  \n",
       "1             -1  \n",
       "2             -1  \n",
       "3             -1  \n",
       "4             -1  "
      ]
     },
     "execution_count": 26,
     "metadata": {},
     "output_type": "execute_result"
    }
   ],
   "source": [
    "# Load the data\n",
    "y_test = pd.read_csv(\"data/test_labels.csv\")\n",
    "\n",
    "# Print a preview\n",
    "y_test.head()"
   ]
  },
  {
   "cell_type": "code",
   "execution_count": 28,
   "id": "3fc52968-939e-44e0-a129-08c2dd3b1206",
   "metadata": {},
   "outputs": [
    {
     "name": "stdout",
     "output_type": "stream",
     "text": [
      "Number of rows: 153164\n",
      "Number of columns: 7\n",
      "Number of missing values: 0\n"
     ]
    }
   ],
   "source": [
    "# Check the dimensions\n",
    "print(f\"Number of rows: {y_test.shape[0]}\\n\"\n",
    "      f\"Number of columns: {y_test.shape[1]}\")\n",
    "\n",
    "# Check for missing values\n",
    "print(f\"Number of missing values: {y_test.isna().sum().sum()}\")"
   ]
  },
  {
   "cell_type": "markdown",
   "id": "0ba1fbca-9305-430f-a9c7-c8326ea4e28d",
   "metadata": {},
   "source": [
    "  "
   ]
  },
  {
   "cell_type": "markdown",
   "id": "f0c1e900-4bc7-4be8-b5e4-9b58894756af",
   "metadata": {},
   "source": [
    "_Value of **-1** indicates that it **will not be considered in scoring** and will therefore be removed in the following step:_  "
   ]
  },
  {
   "cell_type": "code",
   "execution_count": 32,
   "id": "b48a665d-f552-4a9e-9f1d-46f396fa26f6",
   "metadata": {},
   "outputs": [],
   "source": [
    "# Remove entries with -1\n",
    "X_test = X_test.loc[~(y_test == -1).any(axis = 1)]\n",
    "y_test = y_test.loc[~(y_test == -1).any(axis = 1)]"
   ]
  },
  {
   "cell_type": "code",
   "execution_count": 34,
   "id": "538e8b16-cf60-460c-9aaf-8479e6874da6",
   "metadata": {},
   "outputs": [
    {
     "name": "stdout",
     "output_type": "stream",
     "text": [
      "Number of rows: 63978\n",
      "Number of columns: 2\n",
      "Number of rows: 63978\n",
      "Number of columns: 7\n"
     ]
    }
   ],
   "source": [
    "# Check the dimensions\n",
    "print(f\"Number of rows: {X_test.shape[0]}\\n\"\n",
    "      f\"Number of columns: {X_test.shape[1]}\")\n",
    "print(f\"Number of rows: {y_test.shape[0]}\\n\"\n",
    "      f\"Number of columns: {y_test.shape[1]}\")"
   ]
  },
  {
   "cell_type": "markdown",
   "id": "c779ac6c-d36b-4d8b-831b-536a034d33f6",
   "metadata": {
    "tags": []
   },
   "source": [
    "_The test set consists of **63,978** comments._  "
   ]
  },
  {
   "cell_type": "markdown",
   "id": "17e1547d-6df3-48d1-ad51-b3f573fa4927",
   "metadata": {},
   "source": [
    "  "
   ]
  },
  {
   "cell_type": "markdown",
   "id": "e16d5259-8cdf-4fe6-8f12-467c9bd4eb2f",
   "metadata": {},
   "source": [
    "___"
   ]
  },
  {
   "cell_type": "markdown",
   "id": "4387ee8f-e80c-4136-844d-814289601e2c",
   "metadata": {},
   "source": [
    "  "
   ]
  },
  {
   "cell_type": "markdown",
   "id": "5f6acfe5-9630-472f-8cfa-1dbed49817ae",
   "metadata": {},
   "source": [
    "## 2. Data Preparation"
   ]
  },
  {
   "cell_type": "markdown",
   "id": "111a0cfd-87ab-4ced-a569-d88808cfe84f",
   "metadata": {},
   "source": [
    "### 2.1 Train-Dev-Test Split"
   ]
  },
  {
   "cell_type": "markdown",
   "id": "20fb6bd6-12ae-46f3-a543-3e5ff2ccce49",
   "metadata": {},
   "source": [
    "_To begin, we will split the dataset into **training, development, and test sets** to ensure robust evaluation and fine-tuning of our machine learning models._  "
   ]
  },
  {
   "cell_type": "code",
   "execution_count": 42,
   "id": "afed2219-a806-4c65-b253-9bbfb7f03771",
   "metadata": {
    "tags": []
   },
   "outputs": [],
   "source": [
    "# Specify the features and labels\n",
    "X_train = train[\"comment_text\"]\n",
    "y_train = train[\"toxic\"].values\n",
    "X_test = X_test[\"comment_text\"]\n",
    "y_test = y_test[\"toxic\"].values"
   ]
  },
  {
   "cell_type": "code",
   "execution_count": 44,
   "id": "18c6e672-bbd8-48c6-8bf9-acef28777a2d",
   "metadata": {
    "tags": []
   },
   "outputs": [
    {
     "name": "stdout",
     "output_type": "stream",
     "text": [
      "Training Set: ((127656,), (127656,))\n",
      "Development Set: ((31915,), (31915,))\n",
      "Test Set: ((63978,), (63978,))\n"
     ]
    }
   ],
   "source": [
    "# Import train_test_split library\n",
    "from sklearn.model_selection import train_test_split\n",
    "\n",
    "# Perform train-dev split\n",
    "X_train, X_dev, y_train, y_dev = train_test_split(X_train, y_train,\n",
    "                                                  test_size=0.2, random_state=10)\n",
    "print(f\"Training Set: {X_train.shape, y_train.shape}\")\n",
    "print(f\"Development Set: {X_dev.shape, y_dev.shape}\") \n",
    "print(f\"Test Set: {X_test.shape, y_test.shape}\") "
   ]
  },
  {
   "cell_type": "markdown",
   "id": "b62bd0f0-6d30-44cc-ae79-a103e1e651bc",
   "metadata": {},
   "source": [
    "  "
   ]
  },
  {
   "cell_type": "markdown",
   "id": "ddbefc7a-ed7c-4b1f-b51e-8da555003ab3",
   "metadata": {},
   "source": [
    "### 2.2 Text Preprocessing "
   ]
  },
  {
   "cell_type": "markdown",
   "id": "ffa60dff-0886-4214-820b-81be5ece105e",
   "metadata": {},
   "source": [
    "_To prepare the text data for model training and evaluation, we will preprocess the dataset by **removing noise** and **normalizing the text**._  "
   ]
  },
  {
   "cell_type": "code",
   "execution_count": 48,
   "id": "6d27f6f0-51f1-4161-a991-96109edd3535",
   "metadata": {},
   "outputs": [],
   "source": [
    "# Import the libraries\n",
    "import re, string  \n",
    "import nltk\n",
    "from nltk.corpus import stopwords\n",
    "from nltk.stem import WordNetLemmatizer"
   ]
  },
  {
   "cell_type": "code",
   "execution_count": 50,
   "id": "aa38d823-c6ee-4c2c-a4cc-c9c5b2a8f73c",
   "metadata": {},
   "outputs": [],
   "source": [
    "# Define cleaning function\n",
    "def clean(text):\n",
    "    # Remove special characters and numbers\n",
    "    text = re.sub(\"[^a-zA-Z\\s]\", \"\", text.lower())\n",
    "    \n",
    "    # Remove new line\n",
    "    text = re.sub(\"\\n\", \" \", text)\n",
    "    \n",
    "    # Remove stop words\n",
    "    stop_words = set(stopwords.words(\"english\"))\n",
    "    text = \" \".join([word for word in text.split() if word not in stop_words])\n",
    "    \n",
    "    # Lemmatization\n",
    "    lemmatizer = WordNetLemmatizer()\n",
    "    text = \" \".join([lemmatizer.lemmatize(word) for word in text.split()])\n",
    "\n",
    "    return text"
   ]
  },
  {
   "cell_type": "code",
   "execution_count": 52,
   "id": "9ca115ba-83d4-4cb5-b162-29ed92729b1d",
   "metadata": {},
   "outputs": [],
   "source": [
    "# Clean the text\n",
    "X_train = X_train.apply(clean)\n",
    "X_dev = X_dev.apply(clean)\n",
    "X_test = X_test.apply(clean)"
   ]
  },
  {
   "cell_type": "markdown",
   "id": "c89c1e13-586b-4b3d-8ac1-774cc66cc6fa",
   "metadata": {},
   "source": [
    "  "
   ]
  },
  {
   "cell_type": "markdown",
   "id": "e90d8c65-d527-4c28-85b5-7ca4b2e42657",
   "metadata": {},
   "source": [
    "### 2.3 Vectorization"
   ]
  },
  {
   "cell_type": "markdown",
   "id": "08cc4deb-7706-4ef0-9083-3ff4896cb377",
   "metadata": {},
   "source": [
    "_Next, we will perform **TF-IDF vectorization** and convert the output into **sparse matrices** to prepare the cleaned text for model training._  "
   ]
  },
  {
   "cell_type": "code",
   "execution_count": 55,
   "id": "7ee09ae1-bce0-4a95-a8b1-032604961c72",
   "metadata": {
    "tags": []
   },
   "outputs": [],
   "source": [
    "# Import the library\n",
    "from sklearn.feature_extraction.text import CountVectorizer, TfidfVectorizer"
   ]
  },
  {
   "cell_type": "code",
   "execution_count": 56,
   "id": "def329e3-8610-45df-bad9-b03d3e592917",
   "metadata": {},
   "outputs": [],
   "source": [
    "# Set up the vectorizer  \n",
    "tfidf = TfidfVectorizer(stop_words=\"english\", ngram_range=(1, 2), max_features=5000)\n",
    "\n",
    "# Create the DTM\n",
    "X_train_tfidf = tfidf.fit_transform(X_train)\n",
    "X_dev_tfidf = tfidf.transform(X_dev)\n",
    "X_test_tfidf = tfidf.transform(X_test)"
   ]
  },
  {
   "cell_type": "code",
   "execution_count": 57,
   "id": "ae639e11-1be4-4251-9815-131e51f3ed89",
   "metadata": {},
   "outputs": [
    {
     "name": "stdout",
     "output_type": "stream",
     "text": [
      "Training Set: ((127656, 5000), (127656,))\n",
      "Development Set: ((31915, 5000), (31915,))\n",
      "Test Set: ((63978, 5000), (63978,))\n"
     ]
    }
   ],
   "source": [
    "# Import sparse library\n",
    "from scipy import sparse\n",
    "\n",
    "# Convert DTM to sparse matrices\n",
    "X_train = sparse.hstack([X_train_tfidf]).tocsr()\n",
    "X_dev = sparse.hstack([X_dev_tfidf]).tocsr()\n",
    "X_test = sparse.hstack([X_test_tfidf]).tocsr()\n",
    "\n",
    "print(f\"Training Set: {X_train.shape, y_train.shape}\")\n",
    "print(f\"Development Set: {X_dev.shape, y_dev.shape}\") \n",
    "print(f\"Test Set: {X_test.shape, y_test.shape}\") "
   ]
  },
  {
   "cell_type": "markdown",
   "id": "5a41fedb-8eac-4731-bff8-47d0674aaf59",
   "metadata": {},
   "source": [
    "  "
   ]
  },
  {
   "cell_type": "markdown",
   "id": "1fd92642-6d7f-44c3-bcf8-ed87b0f39494",
   "metadata": {},
   "source": [
    "### 2.4 Oversampling (SMOTE)"
   ]
  },
  {
   "cell_type": "markdown",
   "id": "d8489493-2ead-4542-93be-502a05b5225d",
   "metadata": {},
   "source": [
    "_Given the significant **class imbalance** in our dataset, with toxic comments being the minority, we will apply **SMOTE** for **oversampling**._  "
   ]
  },
  {
   "cell_type": "code",
   "execution_count": 60,
   "id": "0c03c2da-6007-47f1-a4ac-c7ce123fca69",
   "metadata": {
    "tags": []
   },
   "outputs": [],
   "source": [
    "# Import the library\n",
    "from imblearn.over_sampling import SMOTE"
   ]
  },
  {
   "cell_type": "code",
   "execution_count": 61,
   "id": "4294a656-c2c2-4cd7-ba4a-26f89b8e1dde",
   "metadata": {
    "tags": []
   },
   "outputs": [],
   "source": [
    "# Oversample the training set \n",
    "smote = SMOTE(sampling_strategy=\"auto\", random_state=42)\n",
    "X_train, y_train = smote.fit_resample(X_train, y_train)"
   ]
  },
  {
   "cell_type": "markdown",
   "id": "fe076a81-ba66-4a3c-84ea-3d41e5d02352",
   "metadata": {},
   "source": [
    "  "
   ]
  },
  {
   "cell_type": "markdown",
   "id": "b4d9cc5b-7895-4d9d-9bd9-b25d8163c594",
   "metadata": {},
   "source": [
    "___"
   ]
  },
  {
   "cell_type": "markdown",
   "id": "81da7ee8-04c6-4e1d-b3fc-dc89b992e9bf",
   "metadata": {},
   "source": [
    "  "
   ]
  },
  {
   "cell_type": "markdown",
   "id": "b44a5c55-8aa4-4d1a-b086-ac741906dc06",
   "metadata": {},
   "source": [
    "## 3. ML Model"
   ]
  },
  {
   "cell_type": "code",
   "execution_count": 66,
   "id": "ce69c684-d093-4209-8a59-274333a8087d",
   "metadata": {},
   "outputs": [],
   "source": [
    "# Load the packages\n",
    "from sklearn.metrics import accuracy_score, recall_score, precision_score, f1_score, roc_auc_score, confusion_matrix, classification_report\n",
    "from sklearn.model_selection import cross_val_score, cross_validate, GridSearchCV, RandomizedSearchCV\n",
    "from joblib import dump, load"
   ]
  },
  {
   "cell_type": "code",
   "execution_count": 67,
   "id": "13e32b3c-2d99-4cd4-ad33-7a9b96291b1f",
   "metadata": {},
   "outputs": [],
   "source": [
    "# Import the classifiers\n",
    "from sklearn.linear_model import LogisticRegression\n",
    "from sklearn.neighbors import KNeighborsClassifier\n",
    "from sklearn.tree import DecisionTreeClassifier\n",
    "from sklearn.ensemble import BaggingClassifier, RandomForestClassifier, GradientBoostingClassifier\n",
    "from sklearn.svm import SVC\n",
    "from sklearn.naive_bayes import MultinomialNB\n",
    "from sklearn.neural_network import MLPClassifier"
   ]
  },
  {
   "cell_type": "markdown",
   "id": "07735d60-9e5b-46bb-8f96-95e498c753a6",
   "metadata": {},
   "source": [
    "  "
   ]
  },
  {
   "cell_type": "markdown",
   "id": "c194e511-efe9-4449-817d-3324941f3210",
   "metadata": {},
   "source": [
    "### 3.0 Baseline Models"
   ]
  },
  {
   "cell_type": "markdown",
   "id": "b6a4adb9-8fd1-4e7b-b359-b24607d90ed0",
   "metadata": {},
   "source": [
    "_First, we will train the models using **default hyperparameters** on the training set and evaluate their performance on the development set to **establish a baseline**.  This gives us an idea of their performance without any tuning._  \n",
    "\n",
    "_For evaluation, we will adopt a balanced approach and prioritize the **F1 score** as the key metric.  Precision and recall inform decision-making in targeted aspects: low precision restricts information access and free speech by systematically flagging harmless comments; low recall leads to proliferation of toxic hubs due to inability to capture toxicity.  We hope to achieve the optimal equilibrium between freedom of speech and safe online environment for users._  "
   ]
  },
  {
   "cell_type": "code",
   "execution_count": 71,
   "id": "6cb7217b-f87f-4705-a108-cd80dba8c696",
   "metadata": {},
   "outputs": [],
   "source": [
    "def train_val(estimator, param_dist = None, n_iter = 60, cv = 5, \n",
    "              X_train = X_train, y_train = y_train,\n",
    "              X_val = X_dev, y_val = y_dev, verbose = True):\n",
    "    \"\"\"\n",
    "    Define function train_val that trains a given estimator with specified hyperparameters\n",
    "    and evaluate its performance.  If a param_dist is given, the function performs a \n",
    "    random search for the best hyperparameters using the given distribution. \n",
    "    \n",
    "    The function takes in eight arguments:\n",
    "        estimator: The class of the estimator used \n",
    "        param_dist: The distribution of hyperparameters for random search.  If none, no \n",
    "                    search will be performed; the model will be fit using default settings\n",
    "        n_iter: Number of iterations for random search (default = 60)\n",
    "        cv: Number of folds for cross-validation (default = 5)\n",
    "        X_train: Input matrix for training set (default = X_train)\n",
    "        y_train: Output vector for training set (default = y_train) \n",
    "        X_val: Input matrix for validation set (default = X_dev)\n",
    "        y_val: Output vector for validation set (default = y_dev)\n",
    "        verbose: Whether to print the training result (default = True)\n",
    "    \n",
    "    The function will return a pandas DataFrame of the training results.\n",
    "    \"\"\"\n",
    "    # Start timing\n",
    "    start_time = time.time()\n",
    "    \n",
    "    # Initialize the estimator\n",
    "    m = estimator()\n",
    "    if verbose:\n",
    "        print(f\"-------- {estimator.__name__} --------\")\n",
    "    \n",
    "    # Perform random search if given param_dist\n",
    "    if param_dist:\n",
    "        warnings.filterwarnings(\"ignore\")\n",
    "        rs = RandomizedSearchCV(estimator = m,\n",
    "                                param_distributions = param_dist, \n",
    "                                scoring=[\"accuracy\", \"precision\", \"recall\", \"f1\", \"roc_auc\"],\n",
    "                                n_iter = n_iter, cv = cv, refit = \"f1\", \n",
    "                                verbose = 0)\n",
    "        rs.fit(X_train, y_train)\n",
    "\n",
    "        # Find the best hyperparameters\n",
    "        if verbose:\n",
    "            print(f\"Best hyperparameters: {rs.best_params_}\")\n",
    "            print(f\"Best score: {rs.best_score_:3f}\")\n",
    "\n",
    "        # Initialize the estimator with best hyperparameters\n",
    "        m = estimator(**rs.best_params_)\n",
    "    \n",
    "    # Fit the model on training set \n",
    "    m.fit(X_train, y_train)\n",
    "\n",
    "    # Make predictions on validation set\n",
    "    y_pred = m.predict(X_val)\n",
    "    \n",
    "    # Evaluate the result\n",
    "    accuracy = accuracy_score(y_val, y_pred)\n",
    "    precision = precision_score(y_val, y_pred)\n",
    "    recall = recall_score(y_val, y_pred)\n",
    "    f1 = f1_score(y_val, y_pred)\n",
    "    roc_auc = roc_auc_score(y_val, y_pred)\n",
    "    \n",
    "    # End timing \n",
    "    end_time = time.time()\n",
    "    \n",
    "    if verbose: \n",
    "        print(f\"Validation Accuracy: {accuracy:.3f}\")\n",
    "        print(f\"Validation Precision: {precision:.3f}\")\n",
    "        print(f\"Validation Recall: {recall:.3f}\")\n",
    "        print(f\"Validation F1 Score: {f1:.3f}\")\n",
    "        print(f\"Validation ROC AUC Score: {roc_auc:.3f}\")\n",
    "        print(f\"Runtime: {end_time - start_time}\")\n",
    "        print(\"------------------------------\\n\")\n",
    "    \n",
    "    # Store the result in a DataFrame\n",
    "    if param_dist:\n",
    "        result = pd.DataFrame({\"estimator\": [estimator.__name__],\n",
    "                               \"best_params\": [rs.best_params_],\n",
    "                               \"accuracy\": [accuracy],\n",
    "                               \"precision\": [precision],\n",
    "                               \"recall\": [recall],\n",
    "                               \"f1\": [f1],\n",
    "                               \"roc_auc\": [roc_auc],\n",
    "                               \"y_pred\": [y_pred]})\n",
    "    else:\n",
    "        result = pd.DataFrame({\"estimator\": [estimator.__name__],\n",
    "                               \"best_params\": [\"default\"],\n",
    "                               \"accuracy\": [accuracy],\n",
    "                               \"precision\": [precision],\n",
    "                               \"recall\": [recall],\n",
    "                               \"f1\": [f1],\n",
    "                               \"roc_auc\": [roc_auc],\n",
    "                               \"y_pred\": [y_pred]})\n",
    "    \n",
    "    return result"
   ]
  },
  {
   "cell_type": "code",
   "execution_count": 72,
   "id": "58a167fe-93e2-4e49-a909-3a1cea01e1b5",
   "metadata": {},
   "outputs": [
    {
     "name": "stdout",
     "output_type": "stream",
     "text": [
      "-------- MultinomialNB --------\n",
      "Validation Accuracy: 0.899\n",
      "Validation Precision: 0.480\n",
      "Validation Recall: 0.837\n",
      "Validation F1 Score: 0.610\n",
      "Validation ROC AUC Score: 0.871\n",
      "Runtime: 0.06922006607055664\n",
      "------------------------------\n",
      "\n",
      "-------- LogisticRegression --------\n"
     ]
    },
    {
     "name": "stderr",
     "output_type": "stream",
     "text": [
      "/Users/chesie/anaconda3/lib/python3.10/site-packages/sklearn/linear_model/_logistic.py:460: ConvergenceWarning: lbfgs failed to converge (status=1):\n",
      "STOP: TOTAL NO. of ITERATIONS REACHED LIMIT.\n",
      "\n",
      "Increase the number of iterations (max_iter) or scale the data as shown in:\n",
      "    https://scikit-learn.org/stable/modules/preprocessing.html\n",
      "Please also refer to the documentation for alternative solver options:\n",
      "    https://scikit-learn.org/stable/modules/linear_model.html#logistic-regression\n",
      "  n_iter_i = _check_optimize_result(\n"
     ]
    },
    {
     "name": "stdout",
     "output_type": "stream",
     "text": [
      "Validation Accuracy: 0.906\n",
      "Validation Precision: 0.501\n",
      "Validation Recall: 0.837\n",
      "Validation F1 Score: 0.627\n",
      "Validation ROC AUC Score: 0.875\n",
      "Runtime: 1.706732988357544\n",
      "------------------------------\n",
      "\n",
      "-------- KNeighborsClassifier --------\n",
      "Validation Accuracy: 0.325\n",
      "Validation Precision: 0.115\n",
      "Validation Recall: 0.924\n",
      "Validation F1 Score: 0.205\n",
      "Validation ROC AUC Score: 0.594\n",
      "Runtime: 268.9105598926544\n",
      "------------------------------\n",
      "\n",
      "-------- DecisionTreeClassifier --------\n",
      "Validation Accuracy: 0.896\n",
      "Validation Precision: 0.466\n",
      "Validation Recall: 0.700\n",
      "Validation F1 Score: 0.559\n",
      "Validation ROC AUC Score: 0.808\n",
      "Runtime: 68.88250398635864\n",
      "------------------------------\n",
      "\n",
      "-------- GradientBoostingClassifier --------\n",
      "Validation Accuracy: 0.934\n",
      "Validation Precision: 0.650\n",
      "Validation Recall: 0.646\n",
      "Validation F1 Score: 0.648\n",
      "Validation ROC AUC Score: 0.805\n",
      "Runtime: 165.39056420326233\n",
      "------------------------------\n",
      "\n",
      "-------- RandomForestClassifier --------\n",
      "Validation Accuracy: 0.934\n",
      "Validation Precision: 0.639\n",
      "Validation Recall: 0.702\n",
      "Validation F1 Score: 0.669\n",
      "Validation ROC AUC Score: 0.830\n",
      "Runtime: 257.8856291770935\n",
      "------------------------------\n",
      "\n",
      "-------- SVC --------\n",
      "Validation Accuracy: 0.948\n",
      "Validation Precision: 0.750\n",
      "Validation Recall: 0.679\n",
      "Validation F1 Score: 0.713\n",
      "Validation ROC AUC Score: 0.828\n",
      "Runtime: 5322.178435087204\n",
      "------------------------------\n",
      "\n",
      "-------- MLPClassifier --------\n",
      "Validation Accuracy: 0.943\n",
      "Validation Precision: 0.688\n",
      "Validation Recall: 0.719\n",
      "Validation F1 Score: 0.703\n",
      "Validation ROC AUC Score: 0.843\n",
      "Runtime: 675.7844572067261\n",
      "------------------------------\n",
      "\n"
     ]
    },
    {
     "data": {
      "text/html": [
       "<div>\n",
       "<style scoped>\n",
       "    .dataframe tbody tr th:only-of-type {\n",
       "        vertical-align: middle;\n",
       "    }\n",
       "\n",
       "    .dataframe tbody tr th {\n",
       "        vertical-align: top;\n",
       "    }\n",
       "\n",
       "    .dataframe thead th {\n",
       "        text-align: right;\n",
       "    }\n",
       "</style>\n",
       "<table border=\"1\" class=\"dataframe\">\n",
       "  <thead>\n",
       "    <tr style=\"text-align: right;\">\n",
       "      <th></th>\n",
       "      <th>estimator</th>\n",
       "      <th>best_params</th>\n",
       "      <th>accuracy</th>\n",
       "      <th>precision</th>\n",
       "      <th>recall</th>\n",
       "      <th>f1</th>\n",
       "      <th>roc_auc</th>\n",
       "      <th>y_pred</th>\n",
       "      <th>model</th>\n",
       "    </tr>\n",
       "  </thead>\n",
       "  <tbody>\n",
       "    <tr>\n",
       "      <th>6</th>\n",
       "      <td>SVC</td>\n",
       "      <td>default</td>\n",
       "      <td>0.948488</td>\n",
       "      <td>0.750368</td>\n",
       "      <td>0.678975</td>\n",
       "      <td>0.712889</td>\n",
       "      <td>0.827744</td>\n",
       "      <td>[0, 0, 0, 0, 0, 1, 0, 0, 0, 0, 0, 0, 0, 0, 0, ...</td>\n",
       "      <td>Support Vector Machine</td>\n",
       "    </tr>\n",
       "    <tr>\n",
       "      <th>7</th>\n",
       "      <td>MLPClassifier</td>\n",
       "      <td>default</td>\n",
       "      <td>0.942786</td>\n",
       "      <td>0.687659</td>\n",
       "      <td>0.719228</td>\n",
       "      <td>0.703089</td>\n",
       "      <td>0.842630</td>\n",
       "      <td>[0, 0, 0, 0, 0, 1, 0, 0, 0, 0, 0, 0, 0, 0, 0, ...</td>\n",
       "      <td>MLP Classifier</td>\n",
       "    </tr>\n",
       "    <tr>\n",
       "      <th>5</th>\n",
       "      <td>RandomForestClassifier</td>\n",
       "      <td>default</td>\n",
       "      <td>0.934482</td>\n",
       "      <td>0.638510</td>\n",
       "      <td>0.701597</td>\n",
       "      <td>0.668569</td>\n",
       "      <td>0.830147</td>\n",
       "      <td>[0, 0, 0, 0, 0, 1, 0, 0, 1, 0, 0, 0, 0, 0, 0, ...</td>\n",
       "      <td>Random Forest</td>\n",
       "    </tr>\n",
       "    <tr>\n",
       "      <th>4</th>\n",
       "      <td>GradientBoostingClassifier</td>\n",
       "      <td>default</td>\n",
       "      <td>0.933981</td>\n",
       "      <td>0.650485</td>\n",
       "      <td>0.646374</td>\n",
       "      <td>0.648423</td>\n",
       "      <td>0.805130</td>\n",
       "      <td>[0, 0, 0, 0, 0, 0, 0, 0, 0, 0, 0, 0, 0, 0, 0, ...</td>\n",
       "      <td>Gradient Boosting</td>\n",
       "    </tr>\n",
       "    <tr>\n",
       "      <th>1</th>\n",
       "      <td>LogisticRegression</td>\n",
       "      <td>default</td>\n",
       "      <td>0.906220</td>\n",
       "      <td>0.501295</td>\n",
       "      <td>0.837325</td>\n",
       "      <td>0.627133</td>\n",
       "      <td>0.875354</td>\n",
       "      <td>[0, 0, 0, 0, 1, 1, 0, 0, 0, 0, 0, 0, 0, 0, 0, ...</td>\n",
       "      <td>Logistic Regression</td>\n",
       "    </tr>\n",
       "    <tr>\n",
       "      <th>0</th>\n",
       "      <td>MultinomialNB</td>\n",
       "      <td>default</td>\n",
       "      <td>0.899138</td>\n",
       "      <td>0.479687</td>\n",
       "      <td>0.836660</td>\n",
       "      <td>0.609771</td>\n",
       "      <td>0.871147</td>\n",
       "      <td>[0, 0, 0, 0, 1, 0, 0, 0, 0, 0, 0, 0, 0, 1, 0, ...</td>\n",
       "      <td>Multinomial Naive Bayes</td>\n",
       "    </tr>\n",
       "    <tr>\n",
       "      <th>3</th>\n",
       "      <td>DecisionTreeClassifier</td>\n",
       "      <td>default</td>\n",
       "      <td>0.896130</td>\n",
       "      <td>0.465781</td>\n",
       "      <td>0.699601</td>\n",
       "      <td>0.559234</td>\n",
       "      <td>0.808083</td>\n",
       "      <td>[0, 0, 0, 0, 0, 1, 0, 0, 0, 0, 0, 0, 0, 0, 0, ...</td>\n",
       "      <td>Decision Tree</td>\n",
       "    </tr>\n",
       "    <tr>\n",
       "      <th>2</th>\n",
       "      <td>KNeighborsClassifier</td>\n",
       "      <td>default</td>\n",
       "      <td>0.325270</td>\n",
       "      <td>0.115378</td>\n",
       "      <td>0.924484</td>\n",
       "      <td>0.205153</td>\n",
       "      <td>0.593724</td>\n",
       "      <td>[0, 0, 1, 0, 1, 0, 1, 1, 0, 1, 1, 1, 1, 0, 1, ...</td>\n",
       "      <td>K-Nearest Neighbors</td>\n",
       "    </tr>\n",
       "  </tbody>\n",
       "</table>\n",
       "</div>"
      ],
      "text/plain": [
       "                    estimator best_params  accuracy  precision    recall  \\\n",
       "6                         SVC     default  0.948488   0.750368  0.678975   \n",
       "7               MLPClassifier     default  0.942786   0.687659  0.719228   \n",
       "5      RandomForestClassifier     default  0.934482   0.638510  0.701597   \n",
       "4  GradientBoostingClassifier     default  0.933981   0.650485  0.646374   \n",
       "1          LogisticRegression     default  0.906220   0.501295  0.837325   \n",
       "0               MultinomialNB     default  0.899138   0.479687  0.836660   \n",
       "3      DecisionTreeClassifier     default  0.896130   0.465781  0.699601   \n",
       "2        KNeighborsClassifier     default  0.325270   0.115378  0.924484   \n",
       "\n",
       "         f1   roc_auc                                             y_pred  \\\n",
       "6  0.712889  0.827744  [0, 0, 0, 0, 0, 1, 0, 0, 0, 0, 0, 0, 0, 0, 0, ...   \n",
       "7  0.703089  0.842630  [0, 0, 0, 0, 0, 1, 0, 0, 0, 0, 0, 0, 0, 0, 0, ...   \n",
       "5  0.668569  0.830147  [0, 0, 0, 0, 0, 1, 0, 0, 1, 0, 0, 0, 0, 0, 0, ...   \n",
       "4  0.648423  0.805130  [0, 0, 0, 0, 0, 0, 0, 0, 0, 0, 0, 0, 0, 0, 0, ...   \n",
       "1  0.627133  0.875354  [0, 0, 0, 0, 1, 1, 0, 0, 0, 0, 0, 0, 0, 0, 0, ...   \n",
       "0  0.609771  0.871147  [0, 0, 0, 0, 1, 0, 0, 0, 0, 0, 0, 0, 0, 1, 0, ...   \n",
       "3  0.559234  0.808083  [0, 0, 0, 0, 0, 1, 0, 0, 0, 0, 0, 0, 0, 0, 0, ...   \n",
       "2  0.205153  0.593724  [0, 0, 1, 0, 1, 0, 1, 1, 0, 1, 1, 1, 1, 0, 1, ...   \n",
       "\n",
       "                     model  \n",
       "6   Support Vector Machine  \n",
       "7           MLP Classifier  \n",
       "5            Random Forest  \n",
       "4        Gradient Boosting  \n",
       "1      Logistic Regression  \n",
       "0  Multinomial Naive Bayes  \n",
       "3            Decision Tree  \n",
       "2      K-Nearest Neighbors  "
      ]
     },
     "execution_count": 72,
     "metadata": {},
     "output_type": "execute_result"
    }
   ],
   "source": [
    "## Validation Result\n",
    "\n",
    "# Define the models and corresponding parameter distributions\n",
    "models = {\"Multinomial Naive Bayes\": (MultinomialNB, None, 1),\n",
    "          \"Logistic Regression\": (LogisticRegression, None, 1),\n",
    "          \"K-Nearest Neighbors\": (KNeighborsClassifier, None, 1),\n",
    "          \"Decision Tree\": (DecisionTreeClassifier, None, 1),\n",
    "          \"Gradient Boosting\": (GradientBoostingClassifier, None, 1),\n",
    "          \"Random Forest\": (RandomForestClassifier, None, 1),\n",
    "          \"Support Vector Machine\": (SVC, None, 1),\n",
    "          \"MLP Classifier\": (MLPClassifier, None, 1)}\n",
    "\n",
    "# Create empty list of results\n",
    "results = []\n",
    "\n",
    "# Loop through the models and append the results\n",
    "for name, (model, param, cv) in models.items():\n",
    "    result = train_val(model, param, cv, verbose = True)\n",
    "    result[\"model\"] = name\n",
    "    results.append(result)\n",
    "\n",
    "results_df = pd.concat(results, ignore_index = True)\n",
    "results_df.sort_values(\"f1\", ascending = False)"
   ]
  },
  {
   "cell_type": "markdown",
   "id": "38e453a4-9bb8-400d-b9bb-260f47ec916c",
   "metadata": {},
   "source": [
    "  "
   ]
  },
  {
   "cell_type": "markdown",
   "id": "87149208-31f5-4f2e-aff2-002bbb326df6",
   "metadata": {},
   "source": [
    "### 3.1 Hyperparameter Tuning"
   ]
  },
  {
   "cell_type": "markdown",
   "id": "d0e3dd6b-4765-4ea5-b5f5-0f03dba3391e",
   "metadata": {},
   "source": [
    "_Due to time and resource constraints, we will focus on fine-tuming the **MultinomialNB, LogisticRegression, and GradientBoostingClassifier** models, which demonstrated **optimal performance with minimal training time** in the baseline results._  "
   ]
  },
  {
   "cell_type": "markdown",
   "id": "18060364-0937-4347-811b-028e70fab976",
   "metadata": {},
   "source": [
    "  "
   ]
  },
  {
   "cell_type": "markdown",
   "id": "5f5852e5-5188-4996-959e-71dd3962e7fa",
   "metadata": {},
   "source": [
    "#### Naive Bayes"
   ]
  },
  {
   "cell_type": "code",
   "execution_count": 88,
   "id": "d2fdd8c4-c058-40a9-bac0-d59b4e8b30a3",
   "metadata": {},
   "outputs": [
    {
     "name": "stdout",
     "output_type": "stream",
     "text": [
      "-------- MultinomialNB --------\n",
      "Validation Accuracy: 0.899\n",
      "Validation Precision: 0.480\n",
      "Validation Recall: 0.837\n",
      "Validation F1 Score: 0.610\n",
      "Validation ROC AUC Score: 0.871\n",
      "Runtime: 0.10354781150817871\n",
      "------------------------------\n",
      "\n"
     ]
    },
    {
     "data": {
      "text/html": [
       "<div>\n",
       "<style scoped>\n",
       "    .dataframe tbody tr th:only-of-type {\n",
       "        vertical-align: middle;\n",
       "    }\n",
       "\n",
       "    .dataframe tbody tr th {\n",
       "        vertical-align: top;\n",
       "    }\n",
       "\n",
       "    .dataframe thead th {\n",
       "        text-align: right;\n",
       "    }\n",
       "</style>\n",
       "<table border=\"1\" class=\"dataframe\">\n",
       "  <thead>\n",
       "    <tr style=\"text-align: right;\">\n",
       "      <th></th>\n",
       "      <th>estimator</th>\n",
       "      <th>best_params</th>\n",
       "      <th>accuracy</th>\n",
       "      <th>precision</th>\n",
       "      <th>recall</th>\n",
       "      <th>f1</th>\n",
       "      <th>roc_auc</th>\n",
       "      <th>y_pred</th>\n",
       "    </tr>\n",
       "  </thead>\n",
       "  <tbody>\n",
       "    <tr>\n",
       "      <th>0</th>\n",
       "      <td>MultinomialNB</td>\n",
       "      <td>default</td>\n",
       "      <td>0.899138</td>\n",
       "      <td>0.479687</td>\n",
       "      <td>0.83666</td>\n",
       "      <td>0.609771</td>\n",
       "      <td>0.871147</td>\n",
       "      <td>[0, 0, 0, 0, 1, 0, 0, 0, 0, 0, 0, 0, 0, 1, 0, ...</td>\n",
       "    </tr>\n",
       "  </tbody>\n",
       "</table>\n",
       "</div>"
      ],
      "text/plain": [
       "       estimator best_params  accuracy  precision   recall        f1  \\\n",
       "0  MultinomialNB     default  0.899138   0.479687  0.83666  0.609771   \n",
       "\n",
       "    roc_auc                                             y_pred  \n",
       "0  0.871147  [0, 0, 0, 0, 1, 0, 0, 0, 0, 0, 0, 0, 0, 1, 0, ...  "
      ]
     },
     "execution_count": 88,
     "metadata": {},
     "output_type": "execute_result"
    }
   ],
   "source": [
    "# Baseline performance\n",
    "train_val(MultinomialNB, None, cv = 1)"
   ]
  },
  {
   "cell_type": "code",
   "execution_count": 90,
   "id": "4d509321-1c05-4664-9bf1-6e95c0d7325f",
   "metadata": {
    "tags": []
   },
   "outputs": [
    {
     "data": {
      "image/png": "[encoded data removed]",
      "text/plain": [
       "<Figure size 800x450 with 1 Axes>"
      ]
     },
     "metadata": {},
     "output_type": "display_data"
    }
   ],
   "source": [
    "# Initialize lists to store metrics\n",
    "train_metric = []\n",
    "dev_metric = []\n",
    "alphas = np.logspace(-4, 4, 100)\n",
    "\n",
    "# Loop through each alpha value\n",
    "for alpha in alphas:\n",
    "    # Initialize the model with the current alpha\n",
    "    nb = MultinomialNB(alpha=alpha)\n",
    "    \n",
    "    # Train the model\n",
    "    model = nb.fit(X_train, y_train)\n",
    "    \n",
    "    # Make predictions\n",
    "    train_pred = model.predict(X_train)\n",
    "    dev_pred = model.predict(X_dev)\n",
    "    \n",
    "    # Compute F1 scores\n",
    "    train_metric.append(f1_score(y_train, train_pred))\n",
    "    dev_metric.append(f1_score(y_dev, dev_pred))\n",
    "\n",
    "# Create the plot\n",
    "plt.rcParams.update({\"font.family\": \"serif\"})\n",
    "fig, ax = plt.subplots(figsize=(8, 4.5))\n",
    "ax.plot(alphas, train_metric, color=\"#486A82\", label=\"Train F1\")\n",
    "ax.plot(alphas, dev_metric, color=\"#C35D4E\", label=\"Dev F1\")\n",
    "ax.set_title(\"F1 Score vs Alpha for MultinomialNB\", size=18, weight=\"bold\", pad=20)\n",
    "ax.set_xlabel(\"Alpha (log scale)\", size=14, labelpad=10)\n",
    "ax.set_ylabel(\"F1 Score\", size=14, labelpad=10)\n",
    "ax.set_xscale(\"log\")\n",
    "ax.legend(loc=\"best\", fontsize=12, framealpha=0.5)\n",
    "\n",
    "plt.show()"
   ]
  },
  {
   "cell_type": "code",
   "execution_count": 98,
   "id": "d5ef8f9b-487b-4008-9916-78ee068629eb",
   "metadata": {},
   "outputs": [
    {
     "name": "stdout",
     "output_type": "stream",
     "text": [
      "-------- MultinomialNB --------\n",
      "Best hyperparameters: {'alpha': 201.0}\n",
      "Best score: 0.846231\n",
      "Validation Accuracy: 0.923\n",
      "Validation Precision: 0.568\n",
      "Validation Recall: 0.775\n",
      "Validation F1 Score: 0.656\n",
      "Validation ROC AUC Score: 0.857\n",
      "Runtime: 95.7673647403717\n",
      "------------------------------\n",
      "\n"
     ]
    }
   ],
   "source": [
    "# Randomized Search -- {'alpha': 201.0}}\n",
    "# https://scikit-learn.org/stable/modules/generated/sklearn.naive_bayes.MultinomialNB.html\n",
    "\n",
    "# Define the parameter distribution\n",
    "nb_param = {\"alpha\": np.linspace(200, 1000, 801)}\n",
    "\n",
    "# Train the model\n",
    "result_nb = train_val(MultinomialNB, nb_param, n_iter = 200, cv = 5)"
   ]
  },
  {
   "cell_type": "code",
   "execution_count": 100,
   "id": "bd3b046f-5664-4e00-b210-1dd67a1295e6",
   "metadata": {},
   "outputs": [
    {
     "name": "stdout",
     "output_type": "stream",
     "text": [
      "-------- MultinomialNB --------\n",
      "Best hyperparameters: {'alpha': 201.0}\n",
      "Best score: 0.846231\n",
      "Validation Accuracy: 0.923\n",
      "Validation Precision: 0.568\n",
      "Validation Recall: 0.775\n",
      "Validation F1 Score: 0.656\n",
      "Validation ROC AUC Score: 0.857\n",
      "Runtime: 0.6542737483978271\n",
      "------------------------------\n",
      "\n"
     ]
    }
   ],
   "source": [
    "## Validation\n",
    "\n",
    "# Define the parameter distribution\n",
    "nb_param = {\"alpha\": [201.0]}\n",
    "\n",
    "# Train the model\n",
    "result_nb = train_val(MultinomialNB, nb_param, n_iter = 1, cv = 5)"
   ]
  },
  {
   "cell_type": "code",
   "execution_count": 102,
   "id": "e82a3320-bfba-4f06-a17a-24d4d1b39741",
   "metadata": {},
   "outputs": [
    {
     "name": "stdout",
     "output_type": "stream",
     "text": [
      "-------- MultinomialNB --------\n",
      "Test Accuracy: 0.867\n",
      "Test Precision: 0.406\n",
      "Test Recall: 0.853\n",
      "Test F1 Score: 0.551\n",
      "Test ROC AUC Score: 0.861\n",
      "------------------------------\n",
      "\n"
     ]
    }
   ],
   "source": [
    "## Final Evaluation on Test Set\n",
    "\n",
    "# Initialize the estimator with best hyperparameters\n",
    "nb = MultinomialNB(alpha = 201)\n",
    "    \n",
    "# Fit the model on training set \n",
    "nb.fit(X_train, y_train)\n",
    "\n",
    "# Make predictions on test set\n",
    "y_pred = nb.predict(X_test)\n",
    "    \n",
    "# Final evaluation \n",
    "print(f\"-------- MultinomialNB --------\")\n",
    "print(f\"Test Accuracy: {accuracy_score(y_test, y_pred):.3f}\")\n",
    "print(f\"Test Precision: {precision_score(y_test, y_pred):.3f}\")\n",
    "print(f\"Test Recall: {recall_score(y_test, y_pred):.3f}\")\n",
    "print(f\"Test F1 Score: {f1_score(y_test, y_pred):.3f}\")\n",
    "print(f\"Test ROC AUC Score: {roc_auc_score(y_test, y_pred):.3f}\")\n",
    "print(\"------------------------------\\n\")"
   ]
  },
  {
   "cell_type": "markdown",
   "id": "3eafddd7-7b07-48ed-82f9-91200865a3eb",
   "metadata": {},
   "source": [
    "_The fine-tuned MultinomialNB model, adjusted with `alpha = 201`, improved its validation F1 score from 0.610 to **0.656**.  The final evaluation on test set yielded an F1 score of **0.551**._  "
   ]
  },
  {
   "cell_type": "markdown",
   "id": "996e3ac5-27f6-41a8-8913-c309066c173a",
   "metadata": {},
   "source": [
    "  "
   ]
  },
  {
   "cell_type": "markdown",
   "id": "0ad0c453-8e7c-48eb-a6b1-7998a52fd334",
   "metadata": {},
   "source": [
    "#### Logistic Regression"
   ]
  },
  {
   "cell_type": "code",
   "execution_count": 104,
   "id": "ff076428-cb22-4eb9-993b-fd734c09652c",
   "metadata": {},
   "outputs": [
    {
     "name": "stdout",
     "output_type": "stream",
     "text": [
      "-------- LogisticRegression --------\n",
      "Validation Accuracy: 0.906\n",
      "Validation Precision: 0.501\n",
      "Validation Recall: 0.838\n",
      "Validation F1 Score: 0.627\n",
      "Validation ROC AUC Score: 0.875\n",
      "Runtime: 1.8033978939056396\n",
      "------------------------------\n",
      "\n"
     ]
    },
    {
     "data": {
      "text/html": [
       "<div>\n",
       "<style scoped>\n",
       "    .dataframe tbody tr th:only-of-type {\n",
       "        vertical-align: middle;\n",
       "    }\n",
       "\n",
       "    .dataframe tbody tr th {\n",
       "        vertical-align: top;\n",
       "    }\n",
       "\n",
       "    .dataframe thead th {\n",
       "        text-align: right;\n",
       "    }\n",
       "</style>\n",
       "<table border=\"1\" class=\"dataframe\">\n",
       "  <thead>\n",
       "    <tr style=\"text-align: right;\">\n",
       "      <th></th>\n",
       "      <th>estimator</th>\n",
       "      <th>best_params</th>\n",
       "      <th>accuracy</th>\n",
       "      <th>precision</th>\n",
       "      <th>recall</th>\n",
       "      <th>f1</th>\n",
       "      <th>roc_auc</th>\n",
       "      <th>y_pred</th>\n",
       "    </tr>\n",
       "  </thead>\n",
       "  <tbody>\n",
       "    <tr>\n",
       "      <th>0</th>\n",
       "      <td>LogisticRegression</td>\n",
       "      <td>default</td>\n",
       "      <td>0.906188</td>\n",
       "      <td>0.501194</td>\n",
       "      <td>0.837658</td>\n",
       "      <td>0.627148</td>\n",
       "      <td>0.875486</td>\n",
       "      <td>[0, 0, 0, 0, 1, 1, 0, 0, 0, 0, 0, 0, 0, 0, 0, ...</td>\n",
       "    </tr>\n",
       "  </tbody>\n",
       "</table>\n",
       "</div>"
      ],
      "text/plain": [
       "            estimator best_params  accuracy  precision    recall        f1  \\\n",
       "0  LogisticRegression     default  0.906188   0.501194  0.837658  0.627148   \n",
       "\n",
       "    roc_auc                                             y_pred  \n",
       "0  0.875486  [0, 0, 0, 0, 1, 1, 0, 0, 0, 0, 0, 0, 0, 0, 0, ...  "
      ]
     },
     "execution_count": 104,
     "metadata": {},
     "output_type": "execute_result"
    }
   ],
   "source": [
    "# Baseline performance\n",
    "train_val(LogisticRegression, None, cv = 1)"
   ]
  },
  {
   "cell_type": "code",
   "execution_count": 106,
   "id": "b020b281-66ae-495a-a733-d1043c457b55",
   "metadata": {
    "tags": []
   },
   "outputs": [
    {
     "data": {
      "image/png": "[encoded data removed]",
      "text/plain": [
       "<Figure size 800x450 with 1 Axes>"
      ]
     },
     "metadata": {},
     "output_type": "display_data"
    }
   ],
   "source": [
    "# Initialize lists to store metrics\n",
    "train_metric = []\n",
    "dev_metric = []\n",
    "Cs = np.logspace(-4, 4, 100)\n",
    "\n",
    "# Loop through each alpha value\n",
    "for C in Cs:\n",
    "    # Initialize the model with the current alpha\n",
    "    lr = LogisticRegression(C=C)\n",
    "    \n",
    "    # Train the model\n",
    "    model = lr.fit(X_train, y_train)\n",
    "    \n",
    "    # Make predictions\n",
    "    train_pred = model.predict(X_train)\n",
    "    dev_pred = model.predict(X_dev)\n",
    "    \n",
    "    # Compute F1 scores\n",
    "    train_metric.append(f1_score(y_train, train_pred))\n",
    "    dev_metric.append(f1_score(y_dev, dev_pred))\n",
    "\n",
    "# Create the plot\n",
    "plt.rcParams.update({\"font.family\": \"serif\"})\n",
    "fig, ax = plt.subplots(figsize=(8, 4.5))\n",
    "ax.plot(Cs, train_metric, color=\"#486A82\", label=\"Train F1\")\n",
    "ax.plot(Cs, dev_metric, color=\"#C35D4E\", label=\"Dev F1\")\n",
    "ax.set_title(\"F1 Score vs C for LogisticRegression\", size=18, weight=\"bold\", pad=20)\n",
    "ax.set_xlabel(\"C (log scale)\", size=14, labelpad=10)\n",
    "ax.set_ylabel(\"F1 Score\", size=14, labelpad=10)\n",
    "ax.set_xscale(\"log\")\n",
    "ax.legend(loc=\"best\", fontsize=12, framealpha=0.5)\n",
    "\n",
    "plt.show()"
   ]
  },
  {
   "cell_type": "code",
   "execution_count": 108,
   "id": "c8c73768-a224-48f6-a57d-b79bbce429cb",
   "metadata": {},
   "outputs": [
    {
     "name": "stdout",
     "output_type": "stream",
     "text": [
      "-------- LogisticRegression --------\n",
      "Best hyperparameters: {'solver': 'lbfgs', 'C': 3.0}\n",
      "Best score: 0.924882\n",
      "Validation Accuracy: 0.907\n",
      "Validation Precision: 0.505\n",
      "Validation Recall: 0.839\n",
      "Validation F1 Score: 0.630\n",
      "Validation ROC AUC Score: 0.877\n",
      "Runtime: 466.2848732471466\n",
      "------------------------------\n",
      "\n"
     ]
    }
   ],
   "source": [
    "# Randomized search - {'solver': 'newton-cg', 'C': 3.85}\n",
    "# Larger the C = slower training \n",
    "# Solver matters in terms of training speed \n",
    "# Training Speed: sag > saga > newton_cg > linlinear > lbfgs (slowest)\n",
    "# For multiclass problems, only \"newton-cg\", \"sag\", \"saga\" and \"lbfgs\" handle multinomial loss\n",
    "# Define the parameter distribution\n",
    "lr_param = {\"C\": np.linspace(1, 3, 31),\n",
    "            \"solver\": [\"saga\", \"lbfgs\", \"newton-cg\"]}\n",
    "\n",
    "# Train the model\n",
    "result_lr = train_val(LogisticRegression, lr_param, n_iter = 60, cv = 5)"
   ]
  },
  {
   "cell_type": "code",
   "execution_count": 110,
   "id": "2885b2a9-106d-4a8c-bcb6-a82da450a12a",
   "metadata": {},
   "outputs": [
    {
     "name": "stdout",
     "output_type": "stream",
     "text": [
      "-------- LogisticRegression --------\n",
      "Best hyperparameters: {'solver': 'lbfgs', 'C': 3.0}\n",
      "Best score: 0.924882\n",
      "Validation Accuracy: 0.907\n",
      "Validation Precision: 0.505\n",
      "Validation Recall: 0.839\n",
      "Validation F1 Score: 0.630\n",
      "Validation ROC AUC Score: 0.877\n",
      "Runtime: 10.84574818611145\n",
      "------------------------------\n",
      "\n"
     ]
    }
   ],
   "source": [
    "## Validation\n",
    "\n",
    "# Define the parameter distribution\n",
    "lr_param = {\"C\": [3.0],\n",
    "            \"solver\": [\"lbfgs\"]}\n",
    "\n",
    "# Train the model\n",
    "result_lr = train_val(LogisticRegression, lr_param, n_iter = 1, cv = 5)"
   ]
  },
  {
   "cell_type": "code",
   "execution_count": 112,
   "id": "77fbc2d2-e04e-4ac9-85f7-02b3733ea0d0",
   "metadata": {},
   "outputs": [
    {
     "name": "stdout",
     "output_type": "stream",
     "text": [
      "-------- LogisticRegression --------\n",
      "Test Accuracy: 0.822\n",
      "Test Precision: 0.339\n",
      "Test Recall: 0.911\n",
      "Test F1 Score: 0.494\n",
      "Test ROC AUC Score: 0.862\n",
      "------------------------------\n",
      "\n"
     ]
    }
   ],
   "source": [
    "## Final Evaluation on Test Set\n",
    "\n",
    "# Initialize the estimator with best hyperparameters\n",
    "lr = LogisticRegression(C = 3.0, solver = \"lbfgs\")\n",
    "    \n",
    "# Fit the model on training set \n",
    "lr.fit(X_train, y_train)\n",
    "\n",
    "# Make predictions on test set\n",
    "y_pred = lr.predict(X_test)\n",
    "    \n",
    "# Final evaluation \n",
    "print(f\"-------- LogisticRegression --------\")\n",
    "print(f\"Test Accuracy: {accuracy_score(y_test, y_pred):.3f}\")\n",
    "print(f\"Test Precision: {precision_score(y_test, y_pred):.3f}\")\n",
    "print(f\"Test Recall: {recall_score(y_test, y_pred):.3f}\")\n",
    "print(f\"Test F1 Score: {f1_score(y_test, y_pred):.3f}\")\n",
    "print(f\"Test ROC AUC Score: {roc_auc_score(y_test, y_pred):.3f}\")\n",
    "print(\"------------------------------\\n\")"
   ]
  },
  {
   "cell_type": "markdown",
   "id": "4a2b0839-0121-4531-82f3-699ae72c633f",
   "metadata": {},
   "source": [
    "_Using `C = 3.0`, we slightly improved the validation F1 score from 0.627 to **0.630**.  The fine-tuned logistic regression model resulted in an F1 score of **0.494** on test set, showing **less optimal test performance** than Naive Bayes._  "
   ]
  },
  {
   "cell_type": "markdown",
   "id": "a1749180-5bda-43ff-b880-2ff03974445d",
   "metadata": {},
   "source": [
    "  "
   ]
  },
  {
   "cell_type": "markdown",
   "id": "bba5d12e-becc-4f08-98ac-913e5e3b5538",
   "metadata": {},
   "source": [
    "#### Gradient Boosting"
   ]
  },
  {
   "cell_type": "code",
   "execution_count": 76,
   "id": "bdf4b900-f3ed-41f2-a7ce-d7064071008e",
   "metadata": {
    "tags": []
   },
   "outputs": [
    {
     "name": "stdout",
     "output_type": "stream",
     "text": [
      "-------- GradientBoostingClassifier --------\n",
      "Validation Accuracy: 0.934\n",
      "Validation Precision: 0.650\n",
      "Validation Recall: 0.646\n",
      "Validation F1 Score: 0.648\n",
      "Validation ROC AUC Score: 0.805\n",
      "Runtime: 157.1048231124878\n",
      "------------------------------\n",
      "\n"
     ]
    },
    {
     "data": {
      "text/html": [
       "<div>\n",
       "<style scoped>\n",
       "    .dataframe tbody tr th:only-of-type {\n",
       "        vertical-align: middle;\n",
       "    }\n",
       "\n",
       "    .dataframe tbody tr th {\n",
       "        vertical-align: top;\n",
       "    }\n",
       "\n",
       "    .dataframe thead th {\n",
       "        text-align: right;\n",
       "    }\n",
       "</style>\n",
       "<table border=\"1\" class=\"dataframe\">\n",
       "  <thead>\n",
       "    <tr style=\"text-align: right;\">\n",
       "      <th></th>\n",
       "      <th>estimator</th>\n",
       "      <th>best_params</th>\n",
       "      <th>accuracy</th>\n",
       "      <th>precision</th>\n",
       "      <th>recall</th>\n",
       "      <th>f1</th>\n",
       "      <th>roc_auc</th>\n",
       "      <th>y_pred</th>\n",
       "    </tr>\n",
       "  </thead>\n",
       "  <tbody>\n",
       "    <tr>\n",
       "      <th>0</th>\n",
       "      <td>GradientBoostingClassifier</td>\n",
       "      <td>default</td>\n",
       "      <td>0.933981</td>\n",
       "      <td>0.650485</td>\n",
       "      <td>0.646374</td>\n",
       "      <td>0.648423</td>\n",
       "      <td>0.80513</td>\n",
       "      <td>[0, 0, 0, 0, 0, 0, 0, 0, 0, 0, 0, 0, 0, 0, 0, ...</td>\n",
       "    </tr>\n",
       "  </tbody>\n",
       "</table>\n",
       "</div>"
      ],
      "text/plain": [
       "                    estimator best_params  accuracy  precision    recall  \\\n",
       "0  GradientBoostingClassifier     default  0.933981   0.650485  0.646374   \n",
       "\n",
       "         f1  roc_auc                                             y_pred  \n",
       "0  0.648423  0.80513  [0, 0, 0, 0, 0, 0, 0, 0, 0, 0, 0, 0, 0, 0, 0, ...  "
      ]
     },
     "execution_count": 76,
     "metadata": {},
     "output_type": "execute_result"
    }
   ],
   "source": [
    "# Baseline performance\n",
    "train_val(GradientBoostingClassifier, None, cv = 1)"
   ]
  },
  {
   "cell_type": "code",
   "execution_count": 117,
   "id": "3e8034f7-09c5-43bf-9fd5-95bff051e15c",
   "metadata": {},
   "outputs": [
    {
     "name": "stdout",
     "output_type": "stream",
     "text": [
      "-------- GradientBoostingClassifier --------\n",
      "Best hyperparameters: {'n_estimators': 400, 'min_samples_split': 0.4555555555555556, 'max_features': 'sqrt', 'max_depth': 30, 'learning_rate': 0.01}\n",
      "Best score: 0.880276\n",
      "Validation Accuracy: 0.934\n",
      "Validation Precision: 0.626\n",
      "Validation Recall: 0.733\n",
      "Validation F1 Score: 0.675\n",
      "Validation ROC AUC Score: 0.844\n",
      "Runtime: 21990.502000808716\n",
      "------------------------------\n",
      "\n"
     ]
    }
   ],
   "source": [
    "# Randomized search - {'n_estimators': 400, 'min_samples_split': 0.4555555555555556, 'max_features': 'sqrt', 'max_depth': 30, 'learning_rate': 0.01}\n",
    "gbc_param = {\"learning_rate\": np.logspace(-3, -2, 10),\n",
    "             \"n_estimators\": range(200, 600, 50),\n",
    "             \"min_samples_split\": np.linspace(0.1, 0.5, 10),\n",
    "             \"max_depth\": range(1, 31),\n",
    "             \"max_features\": [\"sqrt\", \"log2\"]}\n",
    "\n",
    "# Train the model\n",
    "result_gbc = train_val(GradientBoostingClassifier, gbc_param, n_iter = 100)"
   ]
  },
  {
   "cell_type": "code",
   "execution_count": 70,
   "id": "7e5ebd9f-9b8a-4cc5-8019-085f93694201",
   "metadata": {},
   "outputs": [
    {
     "name": "stdout",
     "output_type": "stream",
     "text": [
      "-------- GradientBoostingClassifier --------\n",
      "Best hyperparameters: {'n_estimators': 400, 'min_samples_split': 0.4555555555555556, 'max_features': 'sqrt', 'max_depth': 30, 'learning_rate': 0.01}\n",
      "Best score: 0.880440\n",
      "Validation Accuracy: 0.933\n",
      "Validation Precision: 0.621\n",
      "Validation Recall: 0.731\n",
      "Validation F1 Score: 0.672\n",
      "Validation ROC AUC Score: 0.842\n",
      "Runtime: 663.8966751098633\n",
      "------------------------------\n",
      "\n"
     ]
    }
   ],
   "source": [
    "## Validation\n",
    "\n",
    "# Define the parameter distribution\n",
    "gbc_param = {\"n_estimators\": [400], \n",
    "             \"min_samples_split\": [0.4555555555555556], \n",
    "             \"max_features\": [\"sqrt\"], \n",
    "             \"max_depth\": [30], \n",
    "             \"learning_rate\": [0.01]}\n",
    "\n",
    "# Train the model\n",
    "result_gbc = train_val(GradientBoostingClassifier, gbc_param, n_iter = 1, cv = 5)"
   ]
  },
  {
   "cell_type": "code",
   "execution_count": 72,
   "id": "744445c7-f387-425e-a9e0-1a423501da86",
   "metadata": {},
   "outputs": [
    {
     "name": "stdout",
     "output_type": "stream",
     "text": [
      "-------- GradientBoostingClassifier --------\n",
      "Test Accuracy: 0.885\n",
      "Test Precision: 0.444\n",
      "Test Recall: 0.814\n",
      "Test F1 Score: 0.575\n",
      "Test ROC AUC Score: 0.853\n",
      "------------------------------\n",
      "\n"
     ]
    }
   ],
   "source": [
    "## Final Evaluation on Test Set\n",
    "\n",
    "# Initialize the estimator with best hyperparameters\n",
    "gbc = GradientBoostingClassifier(n_estimators = 400, \n",
    "                                 min_samples_split = 0.4555555555555556, \n",
    "                                 max_features = \"sqrt\", \n",
    "                                 max_depth = 30, \n",
    "                                 learning_rate = 0.01)\n",
    "    \n",
    "# Fit the model on training set \n",
    "gbc.fit(X_train, y_train)\n",
    "\n",
    "# Make predictions on test set\n",
    "y_pred = gbc.predict(X_test)\n",
    "    \n",
    "# Final evaluation \n",
    "print(f\"-------- GradientBoostingClassifier --------\")\n",
    "print(f\"Test Accuracy: {accuracy_score(y_test, y_pred):.3f}\")\n",
    "print(f\"Test Precision: {precision_score(y_test, y_pred):.3f}\")\n",
    "print(f\"Test Recall: {recall_score(y_test, y_pred):.3f}\")\n",
    "print(f\"Test F1 Score: {f1_score(y_test, y_pred):.3f}\")\n",
    "print(f\"Test ROC AUC Score: {roc_auc_score(y_test, y_pred):.3f}\")\n",
    "print(\"------------------------------\\n\")"
   ]
  },
  {
   "cell_type": "markdown",
   "id": "69956db2-bbeb-4763-9015-abb9a9fd93fb",
   "metadata": {},
   "source": [
    "_Finally, we fine-tuned the gradient boosting classifier and improved the validation F1 score from 0.648 to **0.675**.  This model achieved an F1 score of **0.575** in test performance, which is the best-performing model among the three._   "
   ]
  },
  {
   "cell_type": "markdown",
   "id": "f072175c-c614-4312-b988-3349adbaf11d",
   "metadata": {},
   "source": [
    "  "
   ]
  },
  {
   "cell_type": "markdown",
   "id": "309e88d7-10d2-4c01-97e7-5535d6646575",
   "metadata": {},
   "source": [
    "### 3.2 Model Evaluation"
   ]
  },
  {
   "cell_type": "markdown",
   "id": "c7cfc670-8fde-4c53-84a3-251326808739",
   "metadata": {},
   "source": [
    "_Lastly, we will perform the final model evaluation on the **test set** and compare the performance._  "
   ]
  },
  {
   "cell_type": "code",
   "execution_count": 129,
   "id": "083fe727-60a1-472d-a3c1-ea33a0ae2178",
   "metadata": {
    "tags": []
   },
   "outputs": [
    {
     "name": "stdout",
     "output_type": "stream",
     "text": [
      "-------- MultinomialNB --------\n",
      "Validation Accuracy: 0.850\n",
      "Validation Precision: 0.376\n",
      "Validation Recall: 0.877\n",
      "Validation F1 Score: 0.527\n",
      "Validation ROC AUC Score: 0.862\n",
      "Runtime: 0.1704721450805664\n",
      "------------------------------\n",
      "\n",
      "-------- LogisticRegression --------\n",
      "Validation Accuracy: 0.822\n",
      "Validation Precision: 0.338\n",
      "Validation Recall: 0.913\n",
      "Validation F1 Score: 0.494\n",
      "Validation ROC AUC Score: 0.862\n",
      "Runtime: 1.6889572143554688\n",
      "------------------------------\n",
      "\n",
      "-------- GradientBoostingClassifier --------\n",
      "Validation Accuracy: 0.894\n",
      "Validation Precision: 0.464\n",
      "Validation Recall: 0.726\n",
      "Validation F1 Score: 0.566\n",
      "Validation ROC AUC Score: 0.819\n",
      "Runtime: 157.4616138935089\n",
      "------------------------------\n",
      "\n"
     ]
    },
    {
     "data": {
      "text/html": [
       "<div>\n",
       "<style scoped>\n",
       "    .dataframe tbody tr th:only-of-type {\n",
       "        vertical-align: middle;\n",
       "    }\n",
       "\n",
       "    .dataframe tbody tr th {\n",
       "        vertical-align: top;\n",
       "    }\n",
       "\n",
       "    .dataframe thead th {\n",
       "        text-align: right;\n",
       "    }\n",
       "</style>\n",
       "<table border=\"1\" class=\"dataframe\">\n",
       "  <thead>\n",
       "    <tr style=\"text-align: right;\">\n",
       "      <th></th>\n",
       "      <th>estimator</th>\n",
       "      <th>best_params</th>\n",
       "      <th>accuracy</th>\n",
       "      <th>precision</th>\n",
       "      <th>recall</th>\n",
       "      <th>f1</th>\n",
       "      <th>roc_auc</th>\n",
       "      <th>y_pred</th>\n",
       "      <th>model</th>\n",
       "    </tr>\n",
       "  </thead>\n",
       "  <tbody>\n",
       "    <tr>\n",
       "      <th>2</th>\n",
       "      <td>GradientBoostingClassifier</td>\n",
       "      <td>default</td>\n",
       "      <td>0.894182</td>\n",
       "      <td>0.464286</td>\n",
       "      <td>0.725780</td>\n",
       "      <td>0.566304</td>\n",
       "      <td>0.818839</td>\n",
       "      <td>[0, 0, 0, 0, 0, 0, 0, 0, 1, 0, 0, 0, 0, 0, 0, ...</td>\n",
       "      <td>Gradient Boosting</td>\n",
       "    </tr>\n",
       "    <tr>\n",
       "      <th>0</th>\n",
       "      <td>MultinomialNB</td>\n",
       "      <td>default</td>\n",
       "      <td>0.849964</td>\n",
       "      <td>0.376365</td>\n",
       "      <td>0.877011</td>\n",
       "      <td>0.526700</td>\n",
       "      <td>0.862065</td>\n",
       "      <td>[0, 1, 0, 0, 0, 0, 0, 0, 1, 0, 0, 0, 1, 0, 0, ...</td>\n",
       "      <td>Multinomial Naive Bayes</td>\n",
       "    </tr>\n",
       "    <tr>\n",
       "      <th>1</th>\n",
       "      <td>LogisticRegression</td>\n",
       "      <td>default</td>\n",
       "      <td>0.821876</td>\n",
       "      <td>0.338448</td>\n",
       "      <td>0.912644</td>\n",
       "      <td>0.493781</td>\n",
       "      <td>0.862485</td>\n",
       "      <td>[0, 1, 0, 0, 0, 1, 0, 0, 1, 0, 0, 0, 1, 0, 0, ...</td>\n",
       "      <td>Logistic Regression</td>\n",
       "    </tr>\n",
       "  </tbody>\n",
       "</table>\n",
       "</div>"
      ],
      "text/plain": [
       "                    estimator best_params  accuracy  precision    recall  \\\n",
       "2  GradientBoostingClassifier     default  0.894182   0.464286  0.725780   \n",
       "0               MultinomialNB     default  0.849964   0.376365  0.877011   \n",
       "1          LogisticRegression     default  0.821876   0.338448  0.912644   \n",
       "\n",
       "         f1   roc_auc                                             y_pred  \\\n",
       "2  0.566304  0.818839  [0, 0, 0, 0, 0, 0, 0, 0, 1, 0, 0, 0, 0, 0, 0, ...   \n",
       "0  0.526700  0.862065  [0, 1, 0, 0, 0, 0, 0, 0, 1, 0, 0, 0, 1, 0, 0, ...   \n",
       "1  0.493781  0.862485  [0, 1, 0, 0, 0, 1, 0, 0, 1, 0, 0, 0, 1, 0, 0, ...   \n",
       "\n",
       "                     model  \n",
       "2        Gradient Boosting  \n",
       "0  Multinomial Naive Bayes  \n",
       "1      Logistic Regression  "
      ]
     },
     "execution_count": 129,
     "metadata": {},
     "output_type": "execute_result"
    }
   ],
   "source": [
    "## Basedline Model Test Result\n",
    "\n",
    "# Define the models and corresponding parameter distributions\n",
    "models = {\"Multinomial Naive Bayes\": (MultinomialNB, None, 1),\n",
    "          \"Logistic Regression\": (LogisticRegression, None, 1),\n",
    "          # \"K-Nearest Neighbors\": (KNeighborsClassifier, None, 1),\n",
    "          # \"Decision Tree\": (DecisionTreeClassifier, None, 1),\n",
    "          \"Gradient Boosting\": (GradientBoostingClassifier, None, 1)}\n",
    "          # \"Random Forest\": (RandomForestClassifier, None, 1),\n",
    "          # \"Support Vector Machine\": (SVC, None, 1)}\n",
    "          # \"MLP Classifier\": (MLPClassifier, None, 1)\n",
    "\n",
    "# Create empty list of results\n",
    "results = []\n",
    "\n",
    "# Loop through the models and append the results\n",
    "for name, (model, param, cv) in models.items():\n",
    "    result = train_val(model, param, cv, X_val = X_test, y_val = y_test, verbose = True)\n",
    "    result[\"model\"] = name\n",
    "    results.append(result)\n",
    "\n",
    "results_df = pd.concat(results, ignore_index = True)\n",
    "results_df.sort_values(\"f1\", ascending = False)"
   ]
  },
  {
   "cell_type": "code",
   "execution_count": 130,
   "id": "518334d1-9fe2-4348-bdd4-3d118414332a",
   "metadata": {
    "tags": []
   },
   "outputs": [
    {
     "name": "stdout",
     "output_type": "stream",
     "text": [
      "-------- MultinomialNB --------\n",
      "Best hyperparameters: {'alpha': 201.0}\n",
      "Best score: 0.846231\n",
      "Validation Accuracy: 0.867\n",
      "Validation Precision: 0.406\n",
      "Validation Recall: 0.853\n",
      "Validation F1 Score: 0.551\n",
      "Validation ROC AUC Score: 0.861\n",
      "Runtime: 0.8281190395355225\n",
      "------------------------------\n",
      "\n",
      "-------- LogisticRegression --------\n",
      "Best hyperparameters: {'solver': 'lbfgs', 'C': 3.0}\n",
      "Best score: 0.924882\n",
      "Validation Accuracy: 0.822\n",
      "Validation Precision: 0.339\n",
      "Validation Recall: 0.911\n",
      "Validation F1 Score: 0.494\n",
      "Validation ROC AUC Score: 0.862\n",
      "Runtime: 10.833849906921387\n",
      "------------------------------\n",
      "\n",
      "-------- GradientBoostingClassifier --------\n",
      "Best hyperparameters: {'n_estimators': 400, 'min_samples_split': 0.4555555555555556, 'max_features': 'sqrt', 'max_depth': 30, 'learning_rate': 0.01}\n",
      "Best score: 0.879871\n",
      "Validation Accuracy: 0.884\n",
      "Validation Precision: 0.442\n",
      "Validation Recall: 0.813\n",
      "Validation F1 Score: 0.572\n",
      "Validation ROC AUC Score: 0.852\n",
      "Runtime: 655.3686211109161\n",
      "------------------------------\n",
      "\n"
     ]
    },
    {
     "data": {
      "text/html": [
       "<div>\n",
       "<style scoped>\n",
       "    .dataframe tbody tr th:only-of-type {\n",
       "        vertical-align: middle;\n",
       "    }\n",
       "\n",
       "    .dataframe tbody tr th {\n",
       "        vertical-align: top;\n",
       "    }\n",
       "\n",
       "    .dataframe thead th {\n",
       "        text-align: right;\n",
       "    }\n",
       "</style>\n",
       "<table border=\"1\" class=\"dataframe\">\n",
       "  <thead>\n",
       "    <tr style=\"text-align: right;\">\n",
       "      <th></th>\n",
       "      <th>estimator</th>\n",
       "      <th>best_params</th>\n",
       "      <th>accuracy</th>\n",
       "      <th>precision</th>\n",
       "      <th>recall</th>\n",
       "      <th>f1</th>\n",
       "      <th>roc_auc</th>\n",
       "      <th>y_pred</th>\n",
       "      <th>model</th>\n",
       "    </tr>\n",
       "  </thead>\n",
       "  <tbody>\n",
       "    <tr>\n",
       "      <th>2</th>\n",
       "      <td>GradientBoostingClassifier</td>\n",
       "      <td>{'n_estimators': 400, 'min_samples_split': 0.4...</td>\n",
       "      <td>0.884304</td>\n",
       "      <td>0.441512</td>\n",
       "      <td>0.813136</td>\n",
       "      <td>0.572287</td>\n",
       "      <td>0.852464</td>\n",
       "      <td>[0, 0, 0, 0, 0, 0, 0, 0, 1, 0, 0, 0, 0, 0, 0, ...</td>\n",
       "      <td>Gradient Boosting</td>\n",
       "    </tr>\n",
       "    <tr>\n",
       "      <th>0</th>\n",
       "      <td>MultinomialNB</td>\n",
       "      <td>{'alpha': 201.0}</td>\n",
       "      <td>0.867454</td>\n",
       "      <td>0.406495</td>\n",
       "      <td>0.853038</td>\n",
       "      <td>0.550609</td>\n",
       "      <td>0.861004</td>\n",
       "      <td>[0, 1, 0, 0, 0, 0, 0, 0, 1, 0, 0, 0, 1, 0, 0, ...</td>\n",
       "      <td>Multinomial Naive Bayes</td>\n",
       "    </tr>\n",
       "    <tr>\n",
       "      <th>1</th>\n",
       "      <td>LogisticRegression</td>\n",
       "      <td>{'solver': 'lbfgs', 'C': 3.0}</td>\n",
       "      <td>0.822126</td>\n",
       "      <td>0.338582</td>\n",
       "      <td>0.911002</td>\n",
       "      <td>0.493682</td>\n",
       "      <td>0.861889</td>\n",
       "      <td>[0, 1, 0, 0, 0, 1, 0, 0, 1, 0, 0, 0, 1, 0, 0, ...</td>\n",
       "      <td>Logistic Regression</td>\n",
       "    </tr>\n",
       "  </tbody>\n",
       "</table>\n",
       "</div>"
      ],
      "text/plain": [
       "                    estimator  \\\n",
       "2  GradientBoostingClassifier   \n",
       "0               MultinomialNB   \n",
       "1          LogisticRegression   \n",
       "\n",
       "                                         best_params  accuracy  precision  \\\n",
       "2  {'n_estimators': 400, 'min_samples_split': 0.4...  0.884304   0.441512   \n",
       "0                                   {'alpha': 201.0}  0.867454   0.406495   \n",
       "1                      {'solver': 'lbfgs', 'C': 3.0}  0.822126   0.338582   \n",
       "\n",
       "     recall        f1   roc_auc  \\\n",
       "2  0.813136  0.572287  0.852464   \n",
       "0  0.853038  0.550609  0.861004   \n",
       "1  0.911002  0.493682  0.861889   \n",
       "\n",
       "                                              y_pred                    model  \n",
       "2  [0, 0, 0, 0, 0, 0, 0, 0, 1, 0, 0, 0, 0, 0, 0, ...        Gradient Boosting  \n",
       "0  [0, 1, 0, 0, 0, 0, 0, 0, 1, 0, 0, 0, 1, 0, 0, ...  Multinomial Naive Bayes  \n",
       "1  [0, 1, 0, 0, 0, 1, 0, 0, 1, 0, 0, 0, 1, 0, 0, ...      Logistic Regression  "
      ]
     },
     "execution_count": 130,
     "metadata": {},
     "output_type": "execute_result"
    }
   ],
   "source": [
    "## Fine-tuned Model Test Result\n",
    "\n",
    "# Define the models and corresponding parameter distributions\n",
    "models = {\"Multinomial Naive Bayes\": (MultinomialNB, nb_param, 1),\n",
    "          \"Logistic Regression\": (LogisticRegression, lr_param, 1),\n",
    "          # \"K-Nearest Neighbors\": (KNeighborsClassifier, None, 1),\n",
    "          # \"Decision Tree\": (DecisionTreeClassifier, None, 1),\n",
    "          \"Gradient Boosting\": (GradientBoostingClassifier, gbc_param, 1)}\n",
    "          # \"Random Forest\": (RandomForestClassifier, None, 1),\n",
    "          # \"Support Vector Machine\": (SVC, None, 1)}\n",
    "          # \"MLP Classifier\": (MLPClassifier, None, 1)\n",
    "\n",
    "# Create empty list of results\n",
    "results = []\n",
    "\n",
    "# Loop through the models and append the results\n",
    "for name, (model, param, cv) in models.items():\n",
    "    result = train_val(model, param, cv, X_val = X_test, y_val = y_test, verbose = True)\n",
    "    result[\"model\"] = name\n",
    "    results.append(result)\n",
    "\n",
    "results_df = pd.concat(results, ignore_index = True)\n",
    "results_df.sort_values(\"f1\", ascending = False)"
   ]
  },
  {
   "cell_type": "markdown",
   "id": "c655ac53-8937-4823-a5ed-bd61c7173650",
   "metadata": {},
   "source": [
    "_The **gradient boosting classifier** achieved the **highest test F1 score (0.572)** despite longer runtime, while Naive Bayes and Logistic Regression had shorter runtimes but lower F1 scores (0.551 and 0.494, respectively)._  "
   ]
  }
 ],
 "metadata": {
  "kernelspec": {
   "display_name": "Python 3 (ipykernel)",
   "language": "python",
   "name": "python3"
  },
  "language_info": {
   "codemirror_mode": {
    "name": "ipython",
    "version": 3
   },
   "file_extension": ".py",
   "mimetype": "text/x-python",
   "name": "python",
   "nbconvert_exporter": "python",
   "pygments_lexer": "ipython3",
   "version": "3.10.13"
  }
 },
 "nbformat": 4,
 "nbformat_minor": 5
}
