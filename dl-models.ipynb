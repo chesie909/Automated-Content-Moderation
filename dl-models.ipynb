{
 "cells": [
  {
   "cell_type": "markdown",
   "metadata": {},
   "source": [
    "# Jigsaw Toxic Comment Classification: Deep Learning"
   ]
  },
  {
   "cell_type": "markdown",
   "metadata": {},
   "source": [
    "Team 1: Jiashu Chen, Qianqian Liu, Irene Yang, Chesie Yu"
   ]
  },
  {
   "cell_type": "markdown",
   "metadata": {},
   "source": [
    "6/1/2023"
   ]
  },
  {
   "cell_type": "markdown",
   "metadata": {},
   "source": [
    "<style type = \"text/css\">  \n",
    "    body {\n",
    "        font-family: \"Serif\"; \n",
    "        font-size: 12pt;\n",
    "    }\n",
    "    em {\n",
    "        color: #4E7F9E;\n",
    "    }\n",
    "    strong {\n",
    "        color: #436D87;\n",
    "    }\n",
    "    .jp-RenderedHTMLCommon a:link { \n",
    "        color: #94C1C9;\n",
    "    }\n",
    "    .jp-RenderedHTMLCommon a:visited { \n",
    "        color: #94C1C9;\n",
    "    }\n",
    "    li {\n",
    "        color: #4E7F9E;\n",
    "    }\n",
    "    .jp-RenderedHTMLCommon code {\n",
    "        color: #4E7F9E;\n",
    "    }  \n",
    "    img {\n",
    "        display: block;\n",
    "        margin: auto;\n",
    "    } \n",
    "</style>"
   ]
  },
  {
   "cell_type": "markdown",
   "metadata": {},
   "source": [
    "## I. Data"
   ]
  },
  {
   "cell_type": "markdown",
   "metadata": {},
   "source": [
    "_This study uses the **Jigsaw toxic comment data** from [Kaggle](https://www.kaggle.com/competitions/jigsaw-toxic-comment-classification-challenge/data). Our training corpus consists of **over 150,000 Wikipedia comments**, pre-labeled to identify **6 subtypes of toxic behavior**._"
   ]
  },
  {
   "cell_type": "code",
   "execution_count": 1,
   "metadata": {
    "id": "xFxx7uUeOt9S",
    "tags": []
   },
   "outputs": [],
   "source": [
    "# Import the libraries\n",
    "import numpy as np\n",
    "import pandas as pd\n",
    "import matplotlib.pyplot as plt"
   ]
  },
  {
   "cell_type": "code",
   "execution_count": 2,
   "metadata": {
    "id": "fhdguhIoO4RY",
    "tags": []
   },
   "outputs": [
    {
     "data": {
      "text/html": [
       "<div>\n",
       "<style scoped>\n",
       "    .dataframe tbody tr th:only-of-type {\n",
       "        vertical-align: middle;\n",
       "    }\n",
       "\n",
       "    .dataframe tbody tr th {\n",
       "        vertical-align: top;\n",
       "    }\n",
       "\n",
       "    .dataframe thead th {\n",
       "        text-align: right;\n",
       "    }\n",
       "</style>\n",
       "<table border=\"1\" class=\"dataframe\">\n",
       "  <thead>\n",
       "    <tr style=\"text-align: right;\">\n",
       "      <th></th>\n",
       "      <th>id</th>\n",
       "      <th>comment_text</th>\n",
       "      <th>toxic</th>\n",
       "      <th>severe_toxic</th>\n",
       "      <th>obscene</th>\n",
       "      <th>threat</th>\n",
       "      <th>insult</th>\n",
       "      <th>identity_hate</th>\n",
       "    </tr>\n",
       "  </thead>\n",
       "  <tbody>\n",
       "    <tr>\n",
       "      <th>0</th>\n",
       "      <td>0000997932d777bf</td>\n",
       "      <td>Explanation\\nWhy the edits made under my usern...</td>\n",
       "      <td>0</td>\n",
       "      <td>0</td>\n",
       "      <td>0</td>\n",
       "      <td>0</td>\n",
       "      <td>0</td>\n",
       "      <td>0</td>\n",
       "    </tr>\n",
       "    <tr>\n",
       "      <th>1</th>\n",
       "      <td>000103f0d9cfb60f</td>\n",
       "      <td>D'aww! He matches this background colour I'm s...</td>\n",
       "      <td>0</td>\n",
       "      <td>0</td>\n",
       "      <td>0</td>\n",
       "      <td>0</td>\n",
       "      <td>0</td>\n",
       "      <td>0</td>\n",
       "    </tr>\n",
       "    <tr>\n",
       "      <th>2</th>\n",
       "      <td>000113f07ec002fd</td>\n",
       "      <td>Hey man, I'm really not trying to edit war. It...</td>\n",
       "      <td>0</td>\n",
       "      <td>0</td>\n",
       "      <td>0</td>\n",
       "      <td>0</td>\n",
       "      <td>0</td>\n",
       "      <td>0</td>\n",
       "    </tr>\n",
       "    <tr>\n",
       "      <th>3</th>\n",
       "      <td>0001b41b1c6bb37e</td>\n",
       "      <td>\"\\nMore\\nI can't make any real suggestions on ...</td>\n",
       "      <td>0</td>\n",
       "      <td>0</td>\n",
       "      <td>0</td>\n",
       "      <td>0</td>\n",
       "      <td>0</td>\n",
       "      <td>0</td>\n",
       "    </tr>\n",
       "    <tr>\n",
       "      <th>4</th>\n",
       "      <td>0001d958c54c6e35</td>\n",
       "      <td>You, sir, are my hero. Any chance you remember...</td>\n",
       "      <td>0</td>\n",
       "      <td>0</td>\n",
       "      <td>0</td>\n",
       "      <td>0</td>\n",
       "      <td>0</td>\n",
       "      <td>0</td>\n",
       "    </tr>\n",
       "  </tbody>\n",
       "</table>\n",
       "</div>"
      ],
      "text/plain": [
       "                 id                                       comment_text  toxic  \\\n",
       "0  0000997932d777bf  Explanation\\nWhy the edits made under my usern...      0   \n",
       "1  000103f0d9cfb60f  D'aww! He matches this background colour I'm s...      0   \n",
       "2  000113f07ec002fd  Hey man, I'm really not trying to edit war. It...      0   \n",
       "3  0001b41b1c6bb37e  \"\\nMore\\nI can't make any real suggestions on ...      0   \n",
       "4  0001d958c54c6e35  You, sir, are my hero. Any chance you remember...      0   \n",
       "\n",
       "   severe_toxic  obscene  threat  insult  identity_hate  \n",
       "0             0        0       0       0              0  \n",
       "1             0        0       0       0              0  \n",
       "2             0        0       0       0              0  \n",
       "3             0        0       0       0              0  \n",
       "4             0        0       0       0              0  "
      ]
     },
     "execution_count": 2,
     "metadata": {},
     "output_type": "execute_result"
    }
   ],
   "source": [
    "# Load the data \n",
    "train = pd.read_csv(\"data/train.csv\")\n",
    "train.head()"
   ]
  },
  {
   "cell_type": "markdown",
   "metadata": {
    "id": "b_QahycOP6si"
   },
   "source": [
    "  "
   ]
  },
  {
   "cell_type": "code",
   "execution_count": 4,
   "metadata": {
    "colab": {
     "base_uri": "https://localhost:8080/"
    },
    "id": "EppOj6I6QR_x",
    "outputId": "4c09eff7-1df1-4ab0-f7af-518eace4cf29",
    "tags": []
   },
   "outputs": [
    {
     "name": "stdout",
     "output_type": "stream",
     "text": [
      "Number of rows: 159571\n",
      "Number of columns: 8\n",
      "Number of missing values: 0\n"
     ]
    }
   ],
   "source": [
    "# Check the dimensions\n",
    "print(f\"Number of rows: {train.shape[0]}\\n\"\n",
    "      f\"Number of columns: {train.shape[1]}\")\n",
    "\n",
    "# Check for missing values\n",
    "print(f\"Number of missing values: {train.isna().sum().sum()}\")"
   ]
  },
  {
   "cell_type": "code",
   "execution_count": 6,
   "metadata": {
    "colab": {
     "base_uri": "https://localhost:8080/",
     "height": 238
    },
    "id": "FcOBSc6dSUg9",
    "outputId": "7b8ce3fa-e987-4d50-84af-5f652c8fc4e1",
    "tags": []
   },
   "outputs": [
    {
     "data": {
      "text/html": [
       "<div>\n",
       "<style scoped>\n",
       "    .dataframe tbody tr th:only-of-type {\n",
       "        vertical-align: middle;\n",
       "    }\n",
       "\n",
       "    .dataframe tbody tr th {\n",
       "        vertical-align: top;\n",
       "    }\n",
       "\n",
       "    .dataframe thead th {\n",
       "        text-align: right;\n",
       "    }\n",
       "</style>\n",
       "<table border=\"1\" class=\"dataframe\">\n",
       "  <thead>\n",
       "    <tr style=\"text-align: right;\">\n",
       "      <th></th>\n",
       "      <th>0</th>\n",
       "      <th>1</th>\n",
       "    </tr>\n",
       "  </thead>\n",
       "  <tbody>\n",
       "    <tr>\n",
       "      <th>toxic</th>\n",
       "      <td>0.904156</td>\n",
       "      <td>0.095844</td>\n",
       "    </tr>\n",
       "    <tr>\n",
       "      <th>severe_toxic</th>\n",
       "      <td>0.990004</td>\n",
       "      <td>0.009996</td>\n",
       "    </tr>\n",
       "    <tr>\n",
       "      <th>obscene</th>\n",
       "      <td>0.947052</td>\n",
       "      <td>0.052948</td>\n",
       "    </tr>\n",
       "    <tr>\n",
       "      <th>threat</th>\n",
       "      <td>0.997004</td>\n",
       "      <td>0.002996</td>\n",
       "    </tr>\n",
       "    <tr>\n",
       "      <th>insult</th>\n",
       "      <td>0.950636</td>\n",
       "      <td>0.049364</td>\n",
       "    </tr>\n",
       "    <tr>\n",
       "      <th>identity_hate</th>\n",
       "      <td>0.991195</td>\n",
       "      <td>0.008805</td>\n",
       "    </tr>\n",
       "  </tbody>\n",
       "</table>\n",
       "</div>"
      ],
      "text/plain": [
       "                      0         1\n",
       "toxic          0.904156  0.095844\n",
       "severe_toxic   0.990004  0.009996\n",
       "obscene        0.947052  0.052948\n",
       "threat         0.997004  0.002996\n",
       "insult         0.950636  0.049364\n",
       "identity_hate  0.991195  0.008805"
      ]
     },
     "execution_count": 6,
     "metadata": {},
     "output_type": "execute_result"
    }
   ],
   "source": [
    "# Inspect the classes\n",
    "cols = [\"toxic\", \"severe_toxic\", \"obscene\", \"threat\", \"insult\", \"identity_hate\"]\n",
    "classes = [train[col].value_counts(normalize=True) for col in cols]\n",
    "pd.DataFrame(classes, index=cols)"
   ]
  },
  {
   "cell_type": "code",
   "execution_count": 7,
   "metadata": {
    "colab": {
     "base_uri": "https://localhost:8080/",
     "height": 672
    },
    "id": "DlKOnSQgP9N0",
    "outputId": "f28e77f7-bf07-4daa-ef77-40715561b052",
    "tags": []
   },
   "outputs": [
    {
     "data": {
      "image/png": "[encoded data removed]",
      "text/plain": [
       "<Figure size 1200x850 with 6 Axes>"
      ]
     },
     "metadata": {},
     "output_type": "display_data"
    }
   ],
   "source": [
    "# Set up the figure with subplots\n",
    "plt.rcParams.update({\"font.family\": \"Verdana\"})\n",
    "fig, axs = plt.subplots(nrows=2, ncols=3, figsize=(12, 8.5))\n",
    "\n",
    "# Visualize the class distribution for each column\n",
    "for i, col in enumerate(cols):\n",
    "    counts = train[col].value_counts()\n",
    "    axs[i // 3, i % 3].bar(counts.index, counts.values, color=[\"#617086\", \"#FE8175\"])\n",
    "    axs[i // 3, i % 3].set_title(col, size=16, color=\"#3A4C68\", weight=\"bold\")\n",
    "    axs[i // 3, i % 3].set_xlabel(\"Value\", size=12, color=\"#3A4C68\")\n",
    "    axs[i // 3, i % 3].set_ylabel(\"Count\", size=12, color=\"#3A4C68\")\n",
    "    axs[i // 3, i % 3].tick_params(axis=\"x\", colors=\"#3A4C68\")\n",
    "    axs[i // 3, i % 3].tick_params(axis=\"y\", colors=\"#3A4C68\")\n",
    "    # Change border color \n",
    "    for spine in axs[i // 3, i % 3].spines.values():\n",
    "        spine.set_edgecolor(\"#3A4C68\")\n",
    "        spine.set_linewidth(1.2)\n",
    "\n",
    "# Display the plot\n",
    "fig.suptitle(\"Class Distribution\", size=24, color=\"#3A4C68\", weight=\"bold\", y=1) # Assign main title\n",
    "fig.tight_layout()"
   ]
  },
  {
   "cell_type": "markdown",
   "metadata": {},
   "source": [
    "  "
   ]
  },
  {
   "cell_type": "markdown",
   "metadata": {},
   "source": [
    "___"
   ]
  },
  {
   "cell_type": "markdown",
   "metadata": {},
   "source": [
    "  "
   ]
  },
  {
   "cell_type": "markdown",
   "metadata": {},
   "source": [
    "## II. Data Processing"
   ]
  },
  {
   "cell_type": "markdown",
   "metadata": {
    "id": "L9dlxivZNJ5z"
   },
   "source": [
    "### 2.1 Train-Dev-Test Split"
   ]
  },
  {
   "cell_type": "markdown",
   "metadata": {},
   "source": [
    "_We first performed **train-dev-test split** to **avoid overfiting**. Separate training and test sets were acquired from Kaggle. We allocated **20%** of the initial training data to create a **development set** for **hyperparameter tuning and model selection**. The **test set** provided a final **unbiased evaluation** of model performance._"
   ]
  },
  {
   "cell_type": "code",
   "execution_count": 18,
   "metadata": {
    "id": "kyLh_JK6M6nw",
    "tags": []
   },
   "outputs": [],
   "source": [
    "# Import the library\n",
    "from sklearn.model_selection import train_test_split"
   ]
  },
  {
   "cell_type": "code",
   "execution_count": 19,
   "metadata": {
    "id": "edvU8PmaP9TH",
    "tags": []
   },
   "outputs": [],
   "source": [
    "# Perform train-dev split\n",
    "X_train, X_dev, y_train, y_dev = train_test_split(train[\"comment_text\"], train[cols], \n",
    "                                                  test_size=0.2, random_state=10)"
   ]
  },
  {
   "cell_type": "code",
   "execution_count": 20,
   "metadata": {
    "id": "wOnyoElkP9Vp",
    "tags": []
   },
   "outputs": [
    {
     "name": "stdout",
     "output_type": "stream",
     "text": [
      "(127656, 1) (31915, 1) (127656, 6) (31915, 6)\n"
     ]
    }
   ],
   "source": [
    "# Reshape the data\n",
    "X_train = np.array(X_train).reshape(X_train.shape[0], 1)\n",
    "X_dev = np.array(X_dev).reshape(X_dev.shape[0], 1)\n",
    "\n",
    "print(X_train.shape, X_dev.shape, y_train.shape, y_dev.shape)"
   ]
  },
  {
   "cell_type": "markdown",
   "metadata": {},
   "source": [
    "  "
   ]
  },
  {
   "cell_type": "markdown",
   "metadata": {
    "id": "waJLImQMTH_I"
   },
   "source": [
    "### 2.2 Text Preprocessing"
   ]
  },
  {
   "cell_type": "markdown",
   "metadata": {},
   "source": [
    "_To preserve the **most relevant information** for analysis, we implemented several preprocessing steps: **tab and space removal, lowercase conversion, non-alphabets removal, POS tagging and lemmatization, and stopword removal**. Lemmatization was selected over stemming to avoid \"over-stemming\" problems, which reduced words to non-standard forms._"
   ]
  },
  {
   "cell_type": "code",
   "execution_count": 27,
   "metadata": {
    "tags": []
   },
   "outputs": [],
   "source": [
    "# nltk.download(\"averaged_perceptron_tagger\")\n",
    "# nltk.download(\"wordnet\")\n",
    "# nltk.download(\"stopwords\")"
   ]
  },
  {
   "cell_type": "code",
   "execution_count": 29,
   "metadata": {
    "colab": {
     "base_uri": "https://localhost:8080/"
    },
    "id": "Q6fG_L1tP9aE",
    "outputId": "3a9af330-d3a3-410f-af1c-c04bcd145315",
    "tags": []
   },
   "outputs": [],
   "source": [
    "# Import the libraries\n",
    "import re\n",
    "\n",
    "import nltk\n",
    "from nltk import pos_tag, word_tokenize\n",
    "from nltk.corpus import stopwords, wordnet\n",
    "from nltk.stem import PorterStemmer, WordNetLemmatizer\n",
    "\n",
    "from keras.preprocessing.text import Tokenizer\n",
    "from keras.utils import pad_sequences"
   ]
  },
  {
   "cell_type": "code",
   "execution_count": 30,
   "metadata": {
    "id": "mdf1l72ETzsI",
    "tags": []
   },
   "outputs": [],
   "source": [
    "# Need to convert treebank_tag to wordnet tag before lemmatization\n",
    "# reference code: https://stackoverflow.com/questions/15586721/wordnet-lemmatization-and-pos-tagging-in-python\n",
    "def get_wordnet_pos(treebank_tag):\n",
    "    \"\"\"\n",
    "    Convert Treebank POS tags to WordNet POS tags.\n",
    "    \"\"\"\n",
    "    if treebank_tag.startswith(\"J\"):\n",
    "        return wordnet.ADJ\n",
    "    elif treebank_tag.startswith(\"V\"):\n",
    "        return wordnet.VERB\n",
    "    elif treebank_tag.startswith(\"N\"):\n",
    "        return wordnet.NOUN\n",
    "    elif treebank_tag.startswith(\"R\"):\n",
    "        return wordnet.ADV\n",
    "    else:\n",
    "        return None"
   ]
  },
  {
   "cell_type": "code",
   "execution_count": 31,
   "metadata": {
    "id": "tMeOjPVbTzuq",
    "tags": []
   },
   "outputs": [],
   "source": [
    "def postag_lemmatize(t):\n",
    "    \"\"\"\n",
    "    Perform lemmatization on a list of tokens using their POS tags.\n",
    "    \"\"\"\n",
    "    # Empty list to store lemmatized  tokens\n",
    "    l = []\n",
    "    \n",
    "    # Perform POS tagging using Penn Treebank tagger\n",
    "    tagged_t = nltk.pos_tag(t)\n",
    "    \n",
    "    # Initialize WordNet lemmatizer\n",
    "    lemmatizer = WordNetLemmatizer()\n",
    "    \n",
    "    # Perform lemmatization\n",
    "    for word, tag in tagged_t:\n",
    "        wntag = get_wordnet_pos(tag)\n",
    "        if wntag is None:\n",
    "            l.append(lemmatizer.lemmatize(word))\n",
    "        else:\n",
    "            l.append(lemmatizer.lemmatize(word, pos=wntag))\n",
    "    return l "
   ]
  },
  {
   "cell_type": "code",
   "execution_count": 32,
   "metadata": {
    "id": "Vs4jFCjpTzxO",
    "tags": []
   },
   "outputs": [],
   "source": [
    "def text_clean(t):\n",
    "    \"\"\"\n",
    "    Preprocess a text string.\n",
    "    \"\"\"\n",
    "    # Remove new lines and tabs\n",
    "    t = re.sub(r\"[\\n\\t]\", \" \", t)\n",
    "    \n",
    "    # Convert to lowercase\n",
    "    t = t.lower()\n",
    "    \n",
    "    # Remove non-alphabetic characters\n",
    "    t = re.sub(\"[^a-z]\", \" \", t)\n",
    "    \n",
    "    # Split text into tokens\n",
    "    t = t.split()\n",
    "    \n",
    "    # Lemmatize the tokens\n",
    "    t = postag_lemmatize(t)\n",
    "    \n",
    "    # Remove stopwords\n",
    "    t = [w for w in t if w not in set(stopwords.words(\"english\"))]\n",
    "    return t"
   ]
  },
  {
   "cell_type": "code",
   "execution_count": 33,
   "metadata": {
    "tags": []
   },
   "outputs": [],
   "source": [
    "# Size of vocabulary (number of rows in embedding matrix)\n",
    "max_features = 20000 \n",
    "\n",
    "# Max length of sequence (number of words in a comment)\n",
    "maxlen = 50 \n",
    "\n",
    "# Size of word embeddings (each word will be represented a 100-dimension vector)\n",
    "embed_size = 100"
   ]
  },
  {
   "cell_type": "code",
   "execution_count": 34,
   "metadata": {
    "id": "tj2WOY6pTzzt",
    "tags": []
   },
   "outputs": [],
   "source": [
    "# Convert training and validation data into a list of strings\n",
    "comment_list_train = [str(item[0]) for item in X_train.tolist()]\n",
    "comment_list_dev = [str(item[0]) for item in X_dev.tolist()]"
   ]
  },
  {
   "cell_type": "code",
   "execution_count": 35,
   "metadata": {
    "id": "QDzNaAfZTz2L",
    "tags": []
   },
   "outputs": [],
   "source": [
    "# Tokenize the text\n",
    "tokenizer = Tokenizer(num_words=max_features)\n",
    "tokenizer.fit_on_texts(comment_list_train)"
   ]
  },
  {
   "cell_type": "code",
   "execution_count": 36,
   "metadata": {
    "id": "PWae1tYOTz4y",
    "tags": []
   },
   "outputs": [],
   "source": [
    "# Convert text to sequences of integers\n",
    "tokens_train = tokenizer.texts_to_sequences(comment_list_train)\n",
    "tokens_dev = tokenizer.texts_to_sequences(comment_list_dev)"
   ]
  },
  {
   "cell_type": "code",
   "execution_count": 37,
   "metadata": {
    "id": "bULpGwd6UJhA",
    "tags": []
   },
   "outputs": [],
   "source": [
    "# Pad the sequences so that they all have the same length\n",
    "tokens_train = pad_sequences(tokens_train, maxlen=maxlen)\n",
    "tokens_dev = pad_sequences(tokens_dev, maxlen=maxlen)"
   ]
  },
  {
   "cell_type": "code",
   "execution_count": 38,
   "metadata": {
    "id": "SYXinm5QUJj_",
    "tags": []
   },
   "outputs": [],
   "source": [
    "# Retrieve the word index\n",
    "word_index = tokenizer.word_index"
   ]
  },
  {
   "cell_type": "code",
   "execution_count": 39,
   "metadata": {
    "colab": {
     "base_uri": "https://localhost:8080/"
    },
    "id": "nn6o64_BUJmJ",
    "outputId": "a62e71d0-fb3e-4b64-917d-a8200586a7c4",
    "tags": []
   },
   "outputs": [
    {
     "name": "stdout",
     "output_type": "stream",
     "text": [
      "(127656, 50) (31915, 50)\n"
     ]
    }
   ],
   "source": [
    "print(tokens_train.shape, tokens_dev.shape)"
   ]
  },
  {
   "cell_type": "markdown",
   "metadata": {},
   "source": [
    "  "
   ]
  },
  {
   "cell_type": "markdown",
   "metadata": {
    "id": "P41hRSyRUSjQ"
   },
   "source": [
    "### 2.3 GloVe Embeddings"
   ]
  },
  {
   "cell_type": "markdown",
   "metadata": {},
   "source": [
    "_Using Keras tokenizer, we extracted **20,000 unique words** from our preprocessed text based on frequency and assigned each word a unique index. Subsequently, we downloaded the **GloVe word embeddings** and extracted the **100-dimensional word embeddings** for each word. This allowed us to create a **20,000 * 100 embedding matrix**, which was **normalized** and used as the **embedding layer**, the first layer in all our neural network models._  "
   ]
  },
  {
   "cell_type": "code",
   "execution_count": 48,
   "metadata": {
    "id": "uwPIC9gOUJrN",
    "tags": []
   },
   "outputs": [],
   "source": [
    "def build_word_dict(d, file):\n",
    "    \"\"\"\n",
    "    Build a dictionary from a word embedding file\n",
    "    \"\"\"\n",
    "    with open(file, \"r\") as f:\n",
    "        for line in f.readlines(): # Read the file line by line\n",
    "            line = line.split(\" \") # Split each line by space\n",
    "\n",
    "            try:\n",
    "                # line[0] represents the word, the key of the dictionary\n",
    "                # line[1:] are embeddings, the value of the dictionary\n",
    "                d[line[0]] = np.array(line[1:], dtype=\"float32\")    \n",
    "            except: \n",
    "                continue"
   ]
  },
  {
   "cell_type": "code",
   "execution_count": 50,
   "metadata": {
    "id": "ZR91ZLfxVQ1Q",
    "tags": []
   },
   "outputs": [],
   "source": [
    "# Build the embedding dictionary\n",
    "embeddings_dict = dict()\n",
    "build_word_dict(embeddings_dict, \"data/glove.6B.100d.txt\")"
   ]
  },
  {
   "cell_type": "code",
   "execution_count": 51,
   "metadata": {
    "colab": {
     "base_uri": "https://localhost:8080/"
    },
    "id": "-Y3BMsibWGzW",
    "outputId": "973494bf-e311-40b0-98a6-325107b2b385",
    "tags": []
   },
   "outputs": [
    {
     "name": "stdout",
     "output_type": "stream",
     "text": [
      "0.004451992 0.4081574\n"
     ]
    }
   ],
   "source": [
    "# Normalize the embeddings\n",
    "embed_vals = np.stack(list(embeddings_dict.values()))\n",
    "embed_mean, embed_std = embed_vals.mean(), embed_vals.std()\n",
    "print(embed_mean, embed_std)"
   ]
  },
  {
   "cell_type": "code",
   "execution_count": 52,
   "metadata": {
    "id": "8lKh-JarWJ60",
    "tags": []
   },
   "outputs": [],
   "source": [
    "# Create the embedding matrix\n",
    "word_index = tokenizer.word_index\n",
    "nb_words = min(max_features, len(word_index))\n",
    "\n",
    "# Initialize the embedding matrix with random values from a normal distribution\n",
    "embedding_matrix = np.random.normal(embed_mean, embed_std, (nb_words, embed_size))\n",
    "\n",
    "# Populate the embedding matrix with GloVe embeddings\n",
    "for word, i in word_index.items():\n",
    "    if i >= max_features: continue\n",
    "    embedding_vector = embeddings_dict.get(word)\n",
    "    if embedding_vector is not None: embedding_matrix[i] = embedding_vector"
   ]
  },
  {
   "cell_type": "markdown",
   "metadata": {},
   "source": [
    "  "
   ]
  },
  {
   "cell_type": "markdown",
   "metadata": {},
   "source": [
    "___"
   ]
  },
  {
   "cell_type": "markdown",
   "metadata": {},
   "source": [
    "  "
   ]
  },
  {
   "cell_type": "markdown",
   "metadata": {},
   "source": [
    "## III. Experiments"
   ]
  },
  {
   "cell_type": "markdown",
   "metadata": {
    "id": "JRTHPUMtW_VP"
   },
   "source": [
    "### 3.0 Performance Evaluation Utility Functions"
   ]
  },
  {
   "cell_type": "markdown",
   "metadata": {},
   "source": [
    "_Commonly used evaluation metrics such as accuracy are misleading for **imbalanced data**. To **avoid over-optimistic assessments**, we adopt a more robust evaluation approach that incorporates precision, recall, and F1 score. Precision and recall inform decision-making in targeted aspects: low precision restricts information access and free speech by systematically flagging harmless comments; low recall leads to proliferation of toxic hubs due to inability to capture toxicity. To strike the **balance** between the two, we therefore prioritize **F1 score**, the harmonic mean, as the key metric. We hope to achieve the **optimal equilibrium** between freedom of speech and safe online environment for users._"
   ]
  },
  {
   "cell_type": "code",
   "execution_count": 58,
   "metadata": {
    "id": "yfGPgOP5BUUK",
    "tags": []
   },
   "outputs": [],
   "source": [
    "from sklearn.metrics import precision_score, recall_score, f1_score, accuracy_score\n",
    "from sklearn.metrics import classification_report\n",
    "from sklearn.metrics import confusion_matrix\n",
    "\n",
    "from keras import backend as K"
   ]
  },
  {
   "cell_type": "code",
   "execution_count": 59,
   "metadata": {
    "id": "fqZyLNMbWQmr",
    "tags": []
   },
   "outputs": [],
   "source": [
    "def float_array_to_binary(float_array, threshold):\n",
    "    \"\"\"\n",
    "    Convert float arrays to binary based on specified threshold.\n",
    "    \"\"\"\n",
    "    binary_array = np.where(np.array(float_array) >=  threshold, 1, 0)\n",
    "    return binary_array"
   ]
  },
  {
   "cell_type": "code",
   "execution_count": 60,
   "metadata": {
    "id": "N6xZfNO3WQp0",
    "tags": []
   },
   "outputs": [],
   "source": [
    "def chooseThreshold(subtype, true, pred, plot = True):\n",
    "    \"\"\"\n",
    "    Choose the optimal threshold for binary classification.\n",
    "    \"\"\"\n",
    "    max_f1 = 0\n",
    "    argmax_f1 = 0\n",
    "    accuracy_list = []\n",
    "    recall_list = []\n",
    "    precision_list = []\n",
    "    f1_list = []\n",
    "    thres_list = np.arange(0.1, 1.0, 0.1)\n",
    "\n",
    "    # Iterate over each threshold to compute performance metrics\n",
    "    for i in thres_list:\n",
    "        i = round(i, 2)\n",
    "        pred_i = float_array_to_binary(pred, i)\n",
    "        accuracy = accuracy_score(true, pred_i)\n",
    "        accuracy_list.append(accuracy)\n",
    "        recall = recall_score(true, pred_i)\n",
    "        recall_list.append(recall)\n",
    "        precision = precision_score(true, pred_i)\n",
    "        precision_list.append(precision)\n",
    "        f1 = f1_score(true, pred_i)\n",
    "        f1_list.append(f1)\n",
    "        if f1 > max_f1:\n",
    "            max_f1 = f1\n",
    "            argmax_f1 = i\n",
    "    \n",
    "    if plot:\n",
    "        plt.plot(thres_list, accuracy_list, label =\"accuracy\")\n",
    "        plt.plot(thres_list, recall_list, \"-.\", label =\"recall\")\n",
    "        plt.plot(thres_list, precision_list, \"-\", label =\"precision\")\n",
    "        plt.plot(thres_list, f1_list, \":\", label =\"f1\")\n",
    "        plt.plot(argmax_f1, max_f1,\"bo-\")\n",
    "        label = \"(\" + str(argmax_f1) + \", \" + str(round(max_f1,2)) + \")\"\n",
    "        plt.annotate(label, (argmax_f1, max_f1), textcoords=\"offset points\",\n",
    "                        xytext=(0,10), ha=\"center\") \n",
    "\n",
    "        plt.xlabel(\"threshold\")\n",
    "        plt.ylabel(\"performance\")\n",
    "        plt.legend()\n",
    "        plt.title(subtype + \" Subtype : Performance At Different Threshold\")\n",
    "        plt.show()\n",
    "    return argmax_f1, max_f1"
   ]
  },
  {
   "cell_type": "code",
   "execution_count": 61,
   "metadata": {
    "id": "VU6Pao1RWQsy",
    "tags": []
   },
   "outputs": [],
   "source": [
    "def metrics(pred, true):\n",
    "    \"\"\"\n",
    "    Calculates the classification metrics. \n",
    "    \"\"\"\n",
    "    conf_matrix = confusion_matrix(true, pred)\n",
    "    tn, fp, fn, tp = conf_matrix.ravel()\n",
    "    accuracy = accuracy_score(true, pred)\n",
    "    precision = precision_score(true, pred)\n",
    "    recall = recall_score(true, pred)\n",
    "    f1 = f1_score(true, pred)\n",
    "    return round(accuracy,4), round(precision,4), round(recall,4), round(f1,4)"
   ]
  },
  {
   "cell_type": "code",
   "execution_count": 62,
   "metadata": {
    "id": "YDVN0v1LBQmv",
    "tags": []
   },
   "outputs": [],
   "source": [
    "def Model_OverallPerformance(y_pred, y_true, adjustThreshold=True, Thresholdplot=False):\n",
    "    \"\"\"\n",
    "    Evaluate model performance across 6 toxicity subtypes.\n",
    "    \"\"\"\n",
    "    # Extract true labels for each toxicity subtype\n",
    "    y_true_toxic = [row[0] for row in y_true]\n",
    "    y_true_severe_toxic = [row[1] for row in y_true]\n",
    "    y_true_obscene  = [row[2] for row in y_true]\n",
    "    y_true_threat = [row[3] for row in y_true]\n",
    "    y_true_insult = [row[4] for row in y_true]\n",
    "    y_true_identity_threat = [row[5] for row in y_true]\n",
    "\n",
    "    # Extract predicted labels for each toxicity subtype\n",
    "    y_pred_toxic = [row[0] for row in y_pred]\n",
    "    y_pred_severe_toxic = [row[1] for row in y_pred]\n",
    "    y_pred_obscene  = [row[2] for row in y_pred]\n",
    "    y_pred_threat = [row[3] for row in y_pred]\n",
    "    y_pred_insult = [row[4] for row in y_pred]\n",
    "    y_pred_identity_threat = [row[5] for row in y_pred]\n",
    "\n",
    "    # If True, optimize the threshold for each subtype to maximize F1 score\n",
    "    if adjustThreshold:\n",
    "        thresh_toxic, f1_toxic = chooseThreshold(\"Toxic\", y_true_toxic, y_pred_toxic, Thresholdplot)\n",
    "        thresh_severe_toxic, f1_severe_toxic = chooseThreshold(\"Severe Toxic\", y_true_severe_toxic, y_pred_severe_toxic, Thresholdplot)\n",
    "        thresh_obscene, f1_obscene = chooseThreshold(\"Obsence\", y_true_obscene, y_pred_obscene, Thresholdplot)\n",
    "        thresh_threat, f1_threat = chooseThreshold(\"Threat\", y_true_threat, y_pred_threat, Thresholdplot)\n",
    "        thresh_insult, f1_insult = chooseThreshold(\"Insult\", y_true_insult, y_pred_insult, Thresholdplot)\n",
    "        thresh_identity_threat, f1_identity_threat = chooseThreshold(\"Identity Threat\", y_true_identity_threat, y_pred_identity_threat, Thresholdplot)\n",
    "\n",
    "        # Convert predicted probabilities to binary classification\n",
    "        y_pred_toxic = float_array_to_binary(y_pred_toxic, thresh_toxic)\n",
    "        y_pred_severe_toxic = float_array_to_binary(y_pred_severe_toxic, thresh_severe_toxic)\n",
    "        y_pred_obscene = float_array_to_binary(y_pred_obscene, thresh_obscene)\n",
    "        y_pred_threat = float_array_to_binary(y_pred_threat, thresh_threat)\n",
    "        y_pred_insult = float_array_to_binary(y_pred_insult, thresh_insult)\n",
    "        y_pred_identity_threat = float_array_to_binary(y_pred_identity_threat, thresh_identity_threat)\n",
    "\n",
    "    # Compute accuracy, precision, recall, and F1 score for each subtype\n",
    "    accuracy_toxic, precision_toxic, recall_toxic, f1_toxic = metrics(y_pred_toxic, y_true_toxic)\n",
    "    accuracy_severe_toxic, precision_severe_toxic, recall_severe_toxic, f1_severe_toxic = metrics(y_pred_severe_toxic, y_true_severe_toxic)\n",
    "    accuracy_obscene, precision_obscene, recall_obscene, f1_obscene = metrics(y_pred_obscene, y_true_obscene)\n",
    "    accuracy_threat, precision_threat, recall_threat, f1_threat = metrics(y_pred_threat, y_true_threat)\n",
    "    accuracy_insult, precision_insult, recall_insult, f1_insult = metrics(y_pred_insult, y_true_insult)\n",
    "    accuracy_identity_threat, precision_identity_threat, recall_identity_threat, f1_identity_threat = metrics(y_pred_identity_threat, y_true_identity_threat)\n",
    "\n",
    "    # Store as lists\n",
    "    accuracy_list = [accuracy_toxic, accuracy_severe_toxic, accuracy_obscene, accuracy_threat,accuracy_insult, accuracy_identity_threat]\n",
    "    precision_list = [precision_toxic, precision_severe_toxic, precision_obscene, precision_threat,precision_insult, precision_identity_threat]\n",
    "    recall_list = [ recall_toxic,  recall_severe_toxic,  recall_obscene,  recall_threat, recall_insult,  recall_identity_threat]\n",
    "    f1_list = [f1_toxic, f1_severe_toxic, f1_obscene, f1_threat,f1_insult, f1_identity_threat]\n",
    "\n",
    "    subtypes = [\"Toxic\", \"Severe_Toxic\", \"Obscene\", \"Threat\", \"Insult\", \"Identity_Hate\"]\n",
    "    metric = [\"Accuracy\", \"Precision\", \"Recall\", \"F1\"]\n",
    "    \n",
    "    # Convert to DataFrame\n",
    "    metrics_df = pd.DataFrame(\n",
    "    data = [accuracy_list, precision_list, recall_list, f1_list],\n",
    "    columns = subtypes,\n",
    "    index = metric\n",
    "    )\n",
    "    print(\"\\n\")\n",
    "    display(metrics_df)\n",
    "\n",
    "    # Plot the performance metrics for each subtype\n",
    "    print(\"\\n\")\n",
    "    fig, ax = plt.subplots(figsize=(12, 6))\n",
    "    metrics_df.plot(kind=\"bar\", rot=0, ax=ax, width=0.8, cmap=\"RdBu\")\n",
    "    for i, j in enumerate(ax.patches):\n",
    "        ax.text(j.get_x() + j.get_width() / 2, j.get_height() + 0.01,\n",
    "                str(round(j.get_height(), 2)), ha=\"center\")\n",
    "    plt.xlabel(\"Metrics\")\n",
    "    plt.ylabel(\"Scores\")\n",
    "    plt.title(\"Performance Metrics by Toxicity Type\")\n",
    "    plt.tight_layout()\n",
    "    plt.show()"
   ]
  },
  {
   "cell_type": "code",
   "execution_count": 63,
   "metadata": {
    "id": "mF2uRk9wbi2Z",
    "tags": []
   },
   "outputs": [],
   "source": [
    "def recall_m(y_true, y_pred):\n",
    "    \"\"\"\n",
    "    Compute recall in a Keras-compatible way. \n",
    "    \"\"\"\n",
    "    true_positives = K.sum(K.round(K.clip(y_true * y_pred, 0, 1)))\n",
    "    possible_positives = K.sum(K.round(K.clip(y_true, 0, 1)))\n",
    "    recall = true_positives / (possible_positives + K.epsilon())\n",
    "    return recall\n",
    "\n",
    "def precision_m(y_true, y_pred):\n",
    "    \"\"\"\n",
    "    Compute precision in a Keras-compatible way. \n",
    "    \"\"\"\n",
    "    true_positives = K.sum(K.round(K.clip(y_true * y_pred, 0, 1)))\n",
    "    predicted_positives = K.sum(K.round(K.clip(y_pred, 0, 1)))\n",
    "    precision = true_positives / (predicted_positives + K.epsilon())\n",
    "    return precision\n",
    "\n",
    "def f1_m(y_true, y_pred):\n",
    "    \"\"\"\n",
    "    Compute F1 score in a Keras-compatible way. \n",
    "    \"\"\"\n",
    "    precision = precision_m(y_true, y_pred)\n",
    "    recall = recall_m(y_true, y_pred)\n",
    "    return 2*((precision*recall)/(precision+recall+K.epsilon()))"
   ]
  },
  {
   "cell_type": "markdown",
   "metadata": {},
   "source": [
    "  "
   ]
  },
  {
   "cell_type": "markdown",
   "metadata": {},
   "source": [
    "_Using a **comparative setting**, we examine the performance of different neural network architectures on identical training, dev, and test sets in Google Colab. Each proposed model incorporates **100-dimensional embeddings as input** and features a **6-unit dense layer with sigmoid activation for output**. To account for class imbalance, we **adjust the decision threshold** for each subtype to optimize the F1 score, instead of using the default binary classification threshold 0.5. Models are validated on the dev set to determine the best-performing model in each category; hyperparameter tuning is performed using Keras random search tuner. Final evaluation of model effectiveness is carried out using the test set, consisting of 63,978 comments._\n",
    "\n",
    "_Following this framework, we conduct six experiments as follows: **DNN, CNN, CNN + LSTM, 1-Layer BLSTM, 2-Layer BLSTM, 3-Layer BLSTM**._"
   ]
  },
  {
   "cell_type": "code",
   "execution_count": 66,
   "metadata": {
    "tags": []
   },
   "outputs": [],
   "source": [
    "# Import the libraries\n",
    "from keras import layers\n",
    "from keras.callbacks import EarlyStopping, ModelCheckpoint, ReduceLROnPlateau\n",
    "from keras.models import Model, Sequential, load_model"
   ]
  },
  {
   "cell_type": "markdown",
   "metadata": {},
   "source": [
    "  "
   ]
  },
  {
   "cell_type": "markdown",
   "metadata": {
    "id": "qgk1UZZWBs0D"
   },
   "source": [
    "### 3.1 Experiment 1: DNN"
   ]
  },
  {
   "cell_type": "markdown",
   "metadata": {},
   "source": [
    "_Model 1 uses an embedding layer followed by global max pooling to reduce the sequence length, which is then fed into **a series of dense layers** with batch normalization and dropout for regularization.  This **simple architecture** allows for **faster training**, yet may **struggle with capturing complex dependencies in text data** as seen below._    "
   ]
  },
  {
   "cell_type": "code",
   "execution_count": 69,
   "metadata": {
    "tags": []
   },
   "outputs": [
    {
     "name": "stderr",
     "output_type": "stream",
     "text": [
      "2024-08-30 22:30:00.436996: I tensorflow/core/common_runtime/pluggable_device/pluggable_device_factory.cc:303] Could not identify NUMA node of platform GPU ID 0, defaulting to 0. Your kernel may not have been built with NUMA support.\n",
      "2024-08-30 22:30:00.437037: I tensorflow/core/common_runtime/pluggable_device/pluggable_device_factory.cc:269] Created TensorFlow device (/job:localhost/replica:0/task:0/device:GPU:0 with 0 MB memory) -> physical PluggableDevice (device: 0, name: METAL, pci bus id: <undefined>)\n"
     ]
    },
    {
     "name": "stdout",
     "output_type": "stream",
     "text": [
      "Metal device set to: Apple M2 Pro\n",
      "Model: \"sequential\"\n",
      "_________________________________________________________________\n",
      " Layer (type)                Output Shape              Param #   \n",
      "=================================================================\n",
      " embedding (Embedding)       (None, 50, 100)           2000000   \n",
      "                                                                 \n",
      " global_max_pooling1d (Glob  (None, 100)               0         \n",
      " alMaxPooling1D)                                                 \n",
      "                                                                 \n",
      " dense (Dense)               (None, 32)                3232      \n",
      "                                                                 \n",
      " batch_normalization (Batch  (None, 32)                128       \n",
      " Normalization)                                                  \n",
      "                                                                 \n",
      " dropout (Dropout)           (None, 32)                0         \n",
      "                                                                 \n",
      " dense_1 (Dense)             (None, 16)                528       \n",
      "                                                                 \n",
      " batch_normalization_1 (Bat  (None, 16)                64        \n",
      " chNormalization)                                                \n",
      "                                                                 \n",
      " dropout_1 (Dropout)         (None, 16)                0         \n",
      "                                                                 \n",
      " dense_2 (Dense)             (None, 6)                 102       \n",
      "                                                                 \n",
      "=================================================================\n",
      "Total params: 2004054 (7.64 MB)\n",
      "Trainable params: 2003958 (7.64 MB)\n",
      "Non-trainable params: 96 (384.00 Byte)\n",
      "_________________________________________________________________\n"
     ]
    }
   ],
   "source": [
    "# Build the model\n",
    "model_1 = Sequential([])\n",
    "model_1.add(layers.Input(shape=(maxlen, )))\n",
    "model_1.add(layers.Embedding(embedding_matrix.shape[0],\n",
    "                             embedding_matrix.shape[1],\n",
    "                             weights=[embedding_matrix]))\n",
    "model_1.add(layers.GlobalMaxPooling1D())\n",
    "model_1.add(layers.Dense(32, activation=\"relu\"))\n",
    "model_1.add(layers.BatchNormalization())\n",
    "model_1.add(layers.Dropout(0.1))\n",
    "model_1.add(layers.Dense(16, activation=\"relu\"))\n",
    "model_1.add(layers.BatchNormalization())\n",
    "model_1.add(layers.Dropout(0.1))\n",
    "model_1.add(layers.Dense(6, activation=\"sigmoid\"))\n",
    "\n",
    "model_1.summary()"
   ]
  },
  {
   "cell_type": "code",
   "execution_count": 64,
   "metadata": {
    "tags": []
   },
   "outputs": [
    {
     "name": "stdout",
     "output_type": "stream",
     "text": [
      "Epoch 1/10\n"
     ]
    },
    {
     "name": "stderr",
     "output_type": "stream",
     "text": [
      "2024-08-30 09:45:48.215663: I tensorflow/core/grappler/optimizers/custom_graph_optimizer_registry.cc:114] Plugin optimizer for device_type GPU is enabled.\n"
     ]
    },
    {
     "name": "stdout",
     "output_type": "stream",
     "text": [
      "3192/3192 [==============================] - ETA: 0s - loss: 0.1312 - f1_m: 0.4284"
     ]
    },
    {
     "name": "stderr",
     "output_type": "stream",
     "text": [
      "2024-08-30 09:46:41.869205: I tensorflow/core/grappler/optimizers/custom_graph_optimizer_registry.cc:114] Plugin optimizer for device_type GPU is enabled.\n"
     ]
    },
    {
     "name": "stdout",
     "output_type": "stream",
     "text": [
      "INFO:tensorflow:Assets written to: models/model-01-dnn.tf/assets\n"
     ]
    },
    {
     "name": "stderr",
     "output_type": "stream",
     "text": [
      "INFO:tensorflow:Assets written to: models/model-01-dnn.tf/assets\n"
     ]
    },
    {
     "name": "stdout",
     "output_type": "stream",
     "text": [
      "3192/3192 [==============================] - 58s 18ms/step - loss: 0.1312 - f1_m: 0.4284 - val_loss: 0.0644 - val_f1_m: 0.5431 - lr: 0.0010\n",
      "Epoch 2/10\n",
      "3192/3192 [==============================] - ETA: 0s - loss: 0.0605 - f1_m: 0.6045INFO:tensorflow:Assets written to: models/model-01-dnn.tf/assets\n"
     ]
    },
    {
     "name": "stderr",
     "output_type": "stream",
     "text": [
      "INFO:tensorflow:Assets written to: models/model-01-dnn.tf/assets\n"
     ]
    },
    {
     "name": "stdout",
     "output_type": "stream",
     "text": [
      "3192/3192 [==============================] - 50s 16ms/step - loss: 0.0605 - f1_m: 0.6045 - val_loss: 0.0589 - val_f1_m: 0.6157 - lr: 0.0010\n",
      "Epoch 3/10\n",
      "3192/3192 [==============================] - 49s 15ms/step - loss: 0.0515 - f1_m: 0.6532 - val_loss: 0.0586 - val_f1_m: 0.5792 - lr: 0.0010\n",
      "Epoch 4/10\n",
      "3191/3192 [============================>.] - ETA: 0s - loss: 0.0457 - f1_m: 0.6857INFO:tensorflow:Assets written to: models/model-01-dnn.tf/assets\n"
     ]
    },
    {
     "name": "stderr",
     "output_type": "stream",
     "text": [
      "INFO:tensorflow:Assets written to: models/model-01-dnn.tf/assets\n"
     ]
    },
    {
     "name": "stdout",
     "output_type": "stream",
     "text": [
      "3192/3192 [==============================] - 53s 17ms/step - loss: 0.0457 - f1_m: 0.6855 - val_loss: 0.0571 - val_f1_m: 0.6180 - lr: 0.0010\n",
      "Epoch 5/10\n",
      "3192/3192 [==============================] - 60s 19ms/step - loss: 0.0407 - f1_m: 0.7192 - val_loss: 0.0627 - val_f1_m: 0.6011 - lr: 0.0010\n",
      "Epoch 6/10\n",
      "3192/3192 [==============================] - ETA: 0s - loss: 0.0370 - f1_m: 0.7400INFO:tensorflow:Assets written to: models/model-01-dnn.tf/assets\n"
     ]
    },
    {
     "name": "stderr",
     "output_type": "stream",
     "text": [
      "INFO:tensorflow:Assets written to: models/model-01-dnn.tf/assets\n"
     ]
    },
    {
     "name": "stdout",
     "output_type": "stream",
     "text": [
      "3192/3192 [==============================] - 45s 14ms/step - loss: 0.0370 - f1_m: 0.7400 - val_loss: 0.0616 - val_f1_m: 0.6387 - lr: 0.0010\n",
      "Epoch 7/10\n",
      "3192/3192 [==============================] - 75s 24ms/step - loss: 0.0330 - f1_m: 0.7692 - val_loss: 0.0647 - val_f1_m: 0.6208 - lr: 5.0000e-04\n",
      "Epoch 8/10\n",
      "3192/3192 [==============================] - 79s 25ms/step - loss: 0.0308 - f1_m: 0.7900 - val_loss: 0.0657 - val_f1_m: 0.6326 - lr: 5.0000e-04\n",
      "Epoch 9/10\n",
      "3192/3192 [==============================] - 79s 25ms/step - loss: 0.0289 - f1_m: 0.7967 - val_loss: 0.0700 - val_f1_m: 0.6268 - lr: 2.5000e-04\n"
     ]
    },
    {
     "data": {
      "text/plain": [
       "<keras.src.callbacks.History at 0x17a860160>"
      ]
     },
     "execution_count": 64,
     "metadata": {},
     "output_type": "execute_result"
    }
   ],
   "source": [
    "# Compile the model\n",
    "model_1.compile(loss=\"binary_crossentropy\",\n",
    "                optimizer=\"adam\",\n",
    "                metrics=[f1_m])\n",
    "\n",
    "# Model checkpoint\n",
    "checkpoint = ModelCheckpoint(\"models/model-01-dnn.tf\", \n",
    "                             monitor=\"val_f1_m\", \n",
    "                             save_best_only=True,\n",
    "                             mode=\"max\")\n",
    "\n",
    "# Early stopping\n",
    "early_stopping = EarlyStopping(monitor=\"val_f1_m\", \n",
    "                               patience=3, \n",
    "                               mode=\"max\", \n",
    "                               restore_best_weights=True)\n",
    "\n",
    "# Learning rate scheduler (optional)\n",
    "lr_scheduler = ReduceLROnPlateau(monitor=\"val_loss\", \n",
    "                                 factor=0.5, \n",
    "                                 patience=2, \n",
    "                                 min_lr=1e-6)\n",
    "\n",
    "# Fit the model\n",
    "model_1.fit(tokens_train, y_train,\n",
    "            batch_size=32,\n",
    "            epochs=10,\n",
    "            validation_split=0.2,\n",
    "            callbacks=[checkpoint, early_stopping, lr_scheduler])"
   ]
  },
  {
   "cell_type": "code",
   "execution_count": 75,
   "metadata": {
    "tags": []
   },
   "outputs": [],
   "source": [
    "# Load the best model\n",
    "model_1 = load_model(\"models/model-01-dnn.tf\", custom_objects={\"f1_m\": f1_m})"
   ]
  },
  {
   "cell_type": "code",
   "execution_count": 76,
   "metadata": {
    "tags": []
   },
   "outputs": [
    {
     "name": "stdout",
     "output_type": "stream",
     "text": [
      "17/32 [==============>...............] - ETA: 0s"
     ]
    },
    {
     "name": "stderr",
     "output_type": "stream",
     "text": [
      "2024-08-30 22:30:01.408620: I tensorflow/core/grappler/optimizers/custom_graph_optimizer_registry.cc:114] Plugin optimizer for device_type GPU is enabled.\n"
     ]
    },
    {
     "name": "stdout",
     "output_type": "stream",
     "text": [
      "32/32 [==============================] - 0s 5ms/step\n",
      "\n",
      "\n"
     ]
    },
    {
     "data": {
      "text/html": [
       "<div>\n",
       "<style scoped>\n",
       "    .dataframe tbody tr th:only-of-type {\n",
       "        vertical-align: middle;\n",
       "    }\n",
       "\n",
       "    .dataframe tbody tr th {\n",
       "        vertical-align: top;\n",
       "    }\n",
       "\n",
       "    .dataframe thead th {\n",
       "        text-align: right;\n",
       "    }\n",
       "</style>\n",
       "<table border=\"1\" class=\"dataframe\">\n",
       "  <thead>\n",
       "    <tr style=\"text-align: right;\">\n",
       "      <th></th>\n",
       "      <th>Toxic</th>\n",
       "      <th>Severe_Toxic</th>\n",
       "      <th>Obscene</th>\n",
       "      <th>Threat</th>\n",
       "      <th>Insult</th>\n",
       "      <th>Identity_Hate</th>\n",
       "    </tr>\n",
       "  </thead>\n",
       "  <tbody>\n",
       "    <tr>\n",
       "      <th>Accuracy</th>\n",
       "      <td>0.9545</td>\n",
       "      <td>0.9867</td>\n",
       "      <td>0.9793</td>\n",
       "      <td>0.9946</td>\n",
       "      <td>0.9680</td>\n",
       "      <td>0.9915</td>\n",
       "    </tr>\n",
       "    <tr>\n",
       "      <th>Precision</th>\n",
       "      <td>0.8019</td>\n",
       "      <td>0.3822</td>\n",
       "      <td>0.8446</td>\n",
       "      <td>0.3279</td>\n",
       "      <td>0.6509</td>\n",
       "      <td>0.5083</td>\n",
       "    </tr>\n",
       "    <tr>\n",
       "      <th>Recall</th>\n",
       "      <td>0.6866</td>\n",
       "      <td>0.5929</td>\n",
       "      <td>0.7406</td>\n",
       "      <td>0.5505</td>\n",
       "      <td>0.7476</td>\n",
       "      <td>0.4473</td>\n",
       "    </tr>\n",
       "    <tr>\n",
       "      <th>F1</th>\n",
       "      <td>0.7398</td>\n",
       "      <td>0.4648</td>\n",
       "      <td>0.7892</td>\n",
       "      <td>0.4110</td>\n",
       "      <td>0.6959</td>\n",
       "      <td>0.4758</td>\n",
       "    </tr>\n",
       "  </tbody>\n",
       "</table>\n",
       "</div>"
      ],
      "text/plain": [
       "            Toxic  Severe_Toxic  Obscene  Threat  Insult  Identity_Hate\n",
       "Accuracy   0.9545        0.9867   0.9793  0.9946  0.9680         0.9915\n",
       "Precision  0.8019        0.3822   0.8446  0.3279  0.6509         0.5083\n",
       "Recall     0.6866        0.5929   0.7406  0.5505  0.7476         0.4473\n",
       "F1         0.7398        0.4648   0.7892  0.4110  0.6959         0.4758"
      ]
     },
     "metadata": {},
     "output_type": "display_data"
    },
    {
     "name": "stdout",
     "output_type": "stream",
     "text": [
      "\n",
      "\n"
     ]
    },
    {
     "data": {
      "image/png": "[encoded data removed]",
      "text/plain": [
       "<Figure size 1200x600 with 1 Axes>"
      ]
     },
     "metadata": {},
     "output_type": "display_data"
    }
   ],
   "source": [
    "# Make predictions\n",
    "y_pred = model_1.predict([tokens_dev], batch_size=1024, verbose=1)\n",
    "\n",
    "# Evaluate the performance\n",
    "Model_OverallPerformance(y_pred, y_dev.values, adjustThreshold=True, Thresholdplot=False)"
   ]
  },
  {
   "cell_type": "markdown",
   "metadata": {
    "id": "MKgA2nS2vYS9"
   },
   "source": [
    "_The **DNN** model showed **moderate performance** across all toxicity subtypes; however, it generally **underperformed** compared to the more complex CNN and LSTM-based models below._  "
   ]
  },
  {
   "cell_type": "markdown",
   "metadata": {},
   "source": [
    "  "
   ]
  },
  {
   "cell_type": "markdown",
   "metadata": {},
   "source": [
    "### 3.2 Experiment 2: CNN"
   ]
  },
  {
   "cell_type": "markdown",
   "metadata": {},
   "source": [
    "_Model 2 incorporates a **convolutional layer**, allowing the model to **capture local patterns** (e.g., n-grams) in the text, followed by dense layers for classification.  While this improves feature extraction from text, it still lacks the ability to capture long-range dependencies like LSTM._  "
   ]
  },
  {
   "cell_type": "code",
   "execution_count": 77,
   "metadata": {},
   "outputs": [
    {
     "name": "stdout",
     "output_type": "stream",
     "text": [
      "Model: \"sequential_1\"\n",
      "_________________________________________________________________\n",
      " Layer (type)                Output Shape              Param #   \n",
      "=================================================================\n",
      " embedding_1 (Embedding)     (None, 50, 100)           2000000   \n",
      "                                                                 \n",
      " conv1d (Conv1D)             (None, 48, 128)           38528     \n",
      "                                                                 \n",
      " global_max_pooling1d_1 (Gl  (None, 128)               0         \n",
      " obalMaxPooling1D)                                               \n",
      "                                                                 \n",
      " dropout_2 (Dropout)         (None, 128)               0         \n",
      "                                                                 \n",
      " dense_3 (Dense)             (None, 50)                6450      \n",
      "                                                                 \n",
      " dropout_3 (Dropout)         (None, 50)                0         \n",
      "                                                                 \n",
      " dense_4 (Dense)             (None, 6)                 306       \n",
      "                                                                 \n",
      "=================================================================\n",
      "Total params: 2045284 (7.80 MB)\n",
      "Trainable params: 2045284 (7.80 MB)\n",
      "Non-trainable params: 0 (0.00 Byte)\n",
      "_________________________________________________________________\n"
     ]
    }
   ],
   "source": [
    "# Build the model\n",
    "model_2 = Sequential([])\n",
    "\n",
    "model_2.add(layers.Input(shape=(maxlen,)))\n",
    "model_2.add(layers.Embedding(embedding_matrix.shape[0],\n",
    "                             embedding_matrix.shape[1],\n",
    "                             weights=[embedding_matrix]))\n",
    "model_2.add(layers.Conv1D(128, 3, activation=\"relu\"))\n",
    "model_2.add(layers.GlobalMaxPool1D())\n",
    "model_2.add(layers.Dropout(0.3))\n",
    "model_2.add(layers.Dense(50, activation=\"relu\"))\n",
    "model_2.add(layers.Dropout(0.1))\n",
    "model_2.add(layers.Dense(6, activation=\"sigmoid\"))\n",
    "\n",
    "model_2.summary()"
   ]
  },
  {
   "cell_type": "code",
   "execution_count": 76,
   "metadata": {},
   "outputs": [
    {
     "name": "stdout",
     "output_type": "stream",
     "text": [
      "Epoch 1/10\n"
     ]
    },
    {
     "name": "stderr",
     "output_type": "stream",
     "text": [
      "2024-08-30 10:01:18.747171: I tensorflow/core/grappler/optimizers/custom_graph_optimizer_registry.cc:114] Plugin optimizer for device_type GPU is enabled.\n"
     ]
    },
    {
     "name": "stdout",
     "output_type": "stream",
     "text": [
      "3192/3192 [==============================] - ETA: 0s - loss: 0.0666 - f1_m: 0.5551"
     ]
    },
    {
     "name": "stderr",
     "output_type": "stream",
     "text": [
      "2024-08-30 10:02:01.028378: I tensorflow/core/grappler/optimizers/custom_graph_optimizer_registry.cc:114] Plugin optimizer for device_type GPU is enabled.\n"
     ]
    },
    {
     "name": "stdout",
     "output_type": "stream",
     "text": [
      "INFO:tensorflow:Assets written to: models/model-02-cnn.tf/assets\n"
     ]
    },
    {
     "name": "stderr",
     "output_type": "stream",
     "text": [
      "INFO:tensorflow:Assets written to: models/model-02-cnn.tf/assets\n"
     ]
    },
    {
     "name": "stdout",
     "output_type": "stream",
     "text": [
      "3192/3192 [==============================] - 46s 14ms/step - loss: 0.0666 - f1_m: 0.5551 - val_loss: 0.0530 - val_f1_m: 0.6369 - lr: 0.0010\n",
      "Epoch 2/10\n",
      "3192/3192 [==============================] - ETA: 0s - loss: 0.0480 - f1_m: 0.6564INFO:tensorflow:Assets written to: models/model-02-cnn.tf/assets\n"
     ]
    },
    {
     "name": "stderr",
     "output_type": "stream",
     "text": [
      "INFO:tensorflow:Assets written to: models/model-02-cnn.tf/assets\n"
     ]
    },
    {
     "name": "stdout",
     "output_type": "stream",
     "text": [
      "3192/3192 [==============================] - 36s 11ms/step - loss: 0.0480 - f1_m: 0.6564 - val_loss: 0.0510 - val_f1_m: 0.6441 - lr: 0.0010\n",
      "Epoch 3/10\n",
      "3192/3192 [==============================] - ETA: 0s - loss: 0.0412 - f1_m: 0.6918INFO:tensorflow:Assets written to: models/model-02-cnn.tf/assets\n"
     ]
    },
    {
     "name": "stderr",
     "output_type": "stream",
     "text": [
      "INFO:tensorflow:Assets written to: models/model-02-cnn.tf/assets\n"
     ]
    },
    {
     "name": "stdout",
     "output_type": "stream",
     "text": [
      "3192/3192 [==============================] - 37s 11ms/step - loss: 0.0412 - f1_m: 0.6918 - val_loss: 0.0519 - val_f1_m: 0.6612 - lr: 0.0010\n",
      "Epoch 4/10\n",
      "3192/3192 [==============================] - 35s 11ms/step - loss: 0.0362 - f1_m: 0.7238 - val_loss: 0.0541 - val_f1_m: 0.6579 - lr: 0.0010\n",
      "Epoch 5/10\n",
      "3192/3192 [==============================] - ETA: 0s - loss: 0.0286 - f1_m: 0.7764INFO:tensorflow:Assets written to: models/model-02-cnn.tf/assets\n"
     ]
    },
    {
     "name": "stderr",
     "output_type": "stream",
     "text": [
      "INFO:tensorflow:Assets written to: models/model-02-cnn.tf/assets\n"
     ]
    },
    {
     "name": "stdout",
     "output_type": "stream",
     "text": [
      "3192/3192 [==============================] - 37s 12ms/step - loss: 0.0286 - f1_m: 0.7764 - val_loss: 0.0587 - val_f1_m: 0.6615 - lr: 5.0000e-04\n",
      "Epoch 6/10\n",
      "3192/3192 [==============================] - 38s 12ms/step - loss: 0.0249 - f1_m: 0.8041 - val_loss: 0.0629 - val_f1_m: 0.6601 - lr: 5.0000e-04\n",
      "Epoch 7/10\n",
      "3192/3192 [==============================] - 37s 12ms/step - loss: 0.0205 - f1_m: 0.8313 - val_loss: 0.0700 - val_f1_m: 0.6589 - lr: 2.5000e-04\n",
      "Epoch 8/10\n",
      "3192/3192 [==============================] - 38s 12ms/step - loss: 0.0184 - f1_m: 0.8570 - val_loss: 0.0783 - val_f1_m: 0.6460 - lr: 2.5000e-04\n"
     ]
    },
    {
     "data": {
      "text/plain": [
       "<keras.src.callbacks.History at 0x34174eec0>"
      ]
     },
     "execution_count": 76,
     "metadata": {},
     "output_type": "execute_result"
    }
   ],
   "source": [
    "# Compile the model\n",
    "model_2.compile(loss=\"binary_crossentropy\",\n",
    "                optimizer=\"adam\",\n",
    "                metrics=[f1_m])\n",
    "\n",
    "# Model checkpoint\n",
    "checkpoint = ModelCheckpoint(\"models/model-02-cnn.tf\", \n",
    "                             monitor=\"val_f1_m\", \n",
    "                             save_best_only=True,\n",
    "                             mode=\"max\")\n",
    "\n",
    "# Early stopping\n",
    "early_stopping = EarlyStopping(monitor=\"val_f1_m\", \n",
    "                               patience=3, \n",
    "                               mode=\"max\", \n",
    "                               restore_best_weights=True)\n",
    "\n",
    "# Learning rate scheduler (optional)\n",
    "lr_scheduler = ReduceLROnPlateau(monitor=\"val_loss\", \n",
    "                                 factor=0.5, \n",
    "                                 patience=2, \n",
    "                                 min_lr=1e-6)\n",
    "\n",
    "# Fit the model\n",
    "model_2.fit(tokens_train, y_train,\n",
    "            batch_size=32,\n",
    "            epochs=10,\n",
    "            validation_split=0.2,\n",
    "            callbacks=[checkpoint, early_stopping, lr_scheduler])"
   ]
  },
  {
   "cell_type": "code",
   "execution_count": 79,
   "metadata": {},
   "outputs": [],
   "source": [
    "# Load the best model\n",
    "model_2 = load_model(\"models/model-02-cnn.tf\", custom_objects={\"f1_m\": f1_m})"
   ]
  },
  {
   "cell_type": "code",
   "execution_count": 89,
   "metadata": {},
   "outputs": [
    {
     "name": "stdout",
     "output_type": "stream",
     "text": [
      "14/32 [============>.................] - ETA: 0s"
     ]
    },
    {
     "name": "stderr",
     "output_type": "stream",
     "text": [
      "2024-08-30 22:30:05.204830: I tensorflow/core/grappler/optimizers/custom_graph_optimizer_registry.cc:114] Plugin optimizer for device_type GPU is enabled.\n"
     ]
    },
    {
     "name": "stdout",
     "output_type": "stream",
     "text": [
      "32/32 [==============================] - 0s 11ms/step\n"
     ]
    },
    {
     "name": "stderr",
     "output_type": "stream",
     "text": [
      "/Users/chesie/anaconda3/lib/python3.10/site-packages/sklearn/metrics/_classification.py:1469: UndefinedMetricWarning: Precision is ill-defined and being set to 0.0 due to no predicted samples. Use `zero_division` parameter to control this behavior.\n",
      "  _warn_prf(average, modifier, msg_start, len(result))\n",
      "/Users/chesie/anaconda3/lib/python3.10/site-packages/sklearn/metrics/_classification.py:1469: UndefinedMetricWarning: Precision is ill-defined and being set to 0.0 due to no predicted samples. Use `zero_division` parameter to control this behavior.\n",
      "  _warn_prf(average, modifier, msg_start, len(result))\n"
     ]
    },
    {
     "name": "stdout",
     "output_type": "stream",
     "text": [
      "\n",
      "\n"
     ]
    },
    {
     "data": {
      "text/html": [
       "<div>\n",
       "<style scoped>\n",
       "    .dataframe tbody tr th:only-of-type {\n",
       "        vertical-align: middle;\n",
       "    }\n",
       "\n",
       "    .dataframe tbody tr th {\n",
       "        vertical-align: top;\n",
       "    }\n",
       "\n",
       "    .dataframe thead th {\n",
       "        text-align: right;\n",
       "    }\n",
       "</style>\n",
       "<table border=\"1\" class=\"dataframe\">\n",
       "  <thead>\n",
       "    <tr style=\"text-align: right;\">\n",
       "      <th></th>\n",
       "      <th>Toxic</th>\n",
       "      <th>Severe_Toxic</th>\n",
       "      <th>Obscene</th>\n",
       "      <th>Threat</th>\n",
       "      <th>Insult</th>\n",
       "      <th>Identity_Hate</th>\n",
       "    </tr>\n",
       "  </thead>\n",
       "  <tbody>\n",
       "    <tr>\n",
       "      <th>Accuracy</th>\n",
       "      <td>0.9580</td>\n",
       "      <td>0.9880</td>\n",
       "      <td>0.9793</td>\n",
       "      <td>0.9963</td>\n",
       "      <td>0.9714</td>\n",
       "      <td>0.9898</td>\n",
       "    </tr>\n",
       "    <tr>\n",
       "      <th>Precision</th>\n",
       "      <td>0.7984</td>\n",
       "      <td>0.4175</td>\n",
       "      <td>0.8139</td>\n",
       "      <td>0.4643</td>\n",
       "      <td>0.6837</td>\n",
       "      <td>0.4350</td>\n",
       "    </tr>\n",
       "    <tr>\n",
       "      <th>Recall</th>\n",
       "      <td>0.7405</td>\n",
       "      <td>0.5673</td>\n",
       "      <td>0.7842</td>\n",
       "      <td>0.4771</td>\n",
       "      <td>0.7713</td>\n",
       "      <td>0.5964</td>\n",
       "    </tr>\n",
       "    <tr>\n",
       "      <th>F1</th>\n",
       "      <td>0.7684</td>\n",
       "      <td>0.4810</td>\n",
       "      <td>0.7988</td>\n",
       "      <td>0.4706</td>\n",
       "      <td>0.7249</td>\n",
       "      <td>0.5031</td>\n",
       "    </tr>\n",
       "  </tbody>\n",
       "</table>\n",
       "</div>"
      ],
      "text/plain": [
       "            Toxic  Severe_Toxic  Obscene  Threat  Insult  Identity_Hate\n",
       "Accuracy   0.9580        0.9880   0.9793  0.9963  0.9714         0.9898\n",
       "Precision  0.7984        0.4175   0.8139  0.4643  0.6837         0.4350\n",
       "Recall     0.7405        0.5673   0.7842  0.4771  0.7713         0.5964\n",
       "F1         0.7684        0.4810   0.7988  0.4706  0.7249         0.5031"
      ]
     },
     "metadata": {},
     "output_type": "display_data"
    },
    {
     "name": "stdout",
     "output_type": "stream",
     "text": [
      "\n",
      "\n"
     ]
    },
    {
     "data": {
      "image/png": "[encoded data removed]",
      "text/plain": [
       "<Figure size 1200x600 with 1 Axes>"
      ]
     },
     "metadata": {},
     "output_type": "display_data"
    }
   ],
   "source": [
    "# Make predictions\n",
    "y_pred = model_2.predict([tokens_dev], batch_size=1024, verbose=1)\n",
    "\n",
    "# Evaluate the performance\n",
    "Model_OverallPerformance(y_pred, y_dev.values, adjustThreshold=True, Thresholdplot=False)"
   ]
  },
  {
   "cell_type": "markdown",
   "metadata": {
    "id": "JcEBVZTPwOcb"
   },
   "source": [
    "_Compared to the DNN model, the **CNN** model **consistently improved across all toxicity subtypes**, especially in the **threat** category, where the F1 scores increased from 0.41 to 0.47._  "
   ]
  },
  {
   "cell_type": "markdown",
   "metadata": {},
   "source": [
    "  "
   ]
  },
  {
   "cell_type": "markdown",
   "metadata": {
    "id": "1hlZ6iolrpT5"
   },
   "source": [
    "### 3.3 Experiment 3: CNN + LSTM"
   ]
  },
  {
   "cell_type": "markdown",
   "metadata": {},
   "source": [
    "_Compared to the previous model, Model 3 combines a **convolutional layer for feature extraction** with an **LSTM layer to capture sequential dependencies** in the text.  This **hybrid appeoach** allows the model to leverage the strengths of both CNNs and LSTMs, making it better at capturing both local and sequential patterns for text classification tasks._   "
   ]
  },
  {
   "cell_type": "code",
   "execution_count": 134,
   "metadata": {},
   "outputs": [
    {
     "name": "stdout",
     "output_type": "stream",
     "text": [
      "Model: \"sequential_6\"\n",
      "_________________________________________________________________\n",
      " Layer (type)                Output Shape              Param #   \n",
      "=================================================================\n",
      " embedding_6 (Embedding)     (None, 50, 100)           2000000   \n",
      "                                                                 \n",
      " conv1d_9 (Conv1D)           (None, 48, 128)           38528     \n",
      "                                                                 \n",
      " max_pooling1d_4 (MaxPoolin  (None, 24, 128)           0         \n",
      " g1D)                                                            \n",
      "                                                                 \n",
      " dropout_14 (Dropout)        (None, 24, 128)           0         \n",
      "                                                                 \n",
      " lstm_4 (LSTM)               (None, 64)                49408     \n",
      "                                                                 \n",
      " batch_normalization_6 (Bat  (None, 64)                256       \n",
      " chNormalization)                                                \n",
      "                                                                 \n",
      " dense_13 (Dense)            (None, 50)                3250      \n",
      "                                                                 \n",
      " dropout_15 (Dropout)        (None, 50)                0         \n",
      "                                                                 \n",
      " dense_14 (Dense)            (None, 6)                 306       \n",
      "                                                                 \n",
      "=================================================================\n",
      "Total params: 2091748 (7.98 MB)\n",
      "Trainable params: 2091620 (7.98 MB)\n",
      "Non-trainable params: 128 (512.00 Byte)\n",
      "_________________________________________________________________\n"
     ]
    }
   ],
   "source": [
    "# Build the model\n",
    "model_3 = Sequential()\n",
    "\n",
    "model_3.add(layers.Input(shape=(maxlen,)))\n",
    "model_3.add(layers.Embedding(embedding_matrix.shape[0],\n",
    "                             embedding_matrix.shape[1],\n",
    "                             weights=[embedding_matrix]))\n",
    "model_3.add(layers.Conv1D(128, 3, activation=\"relu\"))\n",
    "model_3.add(layers.MaxPooling1D(2))\n",
    "model_3.add(layers.Dropout(0.2))\n",
    "model_3.add(layers.LSTM(64, dropout=0.3))\n",
    "model_3.add(layers.BatchNormalization())\n",
    "model_3.add(layers.Dense(50, activation=\"relu\"))\n",
    "model_3.add(layers.Dropout(0.1))\n",
    "model_3.add(layers.Dense(6, activation=\"sigmoid\"))\n",
    "\n",
    "model_3.summary()"
   ]
  },
  {
   "cell_type": "code",
   "execution_count": 135,
   "metadata": {},
   "outputs": [
    {
     "name": "stdout",
     "output_type": "stream",
     "text": [
      "Epoch 1/10\n"
     ]
    },
    {
     "name": "stderr",
     "output_type": "stream",
     "text": [
      "2024-08-30 23:27:47.514513: I tensorflow/core/grappler/optimizers/custom_graph_optimizer_registry.cc:114] Plugin optimizer for device_type GPU is enabled.\n",
      "2024-08-30 23:27:48.019338: I tensorflow/core/grappler/optimizers/custom_graph_optimizer_registry.cc:114] Plugin optimizer for device_type GPU is enabled.\n",
      "2024-08-30 23:27:49.270293: I tensorflow/core/grappler/optimizers/custom_graph_optimizer_registry.cc:114] Plugin optimizer for device_type GPU is enabled.\n"
     ]
    },
    {
     "name": "stdout",
     "output_type": "stream",
     "text": [
      "3192/3192 [==============================] - ETA: 0s - loss: 0.0731 - f1_m: 0.5539"
     ]
    },
    {
     "name": "stderr",
     "output_type": "stream",
     "text": [
      "2024-08-30 23:28:50.305592: I tensorflow/core/grappler/optimizers/custom_graph_optimizer_registry.cc:114] Plugin optimizer for device_type GPU is enabled.\n",
      "2024-08-30 23:28:50.519325: I tensorflow/core/grappler/optimizers/custom_graph_optimizer_registry.cc:114] Plugin optimizer for device_type GPU is enabled.\n"
     ]
    },
    {
     "name": "stdout",
     "output_type": "stream",
     "text": [
      "INFO:tensorflow:Assets written to: models/model-03-cnn-lstm.tf/assets\n"
     ]
    },
    {
     "name": "stderr",
     "output_type": "stream",
     "text": [
      "INFO:tensorflow:Assets written to: models/model-03-cnn-lstm.tf/assets\n"
     ]
    },
    {
     "name": "stdout",
     "output_type": "stream",
     "text": [
      "3192/3192 [==============================] - 70s 21ms/step - loss: 0.0731 - f1_m: 0.5539 - val_loss: 0.0552 - val_f1_m: 0.6059 - lr: 0.0010\n",
      "Epoch 2/10\n",
      "3192/3192 [==============================] - ETA: 0s - loss: 0.0518 - f1_m: 0.6426INFO:tensorflow:Assets written to: models/model-03-cnn-lstm.tf/assets\n"
     ]
    },
    {
     "name": "stderr",
     "output_type": "stream",
     "text": [
      "INFO:tensorflow:Assets written to: models/model-03-cnn-lstm.tf/assets\n"
     ]
    },
    {
     "name": "stdout",
     "output_type": "stream",
     "text": [
      "3192/3192 [==============================] - 58s 18ms/step - loss: 0.0518 - f1_m: 0.6426 - val_loss: 0.0553 - val_f1_m: 0.6241 - lr: 0.0010\n",
      "Epoch 3/10\n",
      "3192/3192 [==============================] - ETA: 0s - loss: 0.0462 - f1_m: 0.6772INFO:tensorflow:Assets written to: models/model-03-cnn-lstm.tf/assets\n"
     ]
    },
    {
     "name": "stderr",
     "output_type": "stream",
     "text": [
      "INFO:tensorflow:Assets written to: models/model-03-cnn-lstm.tf/assets\n"
     ]
    },
    {
     "name": "stdout",
     "output_type": "stream",
     "text": [
      "3192/3192 [==============================] - 59s 18ms/step - loss: 0.0462 - f1_m: 0.6772 - val_loss: 0.0525 - val_f1_m: 0.6412 - lr: 0.0010\n",
      "Epoch 4/10\n",
      "3192/3192 [==============================] - 59s 18ms/step - loss: 0.0415 - f1_m: 0.7101 - val_loss: 0.0555 - val_f1_m: 0.6281 - lr: 0.0010\n",
      "Epoch 5/10\n",
      "3192/3192 [==============================] - ETA: 0s - loss: 0.0376 - f1_m: 0.7309INFO:tensorflow:Assets written to: models/model-03-cnn-lstm.tf/assets\n"
     ]
    },
    {
     "name": "stderr",
     "output_type": "stream",
     "text": [
      "INFO:tensorflow:Assets written to: models/model-03-cnn-lstm.tf/assets\n"
     ]
    },
    {
     "name": "stdout",
     "output_type": "stream",
     "text": [
      "3192/3192 [==============================] - 62s 19ms/step - loss: 0.0376 - f1_m: 0.7309 - val_loss: 0.0538 - val_f1_m: 0.6756 - lr: 0.0010\n",
      "Epoch 6/10\n",
      "3192/3192 [==============================] - 57s 18ms/step - loss: 0.0313 - f1_m: 0.7747 - val_loss: 0.0608 - val_f1_m: 0.6564 - lr: 5.0000e-04\n",
      "Epoch 7/10\n",
      "3192/3192 [==============================] - 59s 18ms/step - loss: 0.0286 - f1_m: 0.7903 - val_loss: 0.0633 - val_f1_m: 0.6442 - lr: 5.0000e-04\n",
      "Epoch 8/10\n",
      "3192/3192 [==============================] - 62s 20ms/step - loss: 0.0251 - f1_m: 0.8238 - val_loss: 0.0678 - val_f1_m: 0.6523 - lr: 2.5000e-04\n"
     ]
    },
    {
     "data": {
      "text/plain": [
       "<keras.src.callbacks.History at 0x464b021a0>"
      ]
     },
     "execution_count": 135,
     "metadata": {},
     "output_type": "execute_result"
    }
   ],
   "source": [
    "# Compile the model\n",
    "model_3.compile(loss=\"binary_crossentropy\",\n",
    "                optimizer=\"adam\",\n",
    "                metrics=[f1_m])\n",
    "\n",
    "# Model checkpoint\n",
    "checkpoint = ModelCheckpoint(\"models/model-03-cnn-lstm.tf\", \n",
    "                             monitor=\"val_f1_m\", \n",
    "                             save_best_only=True,\n",
    "                             mode=\"max\")\n",
    "\n",
    "# Early stopping\n",
    "early_stopping = EarlyStopping(monitor=\"val_f1_m\", \n",
    "                               patience=3, \n",
    "                               mode=\"max\", \n",
    "                               restore_best_weights=True)\n",
    "\n",
    "# Learning rate scheduler (optional)\n",
    "lr_scheduler = ReduceLROnPlateau(monitor=\"val_loss\", \n",
    "                                 factor=0.5, \n",
    "                                 patience=2, \n",
    "                                 min_lr=1e-6)\n",
    "\n",
    "# Fit the model\n",
    "model_3.fit(tokens_train, y_train,\n",
    "            batch_size=32,\n",
    "            epochs=10,\n",
    "            validation_split=0.2,\n",
    "            callbacks=[checkpoint, early_stopping, lr_scheduler])"
   ]
  },
  {
   "cell_type": "code",
   "execution_count": 137,
   "metadata": {},
   "outputs": [],
   "source": [
    "# Load the best model\n",
    "model_3 = load_model(\"models/model-03-cnn-lstm.tf\", custom_objects={\"f1_m\": f1_m})"
   ]
  },
  {
   "cell_type": "code",
   "execution_count": 138,
   "metadata": {},
   "outputs": [
    {
     "name": "stderr",
     "output_type": "stream",
     "text": [
      "2024-08-30 23:35:56.720421: I tensorflow/core/grappler/optimizers/custom_graph_optimizer_registry.cc:114] Plugin optimizer for device_type GPU is enabled.\n",
      "2024-08-30 23:35:56.900042: I tensorflow/core/grappler/optimizers/custom_graph_optimizer_registry.cc:114] Plugin optimizer for device_type GPU is enabled.\n"
     ]
    },
    {
     "name": "stdout",
     "output_type": "stream",
     "text": [
      "32/32 [==============================] - 2s 17ms/step\n"
     ]
    },
    {
     "name": "stderr",
     "output_type": "stream",
     "text": [
      "/Users/chesie/anaconda3/lib/python3.10/site-packages/sklearn/metrics/_classification.py:1469: UndefinedMetricWarning: Precision is ill-defined and being set to 0.0 due to no predicted samples. Use `zero_division` parameter to control this behavior.\n",
      "  _warn_prf(average, modifier, msg_start, len(result))\n",
      "/Users/chesie/anaconda3/lib/python3.10/site-packages/sklearn/metrics/_classification.py:1469: UndefinedMetricWarning: Precision is ill-defined and being set to 0.0 due to no predicted samples. Use `zero_division` parameter to control this behavior.\n",
      "  _warn_prf(average, modifier, msg_start, len(result))\n",
      "/Users/chesie/anaconda3/lib/python3.10/site-packages/sklearn/metrics/_classification.py:1469: UndefinedMetricWarning: Precision is ill-defined and being set to 0.0 due to no predicted samples. Use `zero_division` parameter to control this behavior.\n",
      "  _warn_prf(average, modifier, msg_start, len(result))\n"
     ]
    },
    {
     "name": "stdout",
     "output_type": "stream",
     "text": [
      "\n",
      "\n"
     ]
    },
    {
     "data": {
      "text/html": [
       "<div>\n",
       "<style scoped>\n",
       "    .dataframe tbody tr th:only-of-type {\n",
       "        vertical-align: middle;\n",
       "    }\n",
       "\n",
       "    .dataframe tbody tr th {\n",
       "        vertical-align: top;\n",
       "    }\n",
       "\n",
       "    .dataframe thead th {\n",
       "        text-align: right;\n",
       "    }\n",
       "</style>\n",
       "<table border=\"1\" class=\"dataframe\">\n",
       "  <thead>\n",
       "    <tr style=\"text-align: right;\">\n",
       "      <th></th>\n",
       "      <th>Toxic</th>\n",
       "      <th>Severe_Toxic</th>\n",
       "      <th>Obscene</th>\n",
       "      <th>Threat</th>\n",
       "      <th>Insult</th>\n",
       "      <th>Identity_Hate</th>\n",
       "    </tr>\n",
       "  </thead>\n",
       "  <tbody>\n",
       "    <tr>\n",
       "      <th>Accuracy</th>\n",
       "      <td>0.9596</td>\n",
       "      <td>0.9866</td>\n",
       "      <td>0.9806</td>\n",
       "      <td>0.9965</td>\n",
       "      <td>0.9712</td>\n",
       "      <td>0.9903</td>\n",
       "    </tr>\n",
       "    <tr>\n",
       "      <th>Precision</th>\n",
       "      <td>0.7960</td>\n",
       "      <td>0.3913</td>\n",
       "      <td>0.8454</td>\n",
       "      <td>0.4884</td>\n",
       "      <td>0.6847</td>\n",
       "      <td>0.4468</td>\n",
       "    </tr>\n",
       "    <tr>\n",
       "      <th>Recall</th>\n",
       "      <td>0.7685</td>\n",
       "      <td>0.6635</td>\n",
       "      <td>0.7717</td>\n",
       "      <td>0.3853</td>\n",
       "      <td>0.7611</td>\n",
       "      <td>0.5345</td>\n",
       "    </tr>\n",
       "    <tr>\n",
       "      <th>F1</th>\n",
       "      <td>0.7820</td>\n",
       "      <td>0.4923</td>\n",
       "      <td>0.8069</td>\n",
       "      <td>0.4308</td>\n",
       "      <td>0.7209</td>\n",
       "      <td>0.4868</td>\n",
       "    </tr>\n",
       "  </tbody>\n",
       "</table>\n",
       "</div>"
      ],
      "text/plain": [
       "            Toxic  Severe_Toxic  Obscene  Threat  Insult  Identity_Hate\n",
       "Accuracy   0.9596        0.9866   0.9806  0.9965  0.9712         0.9903\n",
       "Precision  0.7960        0.3913   0.8454  0.4884  0.6847         0.4468\n",
       "Recall     0.7685        0.6635   0.7717  0.3853  0.7611         0.5345\n",
       "F1         0.7820        0.4923   0.8069  0.4308  0.7209         0.4868"
      ]
     },
     "metadata": {},
     "output_type": "display_data"
    },
    {
     "name": "stdout",
     "output_type": "stream",
     "text": [
      "\n",
      "\n"
     ]
    },
    {
     "data": {
      "image/png": "[encoded data removed]",
      "text/plain": [
       "<Figure size 1200x600 with 1 Axes>"
      ]
     },
     "metadata": {},
     "output_type": "display_data"
    }
   ],
   "source": [
    "# Make predictions\n",
    "y_pred = model_3.predict([tokens_dev], batch_size=1024, verbose=1)\n",
    "\n",
    "# Evaluate the performance\n",
    "Model_OverallPerformance(y_pred, y_dev.values, adjustThreshold=True, Thresholdplot=False)"
   ]
  },
  {
   "cell_type": "markdown",
   "metadata": {
    "id": "xKG8qsQdxtUa"
   },
   "source": [
    "_Despite the increasing complexity, the **CNN + LSTM** model did not show significant improvements in performance.  While the F1 score slightly **increased for toxic and severe toxic**, it slightly **decreased for all other catgeories**._  "
   ]
  },
  {
   "cell_type": "markdown",
   "metadata": {},
   "source": [
    "  "
   ]
  },
  {
   "cell_type": "markdown",
   "metadata": {
    "id": "EuBo1lYUu9uO"
   },
   "source": [
    "### 3.4 Experiment 4: 1-Layer BLSTM"
   ]
  },
  {
   "cell_type": "markdown",
   "metadata": {},
   "source": [
    "_Model 4 uses a **Bidirectional LSTM layer** to process sequences in **both forward and backward directions**.  This improves the model's ability to understand context by capturing dependencies in both directions, leading to improved performance as **context from both earlier and later parts of the text is crucial**._  "
   ]
  },
  {
   "cell_type": "code",
   "execution_count": 142,
   "metadata": {},
   "outputs": [
    {
     "name": "stdout",
     "output_type": "stream",
     "text": [
      "Model: \"sequential_7\"\n",
      "_________________________________________________________________\n",
      " Layer (type)                Output Shape              Param #   \n",
      "=================================================================\n",
      " embedding_7 (Embedding)     (None, 50, 100)           2000000   \n",
      "                                                                 \n",
      " bidirectional (Bidirection  (None, 50, 100)           60400     \n",
      " al)                                                             \n",
      "                                                                 \n",
      " global_max_pooling1d_2 (Gl  (None, 100)               0         \n",
      " obalMaxPooling1D)                                               \n",
      "                                                                 \n",
      " dense_15 (Dense)            (None, 50)                5050      \n",
      "                                                                 \n",
      " dropout_16 (Dropout)        (None, 50)                0         \n",
      "                                                                 \n",
      " dense_16 (Dense)            (None, 6)                 306       \n",
      "                                                                 \n",
      "=================================================================\n",
      "Total params: 2065756 (7.88 MB)\n",
      "Trainable params: 2065756 (7.88 MB)\n",
      "Non-trainable params: 0 (0.00 Byte)\n",
      "_________________________________________________________________\n"
     ]
    }
   ],
   "source": [
    "# Build the model\n",
    "model_4 = Sequential([])\n",
    "\n",
    "model_4.add(layers.Input(shape=(maxlen,)))\n",
    "model_4.add(layers.Embedding(embedding_matrix.shape[0], \n",
    "                             embedding_matrix.shape[1], \n",
    "                             weights=[embedding_matrix]))\n",
    "model_4.add(layers.Bidirectional(layers.LSTM(50, return_sequences=True)))\n",
    "model_4.add(layers.GlobalMaxPool1D())\n",
    "model_4.add(layers.Dense(50, activation=\"relu\"))\n",
    "model_4.add(layers.Dropout(0.1))\n",
    "model_4.add(layers.Dense(6, activation=\"sigmoid\"))\n",
    "\n",
    "model_4.summary()"
   ]
  },
  {
   "cell_type": "code",
   "execution_count": 98,
   "metadata": {},
   "outputs": [
    {
     "name": "stdout",
     "output_type": "stream",
     "text": [
      "Epoch 1/10\n"
     ]
    },
    {
     "name": "stderr",
     "output_type": "stream",
     "text": [
      "2024-08-30 10:42:32.733357: I tensorflow/core/grappler/optimizers/custom_graph_optimizer_registry.cc:114] Plugin optimizer for device_type GPU is enabled.\n",
      "2024-08-30 10:42:33.117138: I tensorflow/core/grappler/optimizers/custom_graph_optimizer_registry.cc:114] Plugin optimizer for device_type GPU is enabled.\n",
      "2024-08-30 10:42:33.154374: I tensorflow/core/grappler/optimizers/custom_graph_optimizer_registry.cc:114] Plugin optimizer for device_type GPU is enabled.\n",
      "2024-08-30 10:42:34.341657: I tensorflow/core/grappler/optimizers/custom_graph_optimizer_registry.cc:114] Plugin optimizer for device_type GPU is enabled.\n",
      "2024-08-30 10:42:34.365270: I tensorflow/core/grappler/optimizers/custom_graph_optimizer_registry.cc:114] Plugin optimizer for device_type GPU is enabled.\n"
     ]
    },
    {
     "name": "stdout",
     "output_type": "stream",
     "text": [
      "3192/3192 [==============================] - ETA: 0s - loss: 0.0605 - f1_m: 0.5847"
     ]
    },
    {
     "name": "stderr",
     "output_type": "stream",
     "text": [
      "2024-08-30 10:44:25.534421: I tensorflow/core/grappler/optimizers/custom_graph_optimizer_registry.cc:114] Plugin optimizer for device_type GPU is enabled.\n",
      "2024-08-30 10:44:25.698150: I tensorflow/core/grappler/optimizers/custom_graph_optimizer_registry.cc:114] Plugin optimizer for device_type GPU is enabled.\n",
      "2024-08-30 10:44:25.715726: I tensorflow/core/grappler/optimizers/custom_graph_optimizer_registry.cc:114] Plugin optimizer for device_type GPU is enabled.\n"
     ]
    },
    {
     "name": "stdout",
     "output_type": "stream",
     "text": [
      "INFO:tensorflow:Assets written to: models/model-04-blstm-1layer.tf/assets\n"
     ]
    },
    {
     "name": "stderr",
     "output_type": "stream",
     "text": [
      "INFO:tensorflow:Assets written to: models/model-04-blstm-1layer.tf/assets\n"
     ]
    },
    {
     "name": "stdout",
     "output_type": "stream",
     "text": [
      "3192/3192 [==============================] - 128s 39ms/step - loss: 0.0605 - f1_m: 0.5847 - val_loss: 0.0543 - val_f1_m: 0.5698 - lr: 0.0010\n",
      "Epoch 2/10\n",
      "3192/3192 [==============================] - ETA: 0s - loss: 0.0445 - f1_m: 0.6710INFO:tensorflow:Assets written to: models/model-04-blstm-1layer.tf/assets\n"
     ]
    },
    {
     "name": "stderr",
     "output_type": "stream",
     "text": [
      "INFO:tensorflow:Assets written to: models/model-04-blstm-1layer.tf/assets\n"
     ]
    },
    {
     "name": "stdout",
     "output_type": "stream",
     "text": [
      "3192/3192 [==============================] - 109s 34ms/step - loss: 0.0445 - f1_m: 0.6710 - val_loss: 0.0485 - val_f1_m: 0.6593 - lr: 0.0010\n",
      "Epoch 3/10\n",
      "3192/3192 [==============================] - ETA: 0s - loss: 0.0382 - f1_m: 0.7122INFO:tensorflow:Assets written to: models/model-04-blstm-1layer.tf/assets\n"
     ]
    },
    {
     "name": "stderr",
     "output_type": "stream",
     "text": [
      "INFO:tensorflow:Assets written to: models/model-04-blstm-1layer.tf/assets\n"
     ]
    },
    {
     "name": "stdout",
     "output_type": "stream",
     "text": [
      "3192/3192 [==============================] - 111s 35ms/step - loss: 0.0382 - f1_m: 0.7122 - val_loss: 0.0485 - val_f1_m: 0.6777 - lr: 0.0010\n",
      "Epoch 4/10\n",
      "3192/3192 [==============================] - 105s 33ms/step - loss: 0.0328 - f1_m: 0.7511 - val_loss: 0.0524 - val_f1_m: 0.6539 - lr: 0.0010\n",
      "Epoch 5/10\n",
      "3192/3192 [==============================] - 104s 33ms/step - loss: 0.0256 - f1_m: 0.7996 - val_loss: 0.0579 - val_f1_m: 0.6724 - lr: 5.0000e-04\n",
      "Epoch 6/10\n",
      "3192/3192 [==============================] - 105s 33ms/step - loss: 0.0216 - f1_m: 0.8307 - val_loss: 0.0660 - val_f1_m: 0.6554 - lr: 5.0000e-04\n"
     ]
    },
    {
     "data": {
      "text/plain": [
       "<keras.src.callbacks.History at 0x4fed0a8f0>"
      ]
     },
     "execution_count": 98,
     "metadata": {},
     "output_type": "execute_result"
    }
   ],
   "source": [
    "# Compile the model\n",
    "model_4.compile(loss=\"binary_crossentropy\",\n",
    "                optimizer=\"adam\",\n",
    "                metrics=[f1_m])\n",
    "\n",
    "# Model checkpoint\n",
    "checkpoint = ModelCheckpoint(\"models/model-04-blstm-1layer.tf\", \n",
    "                             monitor=\"val_f1_m\", \n",
    "                             save_best_only=True,\n",
    "                             mode=\"max\")\n",
    "\n",
    "# Early stopping\n",
    "early_stopping = EarlyStopping(monitor=\"val_f1_m\", \n",
    "                               patience=3, \n",
    "                               mode=\"max\", \n",
    "                               restore_best_weights=True)\n",
    "\n",
    "# Learning rate scheduler (optional)\n",
    "lr_scheduler = ReduceLROnPlateau(monitor=\"val_loss\", \n",
    "                                 factor=0.5, \n",
    "                                 patience=2, \n",
    "                                 min_lr=1e-6)\n",
    "\n",
    "# Fit the model\n",
    "model_4.fit(tokens_train, y_train,\n",
    "            batch_size=32,\n",
    "            epochs=10,\n",
    "            validation_split=0.2,\n",
    "            callbacks=[checkpoint, early_stopping, lr_scheduler])"
   ]
  },
  {
   "cell_type": "code",
   "execution_count": 144,
   "metadata": {},
   "outputs": [],
   "source": [
    "# Load the best model\n",
    "model_4 = load_model(\"models/model-04-blstm-1layer.tf\", custom_objects={\"f1_m\": f1_m})"
   ]
  },
  {
   "cell_type": "code",
   "execution_count": 145,
   "metadata": {},
   "outputs": [
    {
     "name": "stderr",
     "output_type": "stream",
     "text": [
      "2024-08-30 23:46:14.234125: I tensorflow/core/grappler/optimizers/custom_graph_optimizer_registry.cc:114] Plugin optimizer for device_type GPU is enabled.\n",
      "2024-08-30 23:46:14.348709: I tensorflow/core/grappler/optimizers/custom_graph_optimizer_registry.cc:114] Plugin optimizer for device_type GPU is enabled.\n",
      "2024-08-30 23:46:14.366972: I tensorflow/core/grappler/optimizers/custom_graph_optimizer_registry.cc:114] Plugin optimizer for device_type GPU is enabled.\n"
     ]
    },
    {
     "name": "stdout",
     "output_type": "stream",
     "text": [
      "32/32 [==============================] - 2s 38ms/step\n"
     ]
    },
    {
     "name": "stderr",
     "output_type": "stream",
     "text": [
      "/Users/chesie/anaconda3/lib/python3.10/site-packages/sklearn/metrics/_classification.py:1469: UndefinedMetricWarning: Precision is ill-defined and being set to 0.0 due to no predicted samples. Use `zero_division` parameter to control this behavior.\n",
      "  _warn_prf(average, modifier, msg_start, len(result))\n",
      "/Users/chesie/anaconda3/lib/python3.10/site-packages/sklearn/metrics/_classification.py:1469: UndefinedMetricWarning: Precision is ill-defined and being set to 0.0 due to no predicted samples. Use `zero_division` parameter to control this behavior.\n",
      "  _warn_prf(average, modifier, msg_start, len(result))\n",
      "/Users/chesie/anaconda3/lib/python3.10/site-packages/sklearn/metrics/_classification.py:1469: UndefinedMetricWarning: Precision is ill-defined and being set to 0.0 due to no predicted samples. Use `zero_division` parameter to control this behavior.\n",
      "  _warn_prf(average, modifier, msg_start, len(result))\n"
     ]
    },
    {
     "name": "stdout",
     "output_type": "stream",
     "text": [
      "\n",
      "\n"
     ]
    },
    {
     "data": {
      "text/html": [
       "<div>\n",
       "<style scoped>\n",
       "    .dataframe tbody tr th:only-of-type {\n",
       "        vertical-align: middle;\n",
       "    }\n",
       "\n",
       "    .dataframe tbody tr th {\n",
       "        vertical-align: top;\n",
       "    }\n",
       "\n",
       "    .dataframe thead th {\n",
       "        text-align: right;\n",
       "    }\n",
       "</style>\n",
       "<table border=\"1\" class=\"dataframe\">\n",
       "  <thead>\n",
       "    <tr style=\"text-align: right;\">\n",
       "      <th></th>\n",
       "      <th>Toxic</th>\n",
       "      <th>Severe_Toxic</th>\n",
       "      <th>Obscene</th>\n",
       "      <th>Threat</th>\n",
       "      <th>Insult</th>\n",
       "      <th>Identity_Hate</th>\n",
       "    </tr>\n",
       "  </thead>\n",
       "  <tbody>\n",
       "    <tr>\n",
       "      <th>Accuracy</th>\n",
       "      <td>0.9617</td>\n",
       "      <td>0.9877</td>\n",
       "      <td>0.9806</td>\n",
       "      <td>0.9961</td>\n",
       "      <td>0.9732</td>\n",
       "      <td>0.9922</td>\n",
       "    </tr>\n",
       "    <tr>\n",
       "      <th>Precision</th>\n",
       "      <td>0.8260</td>\n",
       "      <td>0.4161</td>\n",
       "      <td>0.8248</td>\n",
       "      <td>0.4462</td>\n",
       "      <td>0.7149</td>\n",
       "      <td>0.5465</td>\n",
       "    </tr>\n",
       "    <tr>\n",
       "      <th>Recall</th>\n",
       "      <td>0.7515</td>\n",
       "      <td>0.6282</td>\n",
       "      <td>0.7992</td>\n",
       "      <td>0.5321</td>\n",
       "      <td>0.7534</td>\n",
       "      <td>0.5345</td>\n",
       "    </tr>\n",
       "    <tr>\n",
       "      <th>F1</th>\n",
       "      <td>0.7870</td>\n",
       "      <td>0.5006</td>\n",
       "      <td>0.8118</td>\n",
       "      <td>0.4854</td>\n",
       "      <td>0.7336</td>\n",
       "      <td>0.5404</td>\n",
       "    </tr>\n",
       "  </tbody>\n",
       "</table>\n",
       "</div>"
      ],
      "text/plain": [
       "            Toxic  Severe_Toxic  Obscene  Threat  Insult  Identity_Hate\n",
       "Accuracy   0.9617        0.9877   0.9806  0.9961  0.9732         0.9922\n",
       "Precision  0.8260        0.4161   0.8248  0.4462  0.7149         0.5465\n",
       "Recall     0.7515        0.6282   0.7992  0.5321  0.7534         0.5345\n",
       "F1         0.7870        0.5006   0.8118  0.4854  0.7336         0.5404"
      ]
     },
     "metadata": {},
     "output_type": "display_data"
    },
    {
     "name": "stdout",
     "output_type": "stream",
     "text": [
      "\n",
      "\n"
     ]
    },
    {
     "data": {
      "image/png": "[encoded data removed]",
      "text/plain": [
       "<Figure size 1200x600 with 1 Axes>"
      ]
     },
     "metadata": {},
     "output_type": "display_data"
    }
   ],
   "source": [
    "# Make predictions\n",
    "y_pred = model_4.predict([tokens_dev], batch_size=1024, verbose=1)\n",
    "\n",
    "# Evaluate the performance\n",
    "Model_OverallPerformance(y_pred, y_dev.values, adjustThreshold=True, Thresholdplot=False)"
   ]
  },
  {
   "cell_type": "markdown",
   "metadata": {
    "id": "SlXi6mt-yRt7"
   },
   "source": [
    "_The **1-Layer BLSTM** outperformed all other models, achieving the **highest F1 scores across almost all toxicity subtypes**.  This suggests that the bidirectional LSTM effectively **captured contextual information in text**, leading to better classification performance._  "
   ]
  },
  {
   "cell_type": "markdown",
   "metadata": {},
   "source": [
    "  "
   ]
  },
  {
   "cell_type": "markdown",
   "metadata": {
    "tags": []
   },
   "source": [
    "### 3.5 Experiment 5: 2-Layer BLSTM"
   ]
  },
  {
   "cell_type": "markdown",
   "metadata": {},
   "source": [
    "_Model 5 extends Model 4 by **adding a second BLSTM layer** with dropout, which increases the model's capacity to capture more complex patterns in the data.  This **deeper architecture** allows for more nuanced understanding of text sequences, leading to **potential improvements in performance**, though it also **increases the risk of overfitting**._  "
   ]
  },
  {
   "cell_type": "code",
   "execution_count": 148,
   "metadata": {},
   "outputs": [
    {
     "name": "stdout",
     "output_type": "stream",
     "text": [
      "Model: \"sequential_8\"\n",
      "_________________________________________________________________\n",
      " Layer (type)                Output Shape              Param #   \n",
      "=================================================================\n",
      " embedding_8 (Embedding)     (None, 50, 100)           2000000   \n",
      "                                                                 \n",
      " bidirectional_1 (Bidirecti  (None, 50, 128)           84480     \n",
      " onal)                                                           \n",
      "                                                                 \n",
      " bidirectional_2 (Bidirecti  (None, 128)               98816     \n",
      " onal)                                                           \n",
      "                                                                 \n",
      " batch_normalization_7 (Bat  (None, 128)               512       \n",
      " chNormalization)                                                \n",
      "                                                                 \n",
      " dense_17 (Dense)            (None, 50)                6450      \n",
      "                                                                 \n",
      " dropout_17 (Dropout)        (None, 50)                0         \n",
      "                                                                 \n",
      " dense_18 (Dense)            (None, 6)                 306       \n",
      "                                                                 \n",
      "=================================================================\n",
      "Total params: 2190564 (8.36 MB)\n",
      "Trainable params: 2190308 (8.36 MB)\n",
      "Non-trainable params: 256 (1.00 KB)\n",
      "_________________________________________________________________\n"
     ]
    }
   ],
   "source": [
    "# Build the model\n",
    "model_5 = Sequential([])\n",
    "\n",
    "model_5.add(layers.Input(shape=(maxlen,)))\n",
    "model_5.add(layers.Embedding(embedding_matrix.shape[0], \n",
    "                             embedding_matrix.shape[1], \n",
    "                             weights=[embedding_matrix]))\n",
    "model_5.add(layers.Bidirectional(layers.LSTM(64, return_sequences=True, dropout=0.3)))\n",
    "model_5.add(layers.Bidirectional(layers.LSTM(64, dropout=0.2)))\n",
    "model_5.add(layers.BatchNormalization())\n",
    "model_5.add(layers.Dense(50, activation=\"relu\"))\n",
    "model_5.add(layers.Dropout(0.1))\n",
    "model_5.add(layers.Dense(6, activation=\"sigmoid\"))\n",
    "\n",
    "model_5.summary()"
   ]
  },
  {
   "cell_type": "code",
   "execution_count": 365,
   "metadata": {},
   "outputs": [
    {
     "name": "stdout",
     "output_type": "stream",
     "text": [
      "Epoch 1/10\n"
     ]
    },
    {
     "name": "stderr",
     "output_type": "stream",
     "text": [
      "2024-08-30 17:31:28.392887: I tensorflow/core/grappler/optimizers/custom_graph_optimizer_registry.cc:114] Plugin optimizer for device_type GPU is enabled.\n",
      "2024-08-30 17:31:30.548187: I tensorflow/core/grappler/optimizers/custom_graph_optimizer_registry.cc:114] Plugin optimizer for device_type GPU is enabled.\n",
      "2024-08-30 17:31:30.565069: I tensorflow/core/grappler/optimizers/custom_graph_optimizer_registry.cc:114] Plugin optimizer for device_type GPU is enabled.\n",
      "2024-08-30 17:31:32.649087: I tensorflow/core/grappler/optimizers/custom_graph_optimizer_registry.cc:114] Plugin optimizer for device_type GPU is enabled.\n",
      "2024-08-30 17:31:32.665497: I tensorflow/core/grappler/optimizers/custom_graph_optimizer_registry.cc:114] Plugin optimizer for device_type GPU is enabled.\n",
      "2024-08-30 17:31:38.633808: I tensorflow/core/grappler/optimizers/custom_graph_optimizer_registry.cc:114] Plugin optimizer for device_type GPU is enabled.\n",
      "2024-08-30 17:31:38.660473: I tensorflow/core/grappler/optimizers/custom_graph_optimizer_registry.cc:114] Plugin optimizer for device_type GPU is enabled.\n",
      "2024-08-30 17:31:41.294993: I tensorflow/core/grappler/optimizers/custom_graph_optimizer_registry.cc:114] Plugin optimizer for device_type GPU is enabled.\n",
      "2024-08-30 17:31:41.321365: I tensorflow/core/grappler/optimizers/custom_graph_optimizer_registry.cc:114] Plugin optimizer for device_type GPU is enabled.\n"
     ]
    },
    {
     "name": "stdout",
     "output_type": "stream",
     "text": [
      "3192/3192 [==============================] - ETA: 0s - loss: 0.0695 - f1_m: 0.5626"
     ]
    },
    {
     "name": "stderr",
     "output_type": "stream",
     "text": [
      "2024-08-30 17:35:59.188774: I tensorflow/core/grappler/optimizers/custom_graph_optimizer_registry.cc:114] Plugin optimizer for device_type GPU is enabled.\n",
      "2024-08-30 17:35:59.901112: I tensorflow/core/grappler/optimizers/custom_graph_optimizer_registry.cc:114] Plugin optimizer for device_type GPU is enabled.\n",
      "2024-08-30 17:35:59.912594: I tensorflow/core/grappler/optimizers/custom_graph_optimizer_registry.cc:114] Plugin optimizer for device_type GPU is enabled.\n",
      "2024-08-30 17:36:01.206005: I tensorflow/core/grappler/optimizers/custom_graph_optimizer_registry.cc:114] Plugin optimizer for device_type GPU is enabled.\n",
      "2024-08-30 17:36:01.217997: I tensorflow/core/grappler/optimizers/custom_graph_optimizer_registry.cc:114] Plugin optimizer for device_type GPU is enabled.\n"
     ]
    },
    {
     "name": "stdout",
     "output_type": "stream",
     "text": [
      "INFO:tensorflow:Assets written to: models/model-05-blstm-2layer.tf/assets\n"
     ]
    },
    {
     "name": "stderr",
     "output_type": "stream",
     "text": [
      "INFO:tensorflow:Assets written to: models/model-05-blstm-2layer.tf/assets\n"
     ]
    },
    {
     "name": "stdout",
     "output_type": "stream",
     "text": [
      "3192/3192 [==============================] - 318s 94ms/step - loss: 0.0695 - f1_m: 0.5626 - val_loss: 0.0545 - val_f1_m: 0.6395 - lr: 0.0010\n",
      "Epoch 2/10\n",
      "3192/3192 [==============================] - 242s 76ms/step - loss: 0.0525 - f1_m: 0.6406 - val_loss: 0.0511 - val_f1_m: 0.6341 - lr: 0.0010\n",
      "Epoch 3/10\n",
      "3192/3192 [==============================] - ETA: 0s - loss: 0.0470 - f1_m: 0.6754INFO:tensorflow:Assets written to: models/model-05-blstm-2layer.tf/assets\n"
     ]
    },
    {
     "name": "stderr",
     "output_type": "stream",
     "text": [
      "INFO:tensorflow:Assets written to: models/model-05-blstm-2layer.tf/assets\n"
     ]
    },
    {
     "name": "stdout",
     "output_type": "stream",
     "text": [
      "3192/3192 [==============================] - 189s 59ms/step - loss: 0.0470 - f1_m: 0.6754 - val_loss: 0.0515 - val_f1_m: 0.6589 - lr: 0.0010\n",
      "Epoch 4/10\n",
      "3192/3192 [==============================] - ETA: 0s - loss: 0.0425 - f1_m: 0.6935INFO:tensorflow:Assets written to: models/model-05-blstm-2layer.tf/assets\n"
     ]
    },
    {
     "name": "stderr",
     "output_type": "stream",
     "text": [
      "INFO:tensorflow:Assets written to: models/model-05-blstm-2layer.tf/assets\n"
     ]
    },
    {
     "name": "stdout",
     "output_type": "stream",
     "text": [
      "3192/3192 [==============================] - 195s 61ms/step - loss: 0.0425 - f1_m: 0.6935 - val_loss: 0.0514 - val_f1_m: 0.6698 - lr: 0.0010\n",
      "Epoch 5/10\n",
      "3192/3192 [==============================] - ETA: 0s - loss: 0.0373 - f1_m: 0.7299INFO:tensorflow:Assets written to: models/model-05-blstm-2layer.tf/assets\n"
     ]
    },
    {
     "name": "stderr",
     "output_type": "stream",
     "text": [
      "INFO:tensorflow:Assets written to: models/model-05-blstm-2layer.tf/assets\n"
     ]
    },
    {
     "name": "stdout",
     "output_type": "stream",
     "text": [
      "3192/3192 [==============================] - 187s 58ms/step - loss: 0.0373 - f1_m: 0.7299 - val_loss: 0.0528 - val_f1_m: 0.6819 - lr: 5.0000e-04\n",
      "Epoch 6/10\n",
      "3192/3192 [==============================] - 174s 54ms/step - loss: 0.0351 - f1_m: 0.7395 - val_loss: 0.0573 - val_f1_m: 0.6707 - lr: 5.0000e-04\n",
      "Epoch 7/10\n",
      "3192/3192 [==============================] - 155s 49ms/step - loss: 0.0321 - f1_m: 0.7618 - val_loss: 0.0573 - val_f1_m: 0.6739 - lr: 2.5000e-04\n",
      "Epoch 8/10\n",
      "3192/3192 [==============================] - 173s 54ms/step - loss: 0.0306 - f1_m: 0.7711 - val_loss: 0.0581 - val_f1_m: 0.6791 - lr: 2.5000e-04\n"
     ]
    },
    {
     "data": {
      "text/plain": [
       "<keras.src.callbacks.History at 0x833179270>"
      ]
     },
     "execution_count": 365,
     "metadata": {},
     "output_type": "execute_result"
    }
   ],
   "source": [
    "# Compile the model\n",
    "model_5.compile(loss=\"binary_crossentropy\",\n",
    "                optimizer=\"adam\",\n",
    "                metrics=[f1_m])\n",
    "\n",
    "# Model checkpoint\n",
    "checkpoint = ModelCheckpoint(\"models/model-05-blstm-2layer.tf\", \n",
    "                             monitor=\"val_f1_m\", \n",
    "                             save_best_only=True,\n",
    "                             mode=\"max\")\n",
    "\n",
    "# Early stopping\n",
    "early_stopping = EarlyStopping(monitor=\"val_f1_m\", \n",
    "                               patience=3, \n",
    "                               mode=\"max\", \n",
    "                               restore_best_weights=True)\n",
    "\n",
    "# Learning rate scheduler (optional)\n",
    "lr_scheduler = ReduceLROnPlateau(monitor=\"val_loss\", \n",
    "                                 factor=0.5, \n",
    "                                 patience=2, \n",
    "                                 min_lr=1e-6)\n",
    "\n",
    "# Fit the model\n",
    "model_5.fit(tokens_train, y_train,\n",
    "            batch_size=32,\n",
    "            epochs=10,\n",
    "            validation_split=0.2,\n",
    "            callbacks=[checkpoint, early_stopping, lr_scheduler])"
   ]
  },
  {
   "cell_type": "code",
   "execution_count": 150,
   "metadata": {},
   "outputs": [],
   "source": [
    "# Load the best model\n",
    "model_5 = load_model(\"models/model-05-blstm-2layer.tf\", custom_objects={\"f1_m\": f1_m})"
   ]
  },
  {
   "cell_type": "code",
   "execution_count": 151,
   "metadata": {},
   "outputs": [
    {
     "name": "stderr",
     "output_type": "stream",
     "text": [
      "2024-08-30 23:46:49.114562: I tensorflow/core/grappler/optimizers/custom_graph_optimizer_registry.cc:114] Plugin optimizer for device_type GPU is enabled.\n",
      "2024-08-30 23:46:49.275926: I tensorflow/core/grappler/optimizers/custom_graph_optimizer_registry.cc:114] Plugin optimizer for device_type GPU is enabled.\n",
      "2024-08-30 23:46:49.295787: I tensorflow/core/grappler/optimizers/custom_graph_optimizer_registry.cc:114] Plugin optimizer for device_type GPU is enabled.\n",
      "2024-08-30 23:46:49.708724: I tensorflow/core/grappler/optimizers/custom_graph_optimizer_registry.cc:114] Plugin optimizer for device_type GPU is enabled.\n",
      "2024-08-30 23:46:49.729596: I tensorflow/core/grappler/optimizers/custom_graph_optimizer_registry.cc:114] Plugin optimizer for device_type GPU is enabled.\n"
     ]
    },
    {
     "name": "stdout",
     "output_type": "stream",
     "text": [
      "32/32 [==============================] - 3s 63ms/step\n"
     ]
    },
    {
     "name": "stderr",
     "output_type": "stream",
     "text": [
      "/Users/chesie/anaconda3/lib/python3.10/site-packages/sklearn/metrics/_classification.py:1469: UndefinedMetricWarning: Precision is ill-defined and being set to 0.0 due to no predicted samples. Use `zero_division` parameter to control this behavior.\n",
      "  _warn_prf(average, modifier, msg_start, len(result))\n",
      "/Users/chesie/anaconda3/lib/python3.10/site-packages/sklearn/metrics/_classification.py:1469: UndefinedMetricWarning: Precision is ill-defined and being set to 0.0 due to no predicted samples. Use `zero_division` parameter to control this behavior.\n",
      "  _warn_prf(average, modifier, msg_start, len(result))\n",
      "/Users/chesie/anaconda3/lib/python3.10/site-packages/sklearn/metrics/_classification.py:1469: UndefinedMetricWarning: Precision is ill-defined and being set to 0.0 due to no predicted samples. Use `zero_division` parameter to control this behavior.\n",
      "  _warn_prf(average, modifier, msg_start, len(result))\n",
      "/Users/chesie/anaconda3/lib/python3.10/site-packages/sklearn/metrics/_classification.py:1469: UndefinedMetricWarning: Precision is ill-defined and being set to 0.0 due to no predicted samples. Use `zero_division` parameter to control this behavior.\n",
      "  _warn_prf(average, modifier, msg_start, len(result))\n",
      "/Users/chesie/anaconda3/lib/python3.10/site-packages/sklearn/metrics/_classification.py:1469: UndefinedMetricWarning: Precision is ill-defined and being set to 0.0 due to no predicted samples. Use `zero_division` parameter to control this behavior.\n",
      "  _warn_prf(average, modifier, msg_start, len(result))\n"
     ]
    },
    {
     "name": "stdout",
     "output_type": "stream",
     "text": [
      "\n",
      "\n"
     ]
    },
    {
     "data": {
      "text/html": [
       "<div>\n",
       "<style scoped>\n",
       "    .dataframe tbody tr th:only-of-type {\n",
       "        vertical-align: middle;\n",
       "    }\n",
       "\n",
       "    .dataframe tbody tr th {\n",
       "        vertical-align: top;\n",
       "    }\n",
       "\n",
       "    .dataframe thead th {\n",
       "        text-align: right;\n",
       "    }\n",
       "</style>\n",
       "<table border=\"1\" class=\"dataframe\">\n",
       "  <thead>\n",
       "    <tr style=\"text-align: right;\">\n",
       "      <th></th>\n",
       "      <th>Toxic</th>\n",
       "      <th>Severe_Toxic</th>\n",
       "      <th>Obscene</th>\n",
       "      <th>Threat</th>\n",
       "      <th>Insult</th>\n",
       "      <th>Identity_Hate</th>\n",
       "    </tr>\n",
       "  </thead>\n",
       "  <tbody>\n",
       "    <tr>\n",
       "      <th>Accuracy</th>\n",
       "      <td>0.9616</td>\n",
       "      <td>0.9859</td>\n",
       "      <td>0.9799</td>\n",
       "      <td>0.9959</td>\n",
       "      <td>0.9723</td>\n",
       "      <td>0.9904</td>\n",
       "    </tr>\n",
       "    <tr>\n",
       "      <th>Precision</th>\n",
       "      <td>0.8405</td>\n",
       "      <td>0.3824</td>\n",
       "      <td>0.7962</td>\n",
       "      <td>0.4198</td>\n",
       "      <td>0.7038</td>\n",
       "      <td>0.4545</td>\n",
       "    </tr>\n",
       "    <tr>\n",
       "      <th>Recall</th>\n",
       "      <td>0.7309</td>\n",
       "      <td>0.7244</td>\n",
       "      <td>0.8290</td>\n",
       "      <td>0.5046</td>\n",
       "      <td>0.7489</td>\n",
       "      <td>0.5455</td>\n",
       "    </tr>\n",
       "    <tr>\n",
       "      <th>F1</th>\n",
       "      <td>0.7819</td>\n",
       "      <td>0.5006</td>\n",
       "      <td>0.8123</td>\n",
       "      <td>0.4583</td>\n",
       "      <td>0.7256</td>\n",
       "      <td>0.4959</td>\n",
       "    </tr>\n",
       "  </tbody>\n",
       "</table>\n",
       "</div>"
      ],
      "text/plain": [
       "            Toxic  Severe_Toxic  Obscene  Threat  Insult  Identity_Hate\n",
       "Accuracy   0.9616        0.9859   0.9799  0.9959  0.9723         0.9904\n",
       "Precision  0.8405        0.3824   0.7962  0.4198  0.7038         0.4545\n",
       "Recall     0.7309        0.7244   0.8290  0.5046  0.7489         0.5455\n",
       "F1         0.7819        0.5006   0.8123  0.4583  0.7256         0.4959"
      ]
     },
     "metadata": {},
     "output_type": "display_data"
    },
    {
     "name": "stdout",
     "output_type": "stream",
     "text": [
      "\n",
      "\n"
     ]
    },
    {
     "data": {
      "image/png": "[encoded data removed]",
      "text/plain": [
       "<Figure size 1200x600 with 1 Axes>"
      ]
     },
     "metadata": {},
     "output_type": "display_data"
    }
   ],
   "source": [
    "# Make predictions\n",
    "y_pred = model_5.predict([tokens_dev], batch_size=1024, verbose=1)\n",
    "\n",
    "# Evaluate the performance\n",
    "Model_OverallPerformance(y_pred, y_dev.values, adjustThreshold=True, Thresholdplot=False)"
   ]
  },
  {
   "cell_type": "markdown",
   "metadata": {
    "id": "zHscQgiqylsn"
   },
   "source": [
    "_THe **2-Layer BLSTM** maintained strong performance, particularly in the **obscene** category with an F1 score of 0.8123, the highest among all models.  However, it showed **slightly reduced performance** in other categories compared to the 1-Layer BLSTM, indicating **potential overfitting**._  "
   ]
  },
  {
   "cell_type": "markdown",
   "metadata": {},
   "source": [
    "  "
   ]
  },
  {
   "cell_type": "markdown",
   "metadata": {},
   "source": [
    "### 3.6 Experiment 6: 3-Layer BLSTM"
   ]
  },
  {
   "cell_type": "markdown",
   "metadata": {},
   "source": [
    "_Designed to capture hierarchical features in text, Model 6 **stacks 3 BLSTM layers**, though the **increased complexity** could lead to **overfitting**._  "
   ]
  },
  {
   "cell_type": "code",
   "execution_count": 162,
   "metadata": {
    "tags": []
   },
   "outputs": [
    {
     "name": "stdout",
     "output_type": "stream",
     "text": [
      "Model: \"sequential_10\"\n",
      "_________________________________________________________________\n",
      " Layer (type)                Output Shape              Param #   \n",
      "=================================================================\n",
      " embedding_10 (Embedding)    (None, 50, 100)           2000000   \n",
      "                                                                 \n",
      " bidirectional_6 (Bidirecti  (None, 50, 128)           84480     \n",
      " onal)                                                           \n",
      "                                                                 \n",
      " bidirectional_7 (Bidirecti  (None, 50, 64)            41216     \n",
      " onal)                                                           \n",
      "                                                                 \n",
      " bidirectional_8 (Bidirecti  (None, 64)                24832     \n",
      " onal)                                                           \n",
      "                                                                 \n",
      " batch_normalization_9 (Bat  (None, 64)                256       \n",
      " chNormalization)                                                \n",
      "                                                                 \n",
      " dense_21 (Dense)            (None, 50)                3250      \n",
      "                                                                 \n",
      " dropout_19 (Dropout)        (None, 50)                0         \n",
      "                                                                 \n",
      " dense_22 (Dense)            (None, 6)                 306       \n",
      "                                                                 \n",
      "=================================================================\n",
      "Total params: 2154340 (8.22 MB)\n",
      "Trainable params: 2154212 (8.22 MB)\n",
      "Non-trainable params: 128 (512.00 Byte)\n",
      "_________________________________________________________________\n"
     ]
    }
   ],
   "source": [
    "# Build the model\n",
    "model_6 = Sequential([])\n",
    "\n",
    "model_6.add(layers.Input(shape=(maxlen,)))\n",
    "model_6.add(layers.Embedding(embedding_matrix.shape[0], \n",
    "                             embedding_matrix.shape[1], \n",
    "                             weights=[embedding_matrix]))\n",
    "model_6.add(layers.Bidirectional(layers.LSTM(64, return_sequences=True, dropout=0.3)))\n",
    "model_6.add(layers.Bidirectional(layers.LSTM(32, return_sequences=True, dropout=0.2)))\n",
    "model_6.add(layers.Bidirectional(layers.LSTM(32, dropout=0.1)))\n",
    "model_6.add(layers.BatchNormalization())\n",
    "model_6.add(layers.Dense(50, activation=\"relu\"))\n",
    "model_6.add(layers.Dropout(0.1))\n",
    "model_6.add(layers.Dense(6, activation=\"sigmoid\"))\n",
    "\n",
    "model_6.summary()"
   ]
  },
  {
   "cell_type": "code",
   "execution_count": 163,
   "metadata": {
    "tags": []
   },
   "outputs": [
    {
     "name": "stdout",
     "output_type": "stream",
     "text": [
      "Epoch 1/10\n"
     ]
    },
    {
     "name": "stderr",
     "output_type": "stream",
     "text": [
      "2024-08-31 00:39:30.199457: I tensorflow/core/grappler/optimizers/custom_graph_optimizer_registry.cc:114] Plugin optimizer for device_type GPU is enabled.\n",
      "2024-08-31 00:39:31.250025: I tensorflow/core/grappler/optimizers/custom_graph_optimizer_registry.cc:114] Plugin optimizer for device_type GPU is enabled.\n",
      "2024-08-31 00:39:31.266281: I tensorflow/core/grappler/optimizers/custom_graph_optimizer_registry.cc:114] Plugin optimizer for device_type GPU is enabled.\n",
      "2024-08-31 00:39:31.716681: I tensorflow/core/grappler/optimizers/custom_graph_optimizer_registry.cc:114] Plugin optimizer for device_type GPU is enabled.\n",
      "2024-08-31 00:39:31.731870: I tensorflow/core/grappler/optimizers/custom_graph_optimizer_registry.cc:114] Plugin optimizer for device_type GPU is enabled.\n",
      "2024-08-31 00:39:32.252542: I tensorflow/core/grappler/optimizers/custom_graph_optimizer_registry.cc:114] Plugin optimizer for device_type GPU is enabled.\n",
      "2024-08-31 00:39:32.267905: I tensorflow/core/grappler/optimizers/custom_graph_optimizer_registry.cc:114] Plugin optimizer for device_type GPU is enabled.\n",
      "2024-08-31 00:39:33.929138: I tensorflow/core/grappler/optimizers/custom_graph_optimizer_registry.cc:114] Plugin optimizer for device_type GPU is enabled.\n",
      "2024-08-31 00:39:33.951500: I tensorflow/core/grappler/optimizers/custom_graph_optimizer_registry.cc:114] Plugin optimizer for device_type GPU is enabled.\n",
      "2024-08-31 00:39:34.742688: I tensorflow/core/grappler/optimizers/custom_graph_optimizer_registry.cc:114] Plugin optimizer for device_type GPU is enabled.\n",
      "2024-08-31 00:39:34.775938: I tensorflow/core/grappler/optimizers/custom_graph_optimizer_registry.cc:114] Plugin optimizer for device_type GPU is enabled.\n",
      "2024-08-31 00:39:35.599463: I tensorflow/core/grappler/optimizers/custom_graph_optimizer_registry.cc:114] Plugin optimizer for device_type GPU is enabled.\n",
      "2024-08-31 00:39:35.622181: I tensorflow/core/grappler/optimizers/custom_graph_optimizer_registry.cc:114] Plugin optimizer for device_type GPU is enabled.\n"
     ]
    },
    {
     "name": "stdout",
     "output_type": "stream",
     "text": [
      "3192/3192 [==============================] - ETA: 0s - loss: 0.0717 - f1_m: 0.5491"
     ]
    },
    {
     "name": "stderr",
     "output_type": "stream",
     "text": [
      "2024-08-31 00:43:14.953270: I tensorflow/core/grappler/optimizers/custom_graph_optimizer_registry.cc:114] Plugin optimizer for device_type GPU is enabled.\n",
      "2024-08-31 00:43:15.261314: I tensorflow/core/grappler/optimizers/custom_graph_optimizer_registry.cc:114] Plugin optimizer for device_type GPU is enabled.\n",
      "2024-08-31 00:43:15.285848: I tensorflow/core/grappler/optimizers/custom_graph_optimizer_registry.cc:114] Plugin optimizer for device_type GPU is enabled.\n",
      "2024-08-31 00:43:15.579315: I tensorflow/core/grappler/optimizers/custom_graph_optimizer_registry.cc:114] Plugin optimizer for device_type GPU is enabled.\n",
      "2024-08-31 00:43:15.592338: I tensorflow/core/grappler/optimizers/custom_graph_optimizer_registry.cc:114] Plugin optimizer for device_type GPU is enabled.\n",
      "2024-08-31 00:43:15.879095: I tensorflow/core/grappler/optimizers/custom_graph_optimizer_registry.cc:114] Plugin optimizer for device_type GPU is enabled.\n",
      "2024-08-31 00:43:15.889462: I tensorflow/core/grappler/optimizers/custom_graph_optimizer_registry.cc:114] Plugin optimizer for device_type GPU is enabled.\n"
     ]
    },
    {
     "name": "stdout",
     "output_type": "stream",
     "text": [
      "INFO:tensorflow:Assets written to: models/model-06-blstm-3layer.tf/assets\n"
     ]
    },
    {
     "name": "stderr",
     "output_type": "stream",
     "text": [
      "INFO:tensorflow:Assets written to: models/model-06-blstm-3layer.tf/assets\n"
     ]
    },
    {
     "name": "stdout",
     "output_type": "stream",
     "text": [
      "3192/3192 [==============================] - 259s 78ms/step - loss: 0.0717 - f1_m: 0.5491 - val_loss: 0.0593 - val_f1_m: 0.6047\n",
      "Epoch 2/10\n",
      "3192/3192 [==============================] - ETA: 0s - loss: 0.0526 - f1_m: 0.6441INFO:tensorflow:Assets written to: models/model-06-blstm-3layer.tf/assets\n"
     ]
    },
    {
     "name": "stderr",
     "output_type": "stream",
     "text": [
      "INFO:tensorflow:Assets written to: models/model-06-blstm-3layer.tf/assets\n"
     ]
    },
    {
     "name": "stdout",
     "output_type": "stream",
     "text": [
      "3192/3192 [==============================] - 234s 73ms/step - loss: 0.0526 - f1_m: 0.6441 - val_loss: 0.0549 - val_f1_m: 0.6293\n",
      "Epoch 3/10\n",
      "3192/3192 [==============================] - ETA: 0s - loss: 0.0479 - f1_m: 0.6710INFO:tensorflow:Assets written to: models/model-06-blstm-3layer.tf/assets\n"
     ]
    },
    {
     "name": "stderr",
     "output_type": "stream",
     "text": [
      "INFO:tensorflow:Assets written to: models/model-06-blstm-3layer.tf/assets\n"
     ]
    },
    {
     "name": "stdout",
     "output_type": "stream",
     "text": [
      "3192/3192 [==============================] - 234s 73ms/step - loss: 0.0479 - f1_m: 0.6710 - val_loss: 0.0509 - val_f1_m: 0.6449\n",
      "Epoch 4/10\n",
      "3192/3192 [==============================] - ETA: 0s - loss: 0.0438 - f1_m: 0.6889INFO:tensorflow:Assets written to: models/model-06-blstm-3layer.tf/assets\n"
     ]
    },
    {
     "name": "stderr",
     "output_type": "stream",
     "text": [
      "INFO:tensorflow:Assets written to: models/model-06-blstm-3layer.tf/assets\n"
     ]
    },
    {
     "name": "stdout",
     "output_type": "stream",
     "text": [
      "3192/3192 [==============================] - 232s 73ms/step - loss: 0.0438 - f1_m: 0.6889 - val_loss: 0.0509 - val_f1_m: 0.6665\n",
      "Epoch 5/10\n",
      "3192/3192 [==============================] - ETA: 0s - loss: 0.0403 - f1_m: 0.7114INFO:tensorflow:Assets written to: models/model-06-blstm-3layer.tf/assets\n"
     ]
    },
    {
     "name": "stderr",
     "output_type": "stream",
     "text": [
      "INFO:tensorflow:Assets written to: models/model-06-blstm-3layer.tf/assets\n"
     ]
    },
    {
     "name": "stdout",
     "output_type": "stream",
     "text": [
      "3192/3192 [==============================] - 242s 76ms/step - loss: 0.0403 - f1_m: 0.7114 - val_loss: 0.0542 - val_f1_m: 0.6687\n",
      "Epoch 6/10\n",
      "3192/3192 [==============================] - 228s 71ms/step - loss: 0.0373 - f1_m: 0.7286 - val_loss: 0.0538 - val_f1_m: 0.6622\n",
      "Epoch 7/10\n",
      "3192/3192 [==============================] - ETA: 0s - loss: 0.0345 - f1_m: 0.7566INFO:tensorflow:Assets written to: models/model-06-blstm-3layer.tf/assets\n"
     ]
    },
    {
     "name": "stderr",
     "output_type": "stream",
     "text": [
      "INFO:tensorflow:Assets written to: models/model-06-blstm-3layer.tf/assets\n"
     ]
    },
    {
     "name": "stdout",
     "output_type": "stream",
     "text": [
      "3192/3192 [==============================] - 228s 71ms/step - loss: 0.0345 - f1_m: 0.7566 - val_loss: 0.0593 - val_f1_m: 0.6696\n",
      "Epoch 8/10\n",
      "3192/3192 [==============================] - 211s 66ms/step - loss: 0.0323 - f1_m: 0.7615 - val_loss: 0.0601 - val_f1_m: 0.6615\n",
      "Epoch 9/10\n",
      "3192/3192 [==============================] - 226s 71ms/step - loss: 0.0298 - f1_m: 0.7851 - val_loss: 0.0666 - val_f1_m: 0.6679\n",
      "Epoch 10/10\n",
      "3192/3192 [==============================] - 220s 69ms/step - loss: 0.0281 - f1_m: 0.8011 - val_loss: 0.0717 - val_f1_m: 0.6688\n"
     ]
    },
    {
     "data": {
      "text/plain": [
       "<keras.src.callbacks.History at 0x5619ef970>"
      ]
     },
     "execution_count": 163,
     "metadata": {},
     "output_type": "execute_result"
    }
   ],
   "source": [
    "# Compile the model\n",
    "model_6.compile(loss=\"binary_crossentropy\",\n",
    "                optimizer=\"adam\",\n",
    "                metrics=[f1_m])\n",
    "\n",
    "# Model checkpoint\n",
    "checkpoint = ModelCheckpoint(\"models/model-06-blstm-3layer.tf\", \n",
    "                             monitor=\"val_f1_m\", \n",
    "                             save_best_only=True,\n",
    "                             mode=\"max\")\n",
    "\n",
    "# Fit the model\n",
    "model_6.fit(tokens_train, y_train,\n",
    "            batch_size=32,\n",
    "            epochs=10,\n",
    "            validation_split=0.2,\n",
    "            callbacks=[checkpoint])"
   ]
  },
  {
   "cell_type": "code",
   "execution_count": 164,
   "metadata": {
    "tags": []
   },
   "outputs": [],
   "source": [
    "# Load the best model\n",
    "model_6 = load_model(\"models/model-06-blstm-3layer.tf\", custom_objects={\"f1_m\": f1_m})"
   ]
  },
  {
   "cell_type": "code",
   "execution_count": 165,
   "metadata": {
    "tags": []
   },
   "outputs": [
    {
     "name": "stderr",
     "output_type": "stream",
     "text": [
      "2024-08-31 01:18:07.183010: I tensorflow/core/grappler/optimizers/custom_graph_optimizer_registry.cc:114] Plugin optimizer for device_type GPU is enabled.\n",
      "2024-08-31 01:18:07.464945: I tensorflow/core/grappler/optimizers/custom_graph_optimizer_registry.cc:114] Plugin optimizer for device_type GPU is enabled.\n",
      "2024-08-31 01:18:07.551142: I tensorflow/core/grappler/optimizers/custom_graph_optimizer_registry.cc:114] Plugin optimizer for device_type GPU is enabled.\n",
      "2024-08-31 01:18:08.855911: I tensorflow/core/grappler/optimizers/custom_graph_optimizer_registry.cc:114] Plugin optimizer for device_type GPU is enabled.\n",
      "2024-08-31 01:18:09.241278: I tensorflow/core/grappler/optimizers/custom_graph_optimizer_registry.cc:114] Plugin optimizer for device_type GPU is enabled.\n",
      "2024-08-31 01:18:09.724277: I tensorflow/core/grappler/optimizers/custom_graph_optimizer_registry.cc:114] Plugin optimizer for device_type GPU is enabled.\n",
      "2024-08-31 01:18:09.736701: I tensorflow/core/grappler/optimizers/custom_graph_optimizer_registry.cc:114] Plugin optimizer for device_type GPU is enabled.\n"
     ]
    },
    {
     "name": "stdout",
     "output_type": "stream",
     "text": [
      "32/32 [==============================] - 7s 89ms/step\n"
     ]
    },
    {
     "name": "stderr",
     "output_type": "stream",
     "text": [
      "/Users/chesie/anaconda3/lib/python3.10/site-packages/sklearn/metrics/_classification.py:1469: UndefinedMetricWarning: Precision is ill-defined and being set to 0.0 due to no predicted samples. Use `zero_division` parameter to control this behavior.\n",
      "  _warn_prf(average, modifier, msg_start, len(result))\n",
      "/Users/chesie/anaconda3/lib/python3.10/site-packages/sklearn/metrics/_classification.py:1469: UndefinedMetricWarning: Precision is ill-defined and being set to 0.0 due to no predicted samples. Use `zero_division` parameter to control this behavior.\n",
      "  _warn_prf(average, modifier, msg_start, len(result))\n",
      "/Users/chesie/anaconda3/lib/python3.10/site-packages/sklearn/metrics/_classification.py:1469: UndefinedMetricWarning: Precision is ill-defined and being set to 0.0 due to no predicted samples. Use `zero_division` parameter to control this behavior.\n",
      "  _warn_prf(average, modifier, msg_start, len(result))\n",
      "/Users/chesie/anaconda3/lib/python3.10/site-packages/sklearn/metrics/_classification.py:1469: UndefinedMetricWarning: Precision is ill-defined and being set to 0.0 due to no predicted samples. Use `zero_division` parameter to control this behavior.\n",
      "  _warn_prf(average, modifier, msg_start, len(result))\n"
     ]
    },
    {
     "name": "stdout",
     "output_type": "stream",
     "text": [
      "\n",
      "\n"
     ]
    },
    {
     "data": {
      "text/html": [
       "<div>\n",
       "<style scoped>\n",
       "    .dataframe tbody tr th:only-of-type {\n",
       "        vertical-align: middle;\n",
       "    }\n",
       "\n",
       "    .dataframe tbody tr th {\n",
       "        vertical-align: top;\n",
       "    }\n",
       "\n",
       "    .dataframe thead th {\n",
       "        text-align: right;\n",
       "    }\n",
       "</style>\n",
       "<table border=\"1\" class=\"dataframe\">\n",
       "  <thead>\n",
       "    <tr style=\"text-align: right;\">\n",
       "      <th></th>\n",
       "      <th>Toxic</th>\n",
       "      <th>Severe_Toxic</th>\n",
       "      <th>Obscene</th>\n",
       "      <th>Threat</th>\n",
       "      <th>Insult</th>\n",
       "      <th>Identity_Hate</th>\n",
       "    </tr>\n",
       "  </thead>\n",
       "  <tbody>\n",
       "    <tr>\n",
       "      <th>Accuracy</th>\n",
       "      <td>0.9590</td>\n",
       "      <td>0.9876</td>\n",
       "      <td>0.9804</td>\n",
       "      <td>0.9956</td>\n",
       "      <td>0.9735</td>\n",
       "      <td>0.9919</td>\n",
       "    </tr>\n",
       "    <tr>\n",
       "      <th>Precision</th>\n",
       "      <td>0.8004</td>\n",
       "      <td>0.4110</td>\n",
       "      <td>0.8383</td>\n",
       "      <td>0.3667</td>\n",
       "      <td>0.7383</td>\n",
       "      <td>0.5395</td>\n",
       "    </tr>\n",
       "    <tr>\n",
       "      <th>Recall</th>\n",
       "      <td>0.7525</td>\n",
       "      <td>0.6218</td>\n",
       "      <td>0.7747</td>\n",
       "      <td>0.4037</td>\n",
       "      <td>0.7085</td>\n",
       "      <td>0.4473</td>\n",
       "    </tr>\n",
       "    <tr>\n",
       "      <th>F1</th>\n",
       "      <td>0.7757</td>\n",
       "      <td>0.4949</td>\n",
       "      <td>0.8052</td>\n",
       "      <td>0.3843</td>\n",
       "      <td>0.7231</td>\n",
       "      <td>0.4891</td>\n",
       "    </tr>\n",
       "  </tbody>\n",
       "</table>\n",
       "</div>"
      ],
      "text/plain": [
       "            Toxic  Severe_Toxic  Obscene  Threat  Insult  Identity_Hate\n",
       "Accuracy   0.9590        0.9876   0.9804  0.9956  0.9735         0.9919\n",
       "Precision  0.8004        0.4110   0.8383  0.3667  0.7383         0.5395\n",
       "Recall     0.7525        0.6218   0.7747  0.4037  0.7085         0.4473\n",
       "F1         0.7757        0.4949   0.8052  0.3843  0.7231         0.4891"
      ]
     },
     "metadata": {},
     "output_type": "display_data"
    },
    {
     "name": "stdout",
     "output_type": "stream",
     "text": [
      "\n",
      "\n"
     ]
    },
    {
     "data": {
      "image/png": "[encoded data removed]",
      "text/plain": [
       "<Figure size 1200x600 with 1 Axes>"
      ]
     },
     "metadata": {},
     "output_type": "display_data"
    }
   ],
   "source": [
    "# Make predictions\n",
    "y_pred = model_6.predict([tokens_dev], batch_size=1024, verbose=1)\n",
    "\n",
    "# Evaluate the performance\n",
    "Model_OverallPerformance(y_pred, y_dev.values, adjustThreshold=True, Thresholdplot=False)"
   ]
  },
  {
   "cell_type": "markdown",
   "metadata": {},
   "source": [
    "_The **3-Layer BLSTM** showed a slight **decline in performance** compared to the 1-Layer and 2-Layer BLSTM models, particularly in the **threat** category where the **F1 score dropped to 0.38**.  This indicates that adding more layers may lead to **overfitting**, which reduces test performance._  "
   ]
  },
  {
   "cell_type": "markdown",
   "metadata": {},
   "source": [
    "  "
   ]
  },
  {
   "cell_type": "markdown",
   "metadata": {},
   "source": [
    "### 3.7 Result"
   ]
  },
  {
   "cell_type": "markdown",
   "metadata": {},
   "source": [
    "_The table below summarizes the F1 scores for each subcategory across different models. The **1-layer Bidirectional LSTM model outperformed others in F1 scores across almost all toxic subtypes**, particularly in classes with severe imbalance._"
   ]
  },
  {
   "cell_type": "code",
   "execution_count": 180,
   "metadata": {
    "tags": []
   },
   "outputs": [
    {
     "data": {
      "text/html": [
       "<style type=\"text/css\">\n",
       "#T_cb370_row0_col3, #T_cb370_row1_col3, #T_cb370_row1_col4, #T_cb370_row2_col4, #T_cb370_row3_col3, #T_cb370_row4_col3, #T_cb370_row5_col3 {\n",
       "  background-color: #E5E9F1;\n",
       "}\n",
       "</style>\n",
       "<table id=\"T_cb370\">\n",
       "  <thead>\n",
       "    <tr>\n",
       "      <th class=\"blank level0\" >&nbsp;</th>\n",
       "      <th id=\"T_cb370_level0_col0\" class=\"col_heading level0 col0\" >DNN</th>\n",
       "      <th id=\"T_cb370_level0_col1\" class=\"col_heading level0 col1\" >CNN</th>\n",
       "      <th id=\"T_cb370_level0_col2\" class=\"col_heading level0 col2\" >CNN + LSTM</th>\n",
       "      <th id=\"T_cb370_level0_col3\" class=\"col_heading level0 col3\" >1-Layer BLSTM</th>\n",
       "      <th id=\"T_cb370_level0_col4\" class=\"col_heading level0 col4\" >2-Layer BLSTM</th>\n",
       "      <th id=\"T_cb370_level0_col5\" class=\"col_heading level0 col5\" >3-Layer BLSTM</th>\n",
       "    </tr>\n",
       "  </thead>\n",
       "  <tbody>\n",
       "    <tr>\n",
       "      <th id=\"T_cb370_level0_row0\" class=\"row_heading level0 row0\" >Toxic</th>\n",
       "      <td id=\"T_cb370_row0_col0\" class=\"data row0 col0\" >0.739800</td>\n",
       "      <td id=\"T_cb370_row0_col1\" class=\"data row0 col1\" >0.768400</td>\n",
       "      <td id=\"T_cb370_row0_col2\" class=\"data row0 col2\" >0.782000</td>\n",
       "      <td id=\"T_cb370_row0_col3\" class=\"data row0 col3\" >0.787000</td>\n",
       "      <td id=\"T_cb370_row0_col4\" class=\"data row0 col4\" >0.781900</td>\n",
       "      <td id=\"T_cb370_row0_col5\" class=\"data row0 col5\" >0.775700</td>\n",
       "    </tr>\n",
       "    <tr>\n",
       "      <th id=\"T_cb370_level0_row1\" class=\"row_heading level0 row1\" >Severe_Toxic</th>\n",
       "      <td id=\"T_cb370_row1_col0\" class=\"data row1 col0\" >0.464800</td>\n",
       "      <td id=\"T_cb370_row1_col1\" class=\"data row1 col1\" >0.481000</td>\n",
       "      <td id=\"T_cb370_row1_col2\" class=\"data row1 col2\" >0.492300</td>\n",
       "      <td id=\"T_cb370_row1_col3\" class=\"data row1 col3\" >0.500600</td>\n",
       "      <td id=\"T_cb370_row1_col4\" class=\"data row1 col4\" >0.500600</td>\n",
       "      <td id=\"T_cb370_row1_col5\" class=\"data row1 col5\" >0.494900</td>\n",
       "    </tr>\n",
       "    <tr>\n",
       "      <th id=\"T_cb370_level0_row2\" class=\"row_heading level0 row2\" >Obscene</th>\n",
       "      <td id=\"T_cb370_row2_col0\" class=\"data row2 col0\" >0.789200</td>\n",
       "      <td id=\"T_cb370_row2_col1\" class=\"data row2 col1\" >0.798800</td>\n",
       "      <td id=\"T_cb370_row2_col2\" class=\"data row2 col2\" >0.806900</td>\n",
       "      <td id=\"T_cb370_row2_col3\" class=\"data row2 col3\" >0.811800</td>\n",
       "      <td id=\"T_cb370_row2_col4\" class=\"data row2 col4\" >0.812300</td>\n",
       "      <td id=\"T_cb370_row2_col5\" class=\"data row2 col5\" >0.805200</td>\n",
       "    </tr>\n",
       "    <tr>\n",
       "      <th id=\"T_cb370_level0_row3\" class=\"row_heading level0 row3\" >Threat</th>\n",
       "      <td id=\"T_cb370_row3_col0\" class=\"data row3 col0\" >0.411000</td>\n",
       "      <td id=\"T_cb370_row3_col1\" class=\"data row3 col1\" >0.470600</td>\n",
       "      <td id=\"T_cb370_row3_col2\" class=\"data row3 col2\" >0.430800</td>\n",
       "      <td id=\"T_cb370_row3_col3\" class=\"data row3 col3\" >0.485400</td>\n",
       "      <td id=\"T_cb370_row3_col4\" class=\"data row3 col4\" >0.458300</td>\n",
       "      <td id=\"T_cb370_row3_col5\" class=\"data row3 col5\" >0.384300</td>\n",
       "    </tr>\n",
       "    <tr>\n",
       "      <th id=\"T_cb370_level0_row4\" class=\"row_heading level0 row4\" >Insult</th>\n",
       "      <td id=\"T_cb370_row4_col0\" class=\"data row4 col0\" >0.695900</td>\n",
       "      <td id=\"T_cb370_row4_col1\" class=\"data row4 col1\" >0.724900</td>\n",
       "      <td id=\"T_cb370_row4_col2\" class=\"data row4 col2\" >0.720900</td>\n",
       "      <td id=\"T_cb370_row4_col3\" class=\"data row4 col3\" >0.733600</td>\n",
       "      <td id=\"T_cb370_row4_col4\" class=\"data row4 col4\" >0.725600</td>\n",
       "      <td id=\"T_cb370_row4_col5\" class=\"data row4 col5\" >0.723100</td>\n",
       "    </tr>\n",
       "    <tr>\n",
       "      <th id=\"T_cb370_level0_row5\" class=\"row_heading level0 row5\" >Identity_Hate</th>\n",
       "      <td id=\"T_cb370_row5_col0\" class=\"data row5 col0\" >0.475800</td>\n",
       "      <td id=\"T_cb370_row5_col1\" class=\"data row5 col1\" >0.503100</td>\n",
       "      <td id=\"T_cb370_row5_col2\" class=\"data row5 col2\" >0.486800</td>\n",
       "      <td id=\"T_cb370_row5_col3\" class=\"data row5 col3\" >0.540400</td>\n",
       "      <td id=\"T_cb370_row5_col4\" class=\"data row5 col4\" >0.495900</td>\n",
       "      <td id=\"T_cb370_row5_col5\" class=\"data row5 col5\" >0.489100</td>\n",
       "    </tr>\n",
       "  </tbody>\n",
       "</table>\n"
      ],
      "text/plain": [
       "<pandas.io.formats.style.Styler at 0x53f306c50>"
      ]
     },
     "execution_count": 180,
     "metadata": {},
     "output_type": "execute_result"
    }
   ],
   "source": [
    "# Define the data for each model\n",
    "result = {\n",
    "    \"DNN\": [0.7398, 0.4648, 0.7892, 0.4110, 0.6959, 0.4758],\n",
    "    \"CNN\": [0.7684, 0.4810, 0.7988, 0.4706, 0.7249, 0.5031],\n",
    "    \"CNN + LSTM\": [0.7820, 0.4923, 0.8069, 0.4308, 0.7209, 0.4868],\n",
    "    \"1-Layer BLSTM\": [0.7870, 0.5006, 0.8118, 0.4854, 0.7336, 0.5404],\n",
    "    \"2-Layer BLSTM\": [0.7819, 0.5006, 0.8123, 0.4583, 0.7256, 0.4959],\n",
    "    \"3-Layer BLSTM\": [0.7757, 0.4949, 0.8052, 0.3843, 0.7231, 0.4891]\n",
    "}\n",
    "\n",
    "# Create a DataFrame\n",
    "result = pd.DataFrame(result, index=[\"Toxic\", \"Severe_Toxic\", \"Obscene\", \n",
    "                                   \"Threat\", \"Insult\", \"Identity_Hate\"])\n",
    "\n",
    "# Display the DataFrame\n",
    "result.style.highlight_max(axis=1, color=\"#E5E9F1\")"
   ]
  },
  {
   "cell_type": "markdown",
   "metadata": {},
   "source": [
    "_We observed several trends from the experiment:_  \n",
    "\n",
    "_**Higher Performance in Less Imbalanced Classes**_  \n",
    "_Overall, less imbalanced classes, such as toxic, obscene, and insult, achieved higher F1 scores than more imabalanced ones like severe toxic, threat, and identity hate. **Increased availability of training data** enables models to **capture class features more effectively**, which in turn **influences model performance** across the six toxic subtypes._  \n",
    "\n",
    "_**Limitations of DNN and CNN in Contextual Understanding**_  \n",
    "_DNN and CNN models demonstrated suboptimal performance in Experiments 1 and 2. Toxic language can vary in expression, from subtle sarcasm to implicit insults, with meanings often dependent on context. The **absence of natural mechanism to capture word order** makes **DNNs** less effective for such tasks. **CNNs**, although effective at identifying local patterns, may **struggle to recognize longer dependencies and contextual relationships**.  On the other hand, the **1-Layer BLSTM model** outperformed DNN and CNN, as the **birectional information flow improves its ability to understand sequential data**, capturing the nuances in natural language._    \n",
    "\n",
    "_**Overfitting Risk with Excessive BLSTM Layers**_  \n",
    "_While BLSTM models yielded better results, **adding too many layers**, as observed in Experiment 6, could result in **overfitting**. The 3-layer BLSTM model consistently underperformed the 1-layer and 2-layer BLSTM under multiple hyperparameter settings, indicating it may be **too complex for our dataset and prone to overfitting**._   "
   ]
  }
 ],
 "metadata": {
  "colab": {
   "provenance": []
  },
  "kernelspec": {
   "display_name": "Python 3 (ipykernel)",
   "language": "python",
   "name": "python3"
  },
  "language_info": {
   "codemirror_mode": {
    "name": "ipython",
    "version": 3
   },
   "file_extension": ".py",
   "mimetype": "text/x-python",
   "name": "python",
   "nbconvert_exporter": "python",
   "pygments_lexer": "ipython3",
   "version": "3.10.13"
  }
 },
 "nbformat": 4,
 "nbformat_minor": 4
}
